{
 "cells": [
  {
   "cell_type": "markdown",
   "metadata": {},
   "source": [
    "# FST"
   ]
  },
  {
   "cell_type": "code",
   "execution_count": 1,
   "metadata": {},
   "outputs": [
    {
     "name": "stdout",
     "output_type": "stream",
     "text": [
      "5\n",
      "5\n"
     ]
    }
   ],
   "source": [
    "def main():\n",
    "    n = int(input())\n",
    "    cur_num = 2\n",
    "    if n == 0:\n",
    "        print(0)\n",
    "        return\n",
    "    fst, snd = 0, 1\n",
    "    while cur_num <= n:\n",
    "        fst, snd = snd, fst + snd\n",
    "        cur_num += 1\n",
    "    print(snd)\n",
    "\n",
    "main()"
   ]
  },
  {
   "cell_type": "markdown",
   "metadata": {},
   "source": [
    "# SND"
   ]
  },
  {
   "cell_type": "raw",
   "metadata": {},
   "source": [
    "7\n",
    "shad\n",
    "python_hw\n",
    "is_easy\n",
    "next_empty\n",
    "\n",
    "but\n",
    "not_forever"
   ]
  },
  {
   "cell_type": "code",
   "execution_count": null,
   "metadata": {
    "collapsed": true
   },
   "outputs": [],
   "source": []
  },
  {
   "cell_type": "code",
   "execution_count": 19,
   "metadata": {},
   "outputs": [
    {
     "name": "stdout",
     "output_type": "stream",
     "text": [
      "7\n",
      "shad\n",
      "s h a d sh ha ad sha had shad\n",
      "python_hw\n",
      "p y t h o n _ h w py yt th ho on n_ _h hw pyt yth tho hon on_ n_h _hw pyth ytho thon hon_ on_h n_hw pytho ython thon_ hon_h on_hw python ython_ thon_h hon_hw python_ ython_h thon_hw python_h ython_hw python_hw\n",
      "is_easy\n",
      "i s _ e a s y is s_ _e ea as sy is_ s_e _ea eas asy is_e s_ea _eas easy is_ea s_eas _easy is_eas s_easy is_easy\n",
      "next_empty\n",
      "n e x t _ e m p t y ne ex xt t_ _e em mp pt ty nex ext xt_ t_e _em emp mpt pty next ext_ xt_e t_em _emp empt mpty next_ ext_e xt_em t_emp _empt empty next_e ext_em xt_emp t_empt _empty next_em ext_emp xt_empt t_empty next_emp ext_empt xt_empty next_empt ext_empty next_empty\n",
      "\n",
      "\n",
      "but\n",
      "b u t bu ut but\n",
      "not_forever\n",
      "n o t _ f o r e v e r no ot t_ _f fo or re ev ve er not ot_ t_f _fo for ore rev eve ver not_ ot_f t_fo _for fore orev reve ever not_f ot_fo t_for _fore forev oreve rever not_fo ot_for t_fore _forev foreve orever not_for ot_fore t_forev _foreve forever not_fore ot_forev t_foreve _forever not_forev ot_foreve t_forever not_foreve ot_forever not_forever\n"
     ]
    }
   ],
   "source": [
    "def main():\n",
    "    n = int(input())\n",
    "    for i in range(n):\n",
    "        cur_word = raw_input()\n",
    "        to_print = []\n",
    "        for j in range(1, len(cur_word) + 1):\n",
    "            for k in range(len(cur_word) - j + 1):\n",
    "                to_print.append(cur_word[k:k + j])\n",
    "        print(' '.join(to_print))\n",
    "        \n",
    "main()"
   ]
  },
  {
   "cell_type": "markdown",
   "metadata": {},
   "source": [
    "# THIRD\n"
   ]
  },
  {
   "cell_type": "code",
   "execution_count": 25,
   "metadata": {
    "collapsed": true
   },
   "outputs": [],
   "source": [
    "import numpy as np"
   ]
  },
  {
   "cell_type": "code",
   "execution_count": 38,
   "metadata": {},
   "outputs": [
    {
     "name": "stdout",
     "output_type": "stream",
     "text": [
      "2\n",
      "3 4\n",
      "5.0\n"
     ]
    }
   ],
   "source": [
    "def main():\n",
    "    p = int(input())\n",
    "    powered = map(lambda x: int(x) ** p, raw_input().split())\n",
    "    print(sum(powered) ** (1. / p))\n",
    "    \n",
    "main()"
   ]
  },
  {
   "cell_type": "markdown",
   "metadata": {},
   "source": [
    "# FOURTH\n"
   ]
  },
  {
   "cell_type": "code",
   "execution_count": 49,
   "metadata": {},
   "outputs": [
    {
     "name": "stdout",
     "output_type": "stream",
     "text": [
      "2\n",
      "[][]\n",
      "yes\n",
      "{\n",
      "no\n"
     ]
    }
   ],
   "source": [
    "def main():\n",
    "    n = int(input())\n",
    "    mapper = {'}':'{', ')':'(', ']':'['}\n",
    "    for i in range(n):\n",
    "        ans = True\n",
    "        cbs = raw_input()\n",
    "        checker = []\n",
    "        for symbol in cbs:\n",
    "            if symbol in {'[', '{', '('}:\n",
    "                checker.append(symbol)\n",
    "            else:\n",
    "                if len(checker) == 0:\n",
    "                    ans = False\n",
    "                else:\n",
    "                    if mapper[symbol] != checker.pop():\n",
    "                        ans = False\n",
    "        \n",
    "        if len(checker) > 0 or ans == False:\n",
    "            print('no')\n",
    "        else:\n",
    "            print('yes')\n",
    "        \n",
    "main()"
   ]
  },
  {
   "cell_type": "markdown",
   "metadata": {},
   "source": [
    "# FIFTH"
   ]
  },
  {
   "cell_type": "code",
   "execution_count": 85,
   "metadata": {},
   "outputs": [
    {
     "name": "stdout",
     "output_type": "stream",
     "text": [
      "213\n",
      "213\n"
     ]
    }
   ],
   "source": [
    "data = map(int, raw_input().split())\n",
    "print "
   ]
  },
  {
   "cell_type": "code",
   "execution_count": 152,
   "metadata": {},
   "outputs": [
    {
     "name": "stdout",
     "output_type": "stream",
     "text": [
      "\n"
     ]
    }
   ],
   "source": [
    "# import no_standard_sort\n",
    "\n",
    "\n",
    "def slit(seq1, seq2):\n",
    "    '''\n",
    "    params:\n",
    "    seq1: \n",
    "    seq2: \n",
    "    '''\n",
    "    seq1 = list(seq1)\n",
    "    seq2 = list(seq2)\n",
    "    resultant_seq = []\n",
    "    first_pointer, second_pointer = 0, 0\n",
    "    while (first_pointer < len(seq1)) and second_pointer < (len(seq2)):\n",
    "        if seq1[first_pointer] < seq2[second_pointer]:\n",
    "            resultant_seq.append(seq1[first_pointer])\n",
    "            first_pointer += 1\n",
    "        else:\n",
    "            resultant_seq.append(seq2[second_pointer])\n",
    "            second_pointer += 1\n",
    "    if first_pointer == len(seq1):\n",
    "        resultant_seq += seq2[second_pointer:]\n",
    "    else:\n",
    "        resultant_seq += seq1[first_pointer:]\n",
    "    return resultant_seq\n",
    "\n",
    "def vizivaet_slit(seq):\n",
    "    if(len(seq) == 1):\n",
    "        return seq\n",
    "    middle = len(seq) / 2\n",
    "    return slit( vizivaet_slit(seq[:middle]), vizivaet_slit(seq[middle:]) )\n",
    "\n",
    "\n",
    "\n",
    "def main():\n",
    "    data = map(int, raw_input().split())\n",
    "    if len(data) == 0:\n",
    "        return\n",
    "    result = vizivaet_slit(data)\n",
    "    print(' '.join(map(str, result)))\n",
    "\n",
    "main()"
   ]
  },
  {
   "cell_type": "code",
   "execution_count": 103,
   "metadata": {
    "collapsed": true
   },
   "outputs": [],
   "source": [
    "import scipy.stats as sps"
   ]
  },
  {
   "cell_type": "code",
   "execution_count": 134,
   "metadata": {},
   "outputs": [
    {
     "data": {
      "text/plain": [
       "array([1, 3, 3, 4, 6, 2])"
      ]
     },
     "execution_count": 134,
     "metadata": {},
     "output_type": "execute_result"
    }
   ],
   "source": [
    "datka = sps.poisson.rvs(3, size=6)\n",
    "datka"
   ]
  },
  {
   "cell_type": "code",
   "execution_count": 135,
   "metadata": {},
   "outputs": [
    {
     "data": {
      "text/plain": [
       "[1, 2, 3, 3, 4, 6]"
      ]
     },
     "execution_count": 135,
     "metadata": {},
     "output_type": "execute_result"
    }
   ],
   "source": [
    "sorted(datka)"
   ]
  },
  {
   "cell_type": "code",
   "execution_count": 136,
   "metadata": {},
   "outputs": [
    {
     "data": {
      "text/plain": [
       "array([19])"
      ]
     },
     "execution_count": 136,
     "metadata": {},
     "output_type": "execute_result"
    }
   ],
   "source": [
    "vizivaet_slit(datka)"
   ]
  },
  {
   "cell_type": "code",
   "execution_count": 132,
   "metadata": {},
   "outputs": [
    {
     "data": {
      "text/plain": [
       "[1, 2, 2, 3, 3, 7, 8]"
      ]
     },
     "execution_count": 132,
     "metadata": {},
     "output_type": "execute_result"
    }
   ],
   "source": [
    "vizivaet_slit([1,3,3,7,2,2,8])"
   ]
  },
  {
   "cell_type": "code",
   "execution_count": 137,
   "metadata": {
    "collapsed": true
   },
   "outputs": [],
   "source": [
    "kdsak = [1,3,3,5]"
   ]
  },
  {
   "cell_type": "code",
   "execution_count": 138,
   "metadata": {
    "collapsed": true
   },
   "outputs": [],
   "source": [
    "irwiw = kdsak[:2]"
   ]
  },
  {
   "cell_type": "code",
   "execution_count": 139,
   "metadata": {
    "collapsed": true
   },
   "outputs": [],
   "source": [
    "irwiw[0]= 13337"
   ]
  },
  {
   "cell_type": "code",
   "execution_count": 167,
   "metadata": {},
   "outputs": [
    {
     "data": {
      "text/plain": [
       "array([2, 2, 1, ..., 1, 3, 4])"
      ]
     },
     "execution_count": 167,
     "metadata": {},
     "output_type": "execute_result"
    }
   ],
   "source": [
    "datka = sps.poisson.rvs(3, size=1000000)\n",
    "datka"
   ]
  },
  {
   "cell_type": "code",
   "execution_count": 168,
   "metadata": {
    "collapsed": true
   },
   "outputs": [],
   "source": [
    "sr1 = sorted(datka)"
   ]
  },
  {
   "cell_type": "code",
   "execution_count": 169,
   "metadata": {
    "scrolled": false
   },
   "outputs": [],
   "source": [
    "sr2 = vizivaet_slit(datka)"
   ]
  },
  {
   "cell_type": "code",
   "execution_count": 170,
   "metadata": {},
   "outputs": [
    {
     "data": {
      "text/plain": [
       "[0, 0, 0, 0, 0, 0, 0, 0, 0, 0]"
      ]
     },
     "execution_count": 170,
     "metadata": {},
     "output_type": "execute_result"
    }
   ],
   "source": [
    "sr2[:10]"
   ]
  },
  {
   "cell_type": "code",
   "execution_count": 171,
   "metadata": {},
   "outputs": [
    {
     "data": {
      "text/plain": [
       "[0, 0, 0, 0, 0, 0, 0, 0, 0, 0]"
      ]
     },
     "execution_count": 171,
     "metadata": {},
     "output_type": "execute_result"
    }
   ],
   "source": [
    "sr1[:10]"
   ]
  },
  {
   "cell_type": "code",
   "execution_count": 172,
   "metadata": {},
   "outputs": [
    {
     "data": {
      "text/plain": [
       "0"
      ]
     },
     "execution_count": 172,
     "metadata": {},
     "output_type": "execute_result"
    }
   ],
   "source": [
    "sum([sr1[i] - sr2[i] for i in range(len(sr1))])"
   ]
  },
  {
   "cell_type": "code",
   "execution_count": 174,
   "metadata": {},
   "outputs": [
    {
     "name": "stdout",
     "output_type": "stream",
     "text": [
      "12 120 12 -12  3 1  -2 1 9 48 213 921\n",
      "-12 -2 1 1 3 9 12 12 48 120 213 921\n"
     ]
    }
   ],
   "source": [
    "main()"
   ]
  },
  {
   "cell_type": "markdown",
   "metadata": {},
   "source": [
    "# SIXTH"
   ]
  },
  {
   "cell_type": "code",
   "execution_count": 182,
   "metadata": {},
   "outputs": [
    {
     "ename": "TypeError",
     "evalue": "cannot concatenate 'str' and 'int' objects",
     "output_type": "error",
     "traceback": [
      "\u001b[0;31m---------------------------------------------------------------------------\u001b[0m",
      "\u001b[0;31mTypeError\u001b[0m                                 Traceback (most recent call last)",
      "\u001b[0;32m<ipython-input-182-35d482526d2d>\u001b[0m in \u001b[0;36m<module>\u001b[0;34m()\u001b[0m\n\u001b[0;32m----> 1\u001b[0;31m \u001b[0mchr\u001b[0m\u001b[0;34m(\u001b[0m\u001b[0;34m'a'\u001b[0m \u001b[0;34m+\u001b[0m \u001b[0;36m1\u001b[0m\u001b[0;34m)\u001b[0m\u001b[0;34m\u001b[0m\u001b[0m\n\u001b[0m",
      "\u001b[0;31mTypeError\u001b[0m: cannot concatenate 'str' and 'int' objects"
     ]
    }
   ],
   "source": [
    "chr('a' + 1)"
   ]
  },
  {
   "cell_type": "code",
   "execution_count": 183,
   "metadata": {
    "collapsed": true
   },
   "outputs": [],
   "source": [
    "from collections import defaultdict"
   ]
  },
  {
   "cell_type": "code",
   "execution_count": 196,
   "metadata": {},
   "outputs": [
    {
     "name": "stdout",
     "output_type": "stream",
     "text": [
      "e: 92\n",
      "t: 79\n",
      "a: 53\n",
      "i: 53\n",
      "s: 46\n",
      "o: 43\n",
      "n: 42\n",
      "l: 33\n",
      "r: 33\n",
      "h: 31\n",
      "p: 22\n",
      "b: 21\n",
      "u: 21\n",
      "c: 17\n",
      "d: 17\n",
      "y: 17\n",
      "m: 16\n",
      "f: 12\n",
      "g: 11\n",
      "x: 6\n",
      "v: 5\n",
      "w: 4\n",
      "k: 2\n",
      "z: 1\n"
     ]
    }
   ],
   "source": [
    "def main():\n",
    "    dictionary = {chr(ord('a') + i):0 for i in range(26)}\n",
    "    with open('dzPythonZen.txt', 'r+') as f:\n",
    "        data = f.read()\n",
    "        for symbol in data:\n",
    "            other_sym = chr(ord(symbol) + 32)\n",
    "            if symbol in dictionary:\n",
    "                dictionary[symbol] += 1\n",
    "            elif other_sym in dictionary:\n",
    "                dictionary[other_sym] += 1\n",
    "    for elem in sorted(dictionary.items(), key=lambda x: (-x[1], x[0])):\n",
    "        if elem[1] != 0:\n",
    "            print(elem[0] + ': ' + str(elem[1]))\n",
    "        \n",
    "main()"
   ]
  },
  {
   "cell_type": "code",
   "execution_count": 195,
   "metadata": {},
   "outputs": [
    {
     "name": "stdout",
     "output_type": "stream",
     "text": [
      "q\n"
     ]
    }
   ],
   "source": [
    "print(elem[0] + '')"
   ]
  },
  {
   "cell_type": "markdown",
   "metadata": {},
   "source": [
    "# Seventh"
   ]
  },
  {
   "cell_type": "code",
   "execution_count": 212,
   "metadata": {},
   "outputs": [
    {
     "name": "stdout",
     "output_type": "stream",
     "text": [
      "2\n"
     ]
    }
   ],
   "source": [
    "n = int(input())\n",
    "with open('dzPythonZen.txt', 'r') as f:\n",
    "    asdwqe = f.readlines()\n",
    "    for line in f.readlines():\n",
    "        print line\n",
    "    qwjri = map(lambda elem: elem.split(), asdwqe)"
   ]
  },
  {
   "cell_type": "code",
   "execution_count": 216,
   "metadata": {},
   "outputs": [],
   "source": [
    "qwjri = map(lambda elem: elem.split(), asdwqe)"
   ]
  },
  {
   "cell_type": "code",
   "execution_count": 218,
   "metadata": {
    "collapsed": true
   },
   "outputs": [
    {
     "data": {
      "text/plain": [
       "[['The', 'Zen', 'of', 'Python,', 'by', 'Tim', 'Peters'],\n",
       " [],\n",
       " ['Beautiful', 'is', 'better', 'than', 'ugly.'],\n",
       " ['Explicit', 'is', 'better', 'than', 'implicit.'],\n",
       " ['Simple', 'is', 'better', 'than', 'complex.'],\n",
       " ['Complex', 'is', 'better', 'than', 'complicated.'],\n",
       " ['Flat', 'is', 'better', 'than', 'nested.'],\n",
       " ['Sparse', 'is', 'better', 'than', 'dense.'],\n",
       " ['Readability', 'counts.'],\n",
       " ['Special',\n",
       "  'cases',\n",
       "  \"aren't\",\n",
       "  'special',\n",
       "  'enough',\n",
       "  'to',\n",
       "  'break',\n",
       "  'the',\n",
       "  'rules.'],\n",
       " ['Although', 'practicality', 'beats', 'purity.'],\n",
       " ['Errors', 'should', 'never', 'pass', 'silently.'],\n",
       " ['Unless', 'explicitly', 'silenced.'],\n",
       " ['In',\n",
       "  'the',\n",
       "  'face',\n",
       "  'of',\n",
       "  'ambiguity,',\n",
       "  'refuse',\n",
       "  'the',\n",
       "  'temptation',\n",
       "  'to',\n",
       "  'guess.'],\n",
       " ['There',\n",
       "  'should',\n",
       "  'be',\n",
       "  'one--',\n",
       "  'and',\n",
       "  'preferably',\n",
       "  'only',\n",
       "  'one',\n",
       "  '--obvious',\n",
       "  'way',\n",
       "  'to',\n",
       "  'do',\n",
       "  'it.'],\n",
       " ['Although',\n",
       "  'that',\n",
       "  'way',\n",
       "  'may',\n",
       "  'not',\n",
       "  'be',\n",
       "  'obvious',\n",
       "  'at',\n",
       "  'first',\n",
       "  'unless',\n",
       "  \"you're\",\n",
       "  'Dutch.'],\n",
       " ['Now', 'is', 'better', 'than', 'never.'],\n",
       " ['Although', 'never', 'is', 'often', 'better', 'than', '*right*', 'now.'],\n",
       " ['If',\n",
       "  'the',\n",
       "  'implementation',\n",
       "  'is',\n",
       "  'hard',\n",
       "  'to',\n",
       "  'explain,',\n",
       "  \"it's\",\n",
       "  'a',\n",
       "  'bad',\n",
       "  'idea.'],\n",
       " ['If',\n",
       "  'the',\n",
       "  'implementation',\n",
       "  'is',\n",
       "  'easy',\n",
       "  'to',\n",
       "  'explain,',\n",
       "  'it',\n",
       "  'may',\n",
       "  'be',\n",
       "  'a',\n",
       "  'good',\n",
       "  'idea.'],\n",
       " ['Namespaces',\n",
       "  'are',\n",
       "  'one',\n",
       "  'honking',\n",
       "  'great',\n",
       "  'idea',\n",
       "  '--',\n",
       "  \"let's\",\n",
       "  'do',\n",
       "  'more',\n",
       "  'of',\n",
       "  'those!']]"
      ]
     },
     "execution_count": 218,
     "metadata": {},
     "output_type": "execute_result"
    }
   ],
   "source": [
    "qwjri"
   ]
  },
  {
   "cell_type": "code",
   "execution_count": 222,
   "metadata": {
    "collapsed": true
   },
   "outputs": [],
   "source": [
    "from tqdm import tqdm"
   ]
  },
  {
   "cell_type": "code",
   "execution_count": 242,
   "metadata": {},
   "outputs": [
    {
     "name": "stdout",
     "output_type": "stream",
     "text": [
      "2\n"
     ]
    },
    {
     "ename": "IOError",
     "evalue": "[Errno 2] No such file or directory: 'input.txt'",
     "output_type": "error",
     "traceback": [
      "\u001b[0;31m---------------------------------------------------------------------------\u001b[0m",
      "\u001b[0;31mIOError\u001b[0m                                   Traceback (most recent call last)",
      "\u001b[0;32m<ipython-input-242-faa93d221a92>\u001b[0m in \u001b[0;36m<module>\u001b[0;34m()\u001b[0m\n\u001b[1;32m     33\u001b[0m     \u001b[0;32mprint\u001b[0m \u001b[0manswer\u001b[0m\u001b[0;34m\u001b[0m\u001b[0m\n\u001b[1;32m     34\u001b[0m \u001b[0;34m\u001b[0m\u001b[0m\n\u001b[0;32m---> 35\u001b[0;31m \u001b[0mmain\u001b[0m\u001b[0;34m(\u001b[0m\u001b[0;34m)\u001b[0m\u001b[0;34m\u001b[0m\u001b[0m\n\u001b[0m",
      "\u001b[0;32m<ipython-input-242-faa93d221a92>\u001b[0m in \u001b[0;36mmain\u001b[0;34m()\u001b[0m\n\u001b[1;32m      1\u001b[0m \u001b[0;32mdef\u001b[0m \u001b[0mmain\u001b[0m\u001b[0;34m(\u001b[0m\u001b[0;34m)\u001b[0m\u001b[0;34m:\u001b[0m\u001b[0;34m\u001b[0m\u001b[0m\n\u001b[1;32m      2\u001b[0m     \u001b[0mn\u001b[0m \u001b[0;34m=\u001b[0m \u001b[0mint\u001b[0m\u001b[0;34m(\u001b[0m\u001b[0minput\u001b[0m\u001b[0;34m(\u001b[0m\u001b[0;34m)\u001b[0m\u001b[0;34m)\u001b[0m\u001b[0;34m\u001b[0m\u001b[0m\n\u001b[0;32m----> 3\u001b[0;31m     \u001b[0;32mwith\u001b[0m \u001b[0mopen\u001b[0m\u001b[0;34m(\u001b[0m\u001b[0;34m'input.txt'\u001b[0m\u001b[0;34m,\u001b[0m \u001b[0;34m'r'\u001b[0m\u001b[0;34m)\u001b[0m \u001b[0;32mas\u001b[0m \u001b[0mf\u001b[0m\u001b[0;34m:\u001b[0m\u001b[0;34m\u001b[0m\u001b[0m\n\u001b[0m\u001b[1;32m      4\u001b[0m         \u001b[0masdwqe\u001b[0m \u001b[0;34m=\u001b[0m \u001b[0mf\u001b[0m\u001b[0;34m.\u001b[0m\u001b[0mreadlines\u001b[0m\u001b[0;34m(\u001b[0m\u001b[0;34m)\u001b[0m\u001b[0;34m\u001b[0m\u001b[0m\n\u001b[1;32m      5\u001b[0m     \u001b[0mqwjri\u001b[0m \u001b[0;34m=\u001b[0m \u001b[0mmap\u001b[0m\u001b[0;34m(\u001b[0m\u001b[0;32mlambda\u001b[0m \u001b[0melem\u001b[0m\u001b[0;34m:\u001b[0m \u001b[0melem\u001b[0m\u001b[0;34m.\u001b[0m\u001b[0msplit\u001b[0m\u001b[0;34m(\u001b[0m\u001b[0;34m)\u001b[0m\u001b[0;34m,\u001b[0m \u001b[0masdwqe\u001b[0m\u001b[0;34m)\u001b[0m\u001b[0;34m\u001b[0m\u001b[0m\n",
      "\u001b[0;31mIOError\u001b[0m: [Errno 2] No such file or directory: 'input.txt'"
     ]
    }
   ],
   "source": [
    "def main():\n",
    "    n = int(input())\n",
    "    with open('input.txt', 'r') as f:\n",
    "        asdwqe = f.readlines()\n",
    "    qwjri = map(lambda elem: elem.split(), asdwqe)\n",
    "    \n",
    "    answer = ''\n",
    "    for line in tqdm(qwjri):\n",
    "        if len(qwjri) == 0:\n",
    "            answer += '\\n'\n",
    "            continue\n",
    "        counter = 0\n",
    "        curpos = 0\n",
    "        while curpos < len(line):\n",
    "            if counter + len(line[curpos]) > n:\n",
    "                answer += '\\n'\n",
    "                counter = 0\n",
    "                continue\n",
    "            if counter == 0 and len(line[curpos]) > n:\n",
    "                answer += line[curpos]\n",
    "                answer += '\\n'\n",
    "                curpos += 1\n",
    "                continue\n",
    "            counter += len(line[curpos])\n",
    "            answer += line[curpos]\n",
    "            if counter != n:\n",
    "                answer += ' '\n",
    "                counter += 1\n",
    "            curpos += 1\n",
    "        if answer[-1] != '\\n':\n",
    "            answer += '\\n'\n",
    "            \n",
    "    print answer\n",
    "    \n",
    "main()"
   ]
  },
  {
   "cell_type": "code",
   "execution_count": 207,
   "metadata": {},
   "outputs": [],
   "source": [
    "splitted = data.split()"
   ]
  },
  {
   "cell_type": "code",
   "execution_count": 202,
   "metadata": {},
   "outputs": [
    {
     "name": "stdout",
     "output_type": "stream",
     "text": [
      "The Zen of Python, by Tim Peters\n",
      "\n",
      "Beautiful is better than ugly.\n",
      "Explicit is better than implicit.\n",
      "Simple is better than complex.\n",
      "Complex is better than complicated.\n",
      "Flat is better than nested.\n",
      "Sparse is better than dense.\n",
      "Readability counts.\n",
      "Special cases aren't special enough to break the rules.\n",
      "Although practicality beats purity.\n",
      "Errors should never pass silently.\n",
      "Unless explicitly silenced.\n",
      "In the face of ambiguity, refuse the temptation to guess.\n",
      "There should be one-- and preferably only one --obvious way to do it.\n",
      "Although that way may not be obvious at first unless you're Dutch.\n",
      "Now is better than never.\n",
      "Although never is often better than *right* now.\n",
      "If the implementation is hard to explain, it's a bad idea.\n",
      "If the implementation is easy to explain, it may be a good idea.\n",
      "Namespaces are one honking great idea -- let's do more of those!\n",
      "\n"
     ]
    }
   ],
   "source": [
    "print(data)"
   ]
  },
  {
   "cell_type": "code",
   "execution_count": 245,
   "metadata": {},
   "outputs": [
    {
     "data": {
      "text/plain": [
       "['The', 'Zen', 'of', 'Python,', 'by', 'Tim', 'Peters']"
      ]
     },
     "execution_count": 245,
     "metadata": {},
     "output_type": "execute_result"
    }
   ],
   "source": [
    "qwjri[0]"
   ]
  },
  {
   "cell_type": "code",
   "execution_count": 244,
   "metadata": {},
   "outputs": [
    {
     "name": "stdout",
     "output_type": "stream",
     "text": [
      "2\n"
     ]
    },
    {
     "name": "stderr",
     "output_type": "stream",
     "text": [
      "  0%|          | 0/21 [00:00<?, ?it/s]\n"
     ]
    },
    {
     "ename": "KeyboardInterrupt",
     "evalue": "",
     "output_type": "error",
     "traceback": [
      "\u001b[0;31m---------------------------------------------------------------------------\u001b[0m",
      "\u001b[0;31mKeyboardInterrupt\u001b[0m                         Traceback (most recent call last)",
      "\u001b[0;32m<ipython-input-244-1add1c7ada4e>\u001b[0m in \u001b[0;36m<module>\u001b[0;34m()\u001b[0m\n\u001b[1;32m     12\u001b[0m     \u001b[0mcurpos\u001b[0m \u001b[0;34m=\u001b[0m \u001b[0;36m0\u001b[0m\u001b[0;34m\u001b[0m\u001b[0m\n\u001b[1;32m     13\u001b[0m     \u001b[0;32mwhile\u001b[0m \u001b[0mcurpos\u001b[0m \u001b[0;34m<\u001b[0m \u001b[0mlen\u001b[0m\u001b[0;34m(\u001b[0m\u001b[0mline\u001b[0m\u001b[0;34m)\u001b[0m\u001b[0;34m:\u001b[0m\u001b[0;34m\u001b[0m\u001b[0m\n\u001b[0;32m---> 14\u001b[0;31m         \u001b[0;32mif\u001b[0m \u001b[0mcounter\u001b[0m \u001b[0;34m+\u001b[0m \u001b[0mlen\u001b[0m\u001b[0;34m(\u001b[0m\u001b[0mline\u001b[0m\u001b[0;34m[\u001b[0m\u001b[0mcurpos\u001b[0m\u001b[0;34m]\u001b[0m\u001b[0;34m)\u001b[0m \u001b[0;34m>\u001b[0m \u001b[0mn\u001b[0m\u001b[0;34m:\u001b[0m\u001b[0;34m\u001b[0m\u001b[0m\n\u001b[0m\u001b[1;32m     15\u001b[0m             \u001b[0manswer\u001b[0m \u001b[0;34m+=\u001b[0m \u001b[0;34m'\\n'\u001b[0m\u001b[0;34m\u001b[0m\u001b[0m\n\u001b[1;32m     16\u001b[0m             \u001b[0mcounter\u001b[0m \u001b[0;34m=\u001b[0m \u001b[0;36m0\u001b[0m\u001b[0;34m\u001b[0m\u001b[0m\n",
      "\u001b[0;31mKeyboardInterrupt\u001b[0m: "
     ]
    }
   ],
   "source": [
    "n = int(input())\n",
    "with open('dzPythonZen.txt', 'r') as f:\n",
    "    asdwqe = f.readlines()\n",
    "qwjri = map(lambda elem: elem.split(), asdwqe)\n",
    "\n",
    "answer = ''\n",
    "for line in tqdm(qwjri):\n",
    "    if len(line) == 0:\n",
    "        answer += '\\n'\n",
    "        continue\n",
    "    counter = 0\n",
    "    curpos = 0\n",
    "    while curpos < len(line):\n",
    "        if counter == 0 and len(line[curpos]) > n:\n",
    "            answer += line[curpos]\n",
    "            answer += '\\n'\n",
    "            curpos += 1\n",
    "            continue\n",
    "        if counter + len(line[curpos]) > n:\n",
    "            answer += '\\n'\n",
    "            counter = 0\n",
    "            continue\n",
    "        counter += len(line[curpos])\n",
    "        answer += line[curpos]\n",
    "        if counter != n:\n",
    "            answer += ' '\n",
    "            counter += 1\n",
    "        curpos += 1\n",
    "    if answer[-1] != '\\n':\n",
    "        answer += '\\n'\n",
    "\n",
    "print answer"
   ]
  },
  {
   "cell_type": "code",
   "execution_count": 250,
   "metadata": {
    "collapsed": true
   },
   "outputs": [],
   "source": [
    "line = ['The', 'Zen', 'of', 'Python,', 'by', 'Tim', 'Peters']"
   ]
  },
  {
   "cell_type": "code",
   "execution_count": 253,
   "metadata": {},
   "outputs": [],
   "source": [
    "answer = ''\n",
    "counter = 0\n",
    "curpos = 0\n",
    "while curpos < len(line):\n",
    "    if counter == 0 and len(line[curpos]) > n:\n",
    "        answer += line[curpos]\n",
    "        answer += '\\n'\n",
    "        curpos += 1\n",
    "        continue\n",
    "    if counter + len(line[curpos]) > n:\n",
    "        answer += '\\n'\n",
    "        counter = 0\n",
    "        continue\n",
    "    counter += len(line[curpos])\n",
    "    answer += line[curpos]\n",
    "    if counter != n:\n",
    "        answer += ' '\n",
    "        counter += 1\n",
    "    curpos += 1"
   ]
  },
  {
   "cell_type": "code",
   "execution_count": 256,
   "metadata": {},
   "outputs": [
    {
     "name": "stdout",
     "output_type": "stream",
     "text": [
      "The\n",
      "Zen\n",
      "of\n",
      "Python,\n",
      "by\n",
      "Tim\n",
      "Peters\n",
      "\n"
     ]
    }
   ],
   "source": [
    "print answer"
   ]
  },
  {
   "cell_type": "code",
   "execution_count": 265,
   "metadata": {},
   "outputs": [
    {
     "name": "stdout",
     "output_type": "stream",
     "text": [
      "213 4 41 12 \n",
      "4 12 41 213\n"
     ]
    }
   ],
   "source": [
    "def slit(seq1, seq2):\n",
    "    '''\n",
    "    params:\n",
    "    seq1:  LISTS, NOT NP.ARRAYS\n",
    "    seq2: \n",
    "    '''\n",
    "    resultant_seq = []\n",
    "    first_pointer, second_pointer = 0, 0\n",
    "    while (first_pointer < len(seq1)) and second_pointer < (len(seq2)):\n",
    "        if seq1[first_pointer] < seq2[second_pointer]:\n",
    "            resultant_seq.append(seq1[first_pointer])\n",
    "            first_pointer += 1\n",
    "        else:\n",
    "            resultant_seq.append(seq2[second_pointer])\n",
    "            second_pointer += 1\n",
    "    if first_pointer == len(seq1):\n",
    "        resultant_seq += seq2[second_pointer:]\n",
    "    else:\n",
    "        resultant_seq += seq1[first_pointer:]\n",
    "    return resultant_seq\n",
    "\n",
    "def vizivaet_slit(seq):\n",
    "    if(len(seq) == 1):\n",
    "        return seq\n",
    "    middle = len(seq) / 2\n",
    "    return slit( vizivaet_slit(seq[:middle]), vizivaet_slit(seq[middle:]) )\n",
    "\n",
    "\n",
    "\n",
    "def main():\n",
    "    data = map(int, raw_input().split())\n",
    "    if len(data) == 0:\n",
    "        return\n",
    "    result = vizivaet_slit(data)\n",
    "    print ' '.join(map(str, result)),\n",
    "\n",
    "main()"
   ]
  },
  {
   "cell_type": "code",
   "execution_count": 267,
   "metadata": {
    "collapsed": true
   },
   "outputs": [],
   "source": [
    "import sys"
   ]
  },
  {
   "cell_type": "code",
   "execution_count": 270,
   "metadata": {},
   "outputs": [
    {
     "data": {
      "text/plain": [
       "''"
      ]
     },
     "execution_count": 270,
     "metadata": {},
     "output_type": "execute_result"
    }
   ],
   "source": []
  },
  {
   "cell_type": "code",
   "execution_count": null,
   "metadata": {
    "collapsed": true
   },
   "outputs": [],
   "source": []
  }
 ],
 "metadata": {
  "kernelspec": {
   "display_name": "Python 2",
   "language": "python",
   "name": "python2"
  },
  "language_info": {
   "codemirror_mode": {
    "name": "ipython",
    "version": 2
   },
   "file_extension": ".py",
   "mimetype": "text/x-python",
   "name": "python",
   "nbconvert_exporter": "python",
   "pygments_lexer": "ipython2",
   "version": "2.7.13"
  }
 },
 "nbformat": 4,
 "nbformat_minor": 1
}
