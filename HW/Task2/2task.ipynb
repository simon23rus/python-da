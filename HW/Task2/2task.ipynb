{
 "cells": [
  {
   "cell_type": "code",
   "execution_count": null,
   "metadata": {
    "collapsed": true
   },
   "outputs": [],
   "source": []
  },
  {
   "cell_type": "code",
   "execution_count": 85,
   "metadata": {
    "collapsed": false
   },
   "outputs": [],
   "source": [
    "import sys\n",
    "from math import gcd\n",
    "\n",
    "\n",
    "class Rational:\n",
    "    ''' rational number implementation m in Z; n in N\n",
    "    '''\n",
    "    def divide_on_gcd(self):\n",
    "        our_gcd = gcd(int(self.numerator), int(self.denominator))\n",
    "        self.numerator /= our_gcd\n",
    "        self.denominator /= our_gcd\n",
    "        return self\n",
    "\n",
    "    def __init__(self, numerator=0, denominator=1):\n",
    "        self.numerator = numerator\n",
    "        self.denominator = denominator\n",
    "        self.divide_on_gcd()\n",
    "\n",
    "    # unary\n",
    "\n",
    "    def __neg__(self):\n",
    "        return Rational(-self.numerator, self.denominator)\n",
    "\n",
    "    def __str__(self):\n",
    "        return str(int(self.numerator)) + '/' + str(int(self.denominator))\n",
    "\n",
    "    # binary functions\n",
    "\n",
    "    def __eq__(self, other):\n",
    "        return (self.numerator == other.numerator) and (self.denominator == other.denominator)\n",
    "\n",
    "    def __ne__(self, other):\n",
    "        return not (self == other)\n",
    "\n",
    "    def __add__(self, other):\n",
    "        common_denominator = (self.denominator * other.denominator) \\\n",
    "                            / gcd(self.denominator, other.denominator)\n",
    "\n",
    "        result_numerator = (self.numerator * (common_denominator / self.denominator)) + \\\n",
    "                            other.numerator * (common_denominator / other.denominator)\n",
    "\n",
    "        '''\n",
    "        or\n",
    "        return Rational(self.numerator * other.denominator + self.denominator * other.numerator\n",
    "                             self.denominator * other.numerator).divide_on_gcd()\n",
    "        '''\n",
    "        return Rational(result_numerator, common_denominator)\n",
    "\n",
    "    def __sub__(self, other):\n",
    "        return self + (-other)\n",
    "\n",
    "    def __mul__(self, other):\n",
    "        return Rational(self.numerator * other.numerator,\n",
    "                        self.denominator * other.denominator).divide_on_gcd()\n",
    "\n",
    "    def __div__(self, other):\n",
    "        return Rational(self.numerator * other.denominator,\n",
    "                        self.denominator * other.numerator).divide_on_gcd()\n",
    "\n",
    "exec(sys.stdin.read())"
   ]
  },
  {
   "cell_type": "code",
   "execution_count": null,
   "metadata": {
    "collapsed": true
   },
   "outputs": [],
   "source": []
  },
  {
   "cell_type": "code",
   "execution_count": 80,
   "metadata": {
    "collapsed": false
   },
   "outputs": [],
   "source": [
    "a = Rational(4, 12)"
   ]
  },
  {
   "cell_type": "code",
   "execution_count": 81,
   "metadata": {
    "collapsed": false
   },
   "outputs": [],
   "source": [
    "b = Rational(4, 12)"
   ]
  },
  {
   "cell_type": "code",
   "execution_count": 82,
   "metadata": {
    "collapsed": false
   },
   "outputs": [
    {
     "data": {
      "text/plain": [
       "False"
      ]
     },
     "execution_count": 82,
     "metadata": {},
     "output_type": "execute_result"
    }
   ],
   "source": [
    "a != b"
   ]
  },
  {
   "cell_type": "code",
   "execution_count": 83,
   "metadata": {
    "collapsed": false
   },
   "outputs": [
    {
     "name": "stdout",
     "output_type": "stream",
     "text": [
      "1/9\n"
     ]
    }
   ],
   "source": [
    "print(a * b)"
   ]
  },
  {
   "cell_type": "code",
   "execution_count": 84,
   "metadata": {
    "collapsed": false
   },
   "outputs": [
    {
     "name": "stdout",
     "output_type": "stream",
     "text": [
      "1/3\n"
     ]
    }
   ],
   "source": [
    "print(Rational(4, 12))"
   ]
  },
  {
   "cell_type": "code",
   "execution_count": null,
   "metadata": {
    "collapsed": true
   },
   "outputs": [],
   "source": []
  }
 ],
 "metadata": {
  "kernelspec": {
   "display_name": "Python 3",
   "language": "python",
   "name": "python3"
  },
  "language_info": {
   "codemirror_mode": {
    "name": "ipython",
    "version": 3
   },
   "file_extension": ".py",
   "mimetype": "text/x-python",
   "name": "python",
   "nbconvert_exporter": "python",
   "pygments_lexer": "ipython3",
   "version": "3.5.2"
  }
 },
 "nbformat": 4,
 "nbformat_minor": 2
}
