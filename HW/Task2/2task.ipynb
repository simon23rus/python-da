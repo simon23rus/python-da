{
 "cells": [
  {
   "cell_type": "code",
   "execution_count": 1,
   "metadata": {
    "collapsed": true,
    "deletable": true,
    "editable": true
   },
   "outputs": [],
   "source": [
    "import numpy as np"
   ]
  },
  {
   "cell_type": "code",
   "execution_count": 13,
   "metadata": {
    "collapsed": false,
    "deletable": true,
    "editable": true
   },
   "outputs": [],
   "source": [
    "import sys\n",
    "\n",
    "\n",
    "def gcd(fst, snd):\n",
    "    ''' Returns gcd of 2 numbers\n",
    "    '''\n",
    "    while snd:\n",
    "        fst, snd = snd, fst % snd\n",
    "    return fst\n",
    "\n",
    "\n",
    "class Rational:\n",
    "    ''' rational number implementation m in Z; n in N\n",
    "    '''\n",
    "\n",
    "    def divide_on_gcd(self):\n",
    "        our_gcd = gcd(int(self.numerator), int(self.denominator))\n",
    "        self.numerator /= our_gcd\n",
    "        self.denominator /= our_gcd\n",
    "        return self\n",
    "\n",
    "    def __init__(self, numerator=0, denominator=1):\n",
    "        self.numerator = numerator\n",
    "        self.denominator = denominator\n",
    "        self.divide_on_gcd()\n",
    "\n",
    "    # unary\n",
    "\n",
    "    def __neg__(self):\n",
    "        return Rational(-self.numerator, self.denominator)\n",
    "\n",
    "    def __str__(self):\n",
    "        return str(int(self.numerator)) + '/' + str(int(self.denominator))\n",
    "\n",
    "    # binary functions\n",
    "\n",
    "    def __eq__(self, other):\n",
    "        return (self.numerator == other.numerator) and (self.denominator == other.denominator)\n",
    "\n",
    "    def __ne__(self, other):\n",
    "        return not (self == other)\n",
    "\n",
    "    def __add__(self, other):\n",
    "        return Rational(self.numerator * other.denominator + self.denominator * other.numerator,\n",
    "                        self.denominator * other.denominator).divide_on_gcd()\n",
    "\n",
    "    def __sub__(self, other):\n",
    "        return self + (-other)\n",
    "\n",
    "    def __mul__(self, other):\n",
    "        return Rational(self.numerator * other.numerator,\n",
    "                        self.denominator * other.denominator).divide_on_gcd()\n",
    "\n",
    "    def __truediv__(self, other):\n",
    "        return Rational(self.numerator * other.denominator,\n",
    "                        self.denominator * other.numerator).divide_on_gcd()\n",
    "\n",
    "exec(sys.stdin.read())"
   ]
  },
  {
   "cell_type": "code",
   "execution_count": 14,
   "metadata": {
    "collapsed": false,
    "deletable": true,
    "editable": true
   },
   "outputs": [],
   "source": [
    "a = Rational(4, 0)"
   ]
  },
  {
   "cell_type": "code",
   "execution_count": 15,
   "metadata": {
    "collapsed": false,
    "deletable": true,
    "editable": true
   },
   "outputs": [],
   "source": [
    "b = Rational(4, 12)"
   ]
  },
  {
   "cell_type": "code",
   "execution_count": 16,
   "metadata": {
    "collapsed": false,
    "deletable": true,
    "editable": true
   },
   "outputs": [
    {
     "data": {
      "text/plain": [
       "<__main__.Rational at 0x1037ef630>"
      ]
     },
     "execution_count": 16,
     "metadata": {},
     "output_type": "execute_result"
    }
   ],
   "source": [
    "a / b"
   ]
  },
  {
   "cell_type": "code",
   "execution_count": 12,
   "metadata": {
    "collapsed": false,
    "deletable": true,
    "editable": true
   },
   "outputs": [
    {
     "name": "stdout",
     "output_type": "stream",
     "text": [
      "1/0\n"
     ]
    }
   ],
   "source": [
    "print(a.__div__(b))"
   ]
  },
  {
   "cell_type": "code",
   "execution_count": 154,
   "metadata": {
    "collapsed": false,
    "deletable": true,
    "editable": true
   },
   "outputs": [
    {
     "name": "stdout",
     "output_type": "stream",
     "text": [
      "1/9\n"
     ]
    }
   ],
   "source": [
    "print(a * b)"
   ]
  },
  {
   "cell_type": "code",
   "execution_count": 155,
   "metadata": {
    "collapsed": false,
    "deletable": true,
    "editable": true
   },
   "outputs": [
    {
     "name": "stdout",
     "output_type": "stream",
     "text": [
      "1/3\n"
     ]
    }
   ],
   "source": [
    "print(Rational(4, 12))"
   ]
  },
  {
   "cell_type": "code",
   "execution_count": 148,
   "metadata": {
    "collapsed": true,
    "deletable": true,
    "editable": true
   },
   "outputs": [],
   "source": [
    "fst,snd = -20, 2019"
   ]
  },
  {
   "cell_type": "code",
   "execution_count": null,
   "metadata": {
    "collapsed": true,
    "deletable": true,
    "editable": true
   },
   "outputs": [],
   "source": []
  },
  {
   "cell_type": "code",
   "execution_count": 156,
   "metadata": {
    "collapsed": true,
    "deletable": true,
    "editable": true
   },
   "outputs": [],
   "source": [
    "d = Rational(1, 8)\n",
    "e = Rational(1, 2)"
   ]
  },
  {
   "cell_type": "code",
   "execution_count": 157,
   "metadata": {
    "collapsed": false,
    "deletable": true,
    "editable": true
   },
   "outputs": [
    {
     "name": "stdout",
     "output_type": "stream",
     "text": [
      "-3/8\n"
     ]
    }
   ],
   "source": [
    "print(d - e)"
   ]
  },
  {
   "cell_type": "code",
   "execution_count": 164,
   "metadata": {
    "collapsed": false,
    "deletable": true,
    "editable": true
   },
   "outputs": [
    {
     "name": "stdout",
     "output_type": "stream",
     "text": [
      "0/1\n"
     ]
    }
   ],
   "source": [
    "print(Rational(0, 6))"
   ]
  },
  {
   "cell_type": "code",
   "execution_count": 161,
   "metadata": {
    "collapsed": false,
    "deletable": true,
    "editable": true
   },
   "outputs": [
    {
     "data": {
      "text/plain": [
       "1337"
      ]
     },
     "execution_count": 161,
     "metadata": {},
     "output_type": "execute_result"
    }
   ],
   "source": [
    "gcd(0 , 1337)"
   ]
  },
  {
   "cell_type": "code",
   "execution_count": 15,
   "metadata": {
    "collapsed": true
   },
   "outputs": [],
   "source": [
    "import pandas as pd\n",
    "import datetime"
   ]
  },
  {
   "cell_type": "code",
   "execution_count": 36,
   "metadata": {
    "collapsed": false,
    "deletable": true,
    "editable": true
   },
   "outputs": [],
   "source": [
    "asd = np.array([[1,2, 3],[3, 'asdjqwe', 4]], dtype=object)"
   ]
  },
  {
   "cell_type": "code",
   "execution_count": 37,
   "metadata": {
    "collapsed": false
   },
   "outputs": [
    {
     "data": {
      "text/plain": [
       "array([1, 2, 3, 3, 'asdjqwe', 4], dtype=object)"
      ]
     },
     "execution_count": 37,
     "metadata": {},
     "output_type": "execute_result"
    }
   ],
   "source": [
    "asd.ravel()"
   ]
  },
  {
   "cell_type": "code",
   "execution_count": 38,
   "metadata": {
    "collapsed": false
   },
   "outputs": [
    {
     "data": {
      "text/plain": [
       "1"
      ]
     },
     "execution_count": 38,
     "metadata": {},
     "output_type": "execute_result"
    }
   ],
   "source": [
    "len(list(filter(lambda elem: isinstance(elem, str), asd.ravel())))"
   ]
  },
  {
   "cell_type": "code",
   "execution_count": 39,
   "metadata": {
    "collapsed": false
   },
   "outputs": [
    {
     "data": {
      "text/plain": [
       "(2, 3)"
      ]
     },
     "execution_count": 39,
     "metadata": {},
     "output_type": "execute_result"
    }
   ],
   "source": [
    "asd.shape"
   ]
  },
  {
   "cell_type": "code",
   "execution_count": 40,
   "metadata": {
    "collapsed": false
   },
   "outputs": [
    {
     "data": {
      "text/plain": [
       "(1, 2, 10, 10)"
      ]
     },
     "execution_count": 40,
     "metadata": {},
     "output_type": "execute_result"
    }
   ],
   "source": [
    "(1,2) + (10,10)"
   ]
  },
  {
   "cell_type": "code",
   "execution_count": 43,
   "metadata": {
    "collapsed": true
   },
   "outputs": [],
   "source": [
    "import random"
   ]
  },
  {
   "cell_type": "code",
   "execution_count": 42,
   "metadata": {
    "collapsed": false
   },
   "outputs": [],
   "source": [
    "lest = [(1,2), (3,4)]"
   ]
  },
  {
   "cell_type": "code",
   "execution_count": 59,
   "metadata": {
    "collapsed": false
   },
   "outputs": [
    {
     "data": {
      "text/plain": [
       "[(1, 2)]"
      ]
     },
     "execution_count": 59,
     "metadata": {},
     "output_type": "execute_result"
    }
   ],
   "source": [
    "random.sample(lest, 1)"
   ]
  },
  {
   "cell_type": "code",
   "execution_count": 3,
   "metadata": {
    "collapsed": false
   },
   "outputs": [
    {
     "data": {
      "text/plain": [
       "0"
      ]
     },
     "execution_count": 3,
     "metadata": {},
     "output_type": "execute_result"
    }
   ],
   "source": [
    "np.sum(isinstance(asd, str))"
   ]
  },
  {
   "cell_type": "code",
   "execution_count": 8,
   "metadata": {
    "collapsed": false
   },
   "outputs": [
    {
     "data": {
      "text/plain": [
       "'1'"
      ]
     },
     "execution_count": 8,
     "metadata": {},
     "output_type": "execute_result"
    }
   ],
   "source": [
    "asd.ravel()[0]"
   ]
  },
  {
   "cell_type": "code",
   "execution_count": null,
   "metadata": {
    "collapsed": true
   },
   "outputs": [],
   "source": [
    "len(list(filter(asd)))"
   ]
  },
  {
   "cell_type": "markdown",
   "metadata": {},
   "source": [
    "# AKEAN"
   ]
  },
  {
   "cell_type": "code",
   "execution_count": 320,
   "metadata": {
    "collapsed": false
   },
   "outputs": [],
   "source": [
    "import numpy as np\n",
    "import scipy\n",
    "import pandas as pd\n",
    "import random\n",
    "\n",
    "\n",
    "class Predator:\n",
    "    def __init__(self, hungry_time, birth_time):\n",
    "        self.hungry_time = hungry_time\n",
    "        self.birth_time = birth_time\n",
    "        self.cur_hunger = hungry_time\n",
    "        self.cur_lifetime = 0\n",
    "\n",
    "    def __str__(self):\n",
    "        return 'Predator' + str((self.cur_hunger, self.cur_lifetime))\n",
    "\n",
    "    def is_alive(self):\n",
    "        return self.cur_hunger > 0\n",
    "\n",
    "    def need_child(self):\n",
    "        return self.cur_lifetime >= self.birth_time\n",
    "\n",
    "\n",
    "class Victim:\n",
    "    def __init__(self, birth_time):\n",
    "        self.birth_time = birth_time\n",
    "        self.cur_lifetime = 0\n",
    "\n",
    "    def __str__(self):\n",
    "        return 'Victim(' + str(self.cur_lifetime) + ')'\n",
    "\n",
    "    def need_child(self):\n",
    "        return self.cur_lifetime == self.birth_time\n",
    "\n",
    "\n",
    "class Ocean:\n",
    "    def __init__(self, data):\n",
    "        self.ocean = data\n",
    "        self.ocean_shape = data.shape\n",
    "        self.victims_number = len(list(filter(lambda elem:\n",
    "                                              isinstance(elem, Victim),\n",
    "                                              self.ocean.ravel())))\n",
    "        self.predators_number = len(list(filter(lambda elem:\n",
    "                                                isinstance(elem, Predator),\n",
    "                                                self.ocean.ravel())))\n",
    "\n",
    "    def __str__(self):\n",
    "        return str(self.ocean.astype(str))\n",
    "\n",
    "    def go(self, pos):\n",
    "        print(\"POS\", pos)\n",
    "        if isinstance(self.ocean[pos[0]][pos[1]], int):\n",
    "            return\n",
    "\n",
    "        is_predator = False\n",
    "        if isinstance(self.ocean[pos[0]][pos[1]], Predator):\n",
    "            is_predator = True\n",
    "            self.ocean[pos[0]][pos[1]].cur_hunger -= 1\n",
    "\n",
    "        self.ocean[pos[0]][pos[1]].cur_lifetime += 1\n",
    "        need_child = False\n",
    "        if self.ocean[pos[0]][pos[1]].need_child():\n",
    "            need_child = True\n",
    "            self.ocean[pos[0]][pos[1]].cur_lifetime = 0\n",
    "\n",
    "        free_cells = set()\n",
    "        victim_cells = set()\n",
    "        for i in range(-1, 2):\n",
    "            for j in range(-1, 2):\n",
    "                if i == j:\n",
    "                    continue\n",
    "                elif (0 <= pos[0] + i < self.ocean_shape[0]) \\\n",
    "                        and (0 <= pos[1] + j < self.ocean_shape[1]):\n",
    "                    neighbor = self.ocean[pos[0] + i][pos[1] + j]\n",
    "                    if neighbor == 0:\n",
    "                        free_cells.add((pos[0] + i,\n",
    "                                        pos[1] + j))\n",
    "                    elif isinstance(neighbor, Victim):\n",
    "                        # Victim\n",
    "                        victim_cells.add((pos[0] + i,\n",
    "                                          pos[1] + j))\n",
    "\n",
    "        if need_child and len(free_cells):\n",
    "            child_pos = random.sample(free_cells, 1)[0]\n",
    "            free_cells.remove(child_pos)\n",
    "            if is_predator:\n",
    "                self.predators_number += 1\n",
    "                self.ocean[child_pos[0]][child_pos[1]] = \\\n",
    "                    Predator(self.hungry_time, self.birth_time)\n",
    "            else:\n",
    "                self.victims_number += 1\n",
    "                self.ocean[child_pos[0]][child_pos[1]] = \\\n",
    "                    Victim(self.birth_time)\n",
    "\n",
    "        new_pos = None\n",
    "        if is_predator:\n",
    "            available_cells = free_cells | victim_cells\n",
    "            if len(available_cells):\n",
    "                new_pos = random.sample(available_cells, 1)[0]\n",
    "                print('PREDATOR', new_pos)\n",
    "            else:\n",
    "                if self.ocean[pos[0]][pos[1]].is_alive() is False:\n",
    "                    self.predators_number -= 1\n",
    "\n",
    "                    self.ocean[pos[0]][pos[1]] = 0\n",
    "\n",
    "                return\n",
    "        else:\n",
    "            if len(free_cells):\n",
    "                new_pos = random.sample(free_cells, 1)[0]\n",
    "                print('VICTIM', new_pos)\n",
    "            else:\n",
    "                return\n",
    "\n",
    "        if is_predator:\n",
    "            if isinstance(self.ocean[new_pos[0]][new_pos[1]],\n",
    "                          Victim):\n",
    "                self.ocean[pos[0]][pos[1]].cur_hunger = \\\n",
    "                    self.ocean[pos[0]][pos[1]].hungry_time\n",
    "                self.victims_number -= 1\n",
    "            else:\n",
    "                if self.ocean[pos[0]][pos[1]].is_alive() is False:\n",
    "                    self.predators_number -= 1\n",
    "\n",
    "                    self.ocean[pos[0]][pos[1]] = 0\n",
    "                    return\n",
    "\n",
    "        self.ocean[new_pos[0]][new_pos[1]] = self.ocean[pos[0]][pos[1]]\n",
    "        self.ocean[pos[0]][pos[1]] = 0\n",
    "\n",
    "    def simulate(self, iter_number=100):\n",
    "\n",
    "        for iter_num in range(iter_number):\n",
    "            for i in range(self.ocean.shape[0]):\n",
    "                for j in range(self.ocean.shape[1]):\n",
    "                    self.go((i, j))\n",
    "                    print(self)\n",
    "\n",
    "            if self.victims_number == 0 or self.predators_number == 0:\n",
    "                print('Somebody dead',\n",
    "                      'Victims = ', self.victims_number,\n",
    "                      ' Predators = ', self.predators_number)\n",
    "                break\n"
   ]
  },
  {
   "cell_type": "code",
   "execution_count": 321,
   "metadata": {
    "collapsed": true
   },
   "outputs": [],
   "source": [
    "akean = []"
   ]
  },
  {
   "cell_type": "code",
   "execution_count": 364,
   "metadata": {
    "collapsed": false
   },
   "outputs": [],
   "source": [
    "fst = [Predator(20, 10) , 0, 1]\n",
    "snd = [Victim(10), 1, 0]\n",
    "third = [0,0,0]"
   ]
  },
  {
   "cell_type": "code",
   "execution_count": 365,
   "metadata": {
    "collapsed": true
   },
   "outputs": [],
   "source": [
    "akean = [fst, snd, third]"
   ]
  },
  {
   "cell_type": "code",
   "execution_count": 366,
   "metadata": {
    "collapsed": false
   },
   "outputs": [],
   "source": [
    "akean = np.array(akean)"
   ]
  },
  {
   "cell_type": "code",
   "execution_count": 367,
   "metadata": {
    "collapsed": false
   },
   "outputs": [
    {
     "name": "stdout",
     "output_type": "stream",
     "text": [
      "[['Predator(20, 0)' '0' '1']\n",
      " ['Victim(0)' '1' '0']\n",
      " ['0' '0' '0']]\n"
     ]
    }
   ],
   "source": [
    "print(akean.astype(str))"
   ]
  },
  {
   "cell_type": "code",
   "execution_count": 368,
   "metadata": {
    "collapsed": false
   },
   "outputs": [
    {
     "data": {
      "text/plain": [
       "array([[<__main__.Predator object at 0x1105737b8>, 0, 1],\n",
       "       [<__main__.Victim object at 0x110573c18>, 1, 0],\n",
       "       [0, 0, 0]], dtype=object)"
      ]
     },
     "execution_count": 368,
     "metadata": {},
     "output_type": "execute_result"
    }
   ],
   "source": [
    "akean"
   ]
  },
  {
   "cell_type": "code",
   "execution_count": 369,
   "metadata": {
    "collapsed": false
   },
   "outputs": [],
   "source": [
    "okean = Ocean(deepcopy(akean))"
   ]
  },
  {
   "cell_type": "code",
   "execution_count": 370,
   "metadata": {
    "collapsed": false
   },
   "outputs": [
    {
     "name": "stdout",
     "output_type": "stream",
     "text": [
      "[['Predator(20, 0)' '0' '1']\n",
      " ['Victim(0)' '1' '0']\n",
      " ['0' '0' '0']]\n"
     ]
    }
   ],
   "source": [
    "print(okean)"
   ]
  },
  {
   "cell_type": "code",
   "execution_count": 371,
   "metadata": {
    "collapsed": false
   },
   "outputs": [
    {
     "name": "stdout",
     "output_type": "stream",
     "text": [
      "POS (0, 0)\n",
      "PREDATOR (1, 0)\n",
      "[['0' '0' '1']\n",
      " ['Predator(20, 1)' '1' '0']\n",
      " ['0' '0' '0']]\n",
      "POS (0, 1)\n",
      "[['0' '0' '1']\n",
      " ['Predator(20, 1)' '1' '0']\n",
      " ['0' '0' '0']]\n",
      "POS (0, 2)\n",
      "[['0' '0' '1']\n",
      " ['Predator(20, 1)' '1' '0']\n",
      " ['0' '0' '0']]\n",
      "POS (1, 0)\n",
      "PREDATOR (0, 0)\n",
      "[['Predator(19, 2)' '0' '1']\n",
      " ['0' '1' '0']\n",
      " ['0' '0' '0']]\n",
      "POS (1, 1)\n",
      "[['Predator(19, 2)' '0' '1']\n",
      " ['0' '1' '0']\n",
      " ['0' '0' '0']]\n",
      "POS (1, 2)\n",
      "[['Predator(19, 2)' '0' '1']\n",
      " ['0' '1' '0']\n",
      " ['0' '0' '0']]\n",
      "POS (2, 0)\n",
      "[['Predator(19, 2)' '0' '1']\n",
      " ['0' '1' '0']\n",
      " ['0' '0' '0']]\n",
      "POS (2, 1)\n",
      "[['Predator(19, 2)' '0' '1']\n",
      " ['0' '1' '0']\n",
      " ['0' '0' '0']]\n",
      "POS (2, 2)\n",
      "[['Predator(19, 2)' '0' '1']\n",
      " ['0' '1' '0']\n",
      " ['0' '0' '0']]\n",
      "Somebody dead Victims =  0  Predators =  1\n"
     ]
    }
   ],
   "source": [
    "okean.simulate(6)"
   ]
  },
  {
   "cell_type": "code",
   "execution_count": 203,
   "metadata": {
    "collapsed": false
   },
   "outputs": [
    {
     "data": {
      "text/plain": [
       "[-1, 0, 1]"
      ]
     },
     "execution_count": 203,
     "metadata": {},
     "output_type": "execute_result"
    }
   ],
   "source": [
    "list(range(-1,2))"
   ]
  },
  {
   "cell_type": "code",
   "execution_count": null,
   "metadata": {
    "collapsed": true
   },
   "outputs": [],
   "source": []
  }
 ],
 "metadata": {
  "kernelspec": {
   "display_name": "Python 3",
   "language": "python",
   "name": "python3"
  },
  "language_info": {
   "codemirror_mode": {
    "name": "ipython",
    "version": 3
   },
   "file_extension": ".py",
   "mimetype": "text/x-python",
   "name": "python",
   "nbconvert_exporter": "python",
   "pygments_lexer": "ipython3",
   "version": "3.5.2"
  }
 },
 "nbformat": 4,
 "nbformat_minor": 2
}
