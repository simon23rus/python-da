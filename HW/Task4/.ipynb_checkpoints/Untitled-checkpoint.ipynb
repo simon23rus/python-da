{
 "cells": [
  {
   "cell_type": "markdown",
   "metadata": {},
   "source": [
    "# Task1"
   ]
  },
  {
   "cell_type": "code",
   "execution_count": 166,
   "metadata": {
    "collapsed": true
   },
   "outputs": [],
   "source": [
    "def unique(iterable):\n",
    "    iterator = iter(iterable)\n",
    "    cur_elem = None\n",
    "    next_elem = None\n",
    "    try:\n",
    "        cur_elem = next(iterator)\n",
    "        next_elem = next(iterator)\n",
    "    except (StopIteration, ValueError):\n",
    "        if cur_elem is not None:\n",
    "            yield cur_elem\n",
    "        return\n",
    "    while True:\n",
    "        try:\n",
    "            while cur_elem == next_elem:\n",
    "                cur_elem = next_elem\n",
    "                next_elem = next(iterator)\n",
    "            yield cur_elem\n",
    "            cur_elem = next_elem\n",
    "\n",
    "        except (StopIteration, ValueError):\n",
    "            yield next_elem\n",
    "            break"
   ]
  },
  {
   "cell_type": "code",
   "execution_count": 134,
   "metadata": {
    "collapsed": true
   },
   "outputs": [],
   "source": [
    "lll = (islice(unique(crush_func()), 3))"
   ]
  },
  {
   "cell_type": "code",
   "execution_count": 157,
   "metadata": {
    "collapsed": true
   },
   "outputs": [],
   "source": [
    "kkf = unique(crush_func())"
   ]
  },
  {
   "cell_type": "code",
   "execution_count": 160,
   "metadata": {},
   "outputs": [
    {
     "ename": "ValueError",
     "evalue": "",
     "output_type": "error",
     "traceback": [
      "\u001b[0;31m---------------------------------------------------------------------------\u001b[0m",
      "\u001b[0;31mValueError\u001b[0m                                Traceback (most recent call last)",
      "\u001b[0;32m<ipython-input-160-b936faf9334d>\u001b[0m in \u001b[0;36m<module>\u001b[0;34m()\u001b[0m\n\u001b[0;32m----> 1\u001b[0;31m \u001b[0mnext\u001b[0m\u001b[0;34m(\u001b[0m\u001b[0mkkf\u001b[0m\u001b[0;34m)\u001b[0m\u001b[0;34m\u001b[0m\u001b[0m\n\u001b[0m",
      "\u001b[0;32m<ipython-input-107-32d34932d7db>\u001b[0m in \u001b[0;36munique\u001b[0;34m(iterable)\u001b[0m\n\u001b[1;32m     14\u001b[0m             \u001b[0;32mwhile\u001b[0m \u001b[0mcur_elem\u001b[0m \u001b[0;34m==\u001b[0m \u001b[0mnext_elem\u001b[0m\u001b[0;34m:\u001b[0m\u001b[0;34m\u001b[0m\u001b[0m\n\u001b[1;32m     15\u001b[0m                 \u001b[0mcur_elem\u001b[0m \u001b[0;34m=\u001b[0m \u001b[0mnext_elem\u001b[0m\u001b[0;34m\u001b[0m\u001b[0m\n\u001b[0;32m---> 16\u001b[0;31m                 \u001b[0mnext_elem\u001b[0m \u001b[0;34m=\u001b[0m \u001b[0mnext\u001b[0m\u001b[0;34m(\u001b[0m\u001b[0miterator\u001b[0m\u001b[0;34m)\u001b[0m\u001b[0;34m\u001b[0m\u001b[0m\n\u001b[0m\u001b[1;32m     17\u001b[0m             \u001b[0;32myield\u001b[0m \u001b[0mcur_elem\u001b[0m\u001b[0;34m\u001b[0m\u001b[0m\n\u001b[1;32m     18\u001b[0m             \u001b[0mcur_elem\u001b[0m \u001b[0;34m=\u001b[0m \u001b[0mnext_elem\u001b[0m\u001b[0;34m\u001b[0m\u001b[0m\n",
      "\u001b[0;32m<ipython-input-109-75bf72526888>\u001b[0m in \u001b[0;36mcrush_func\u001b[0;34m()\u001b[0m\n\u001b[1;32m      4\u001b[0m     \u001b[0;32myield\u001b[0m \u001b[0;36m2\u001b[0m\u001b[0;34m\u001b[0m\u001b[0m\n\u001b[1;32m      5\u001b[0m     \u001b[0;32myield\u001b[0m \u001b[0;36m3\u001b[0m\u001b[0;34m\u001b[0m\u001b[0m\n\u001b[0;32m----> 6\u001b[0;31m     \u001b[0;32mraise\u001b[0m \u001b[0mValueError\u001b[0m\u001b[0;34m(\u001b[0m\u001b[0;34m)\u001b[0m\u001b[0;34m\u001b[0m\u001b[0m\n\u001b[0m\u001b[1;32m      7\u001b[0m \u001b[0;34m\u001b[0m\u001b[0m\n\u001b[1;32m      8\u001b[0m \u001b[0;32mfrom\u001b[0m \u001b[0mitertools\u001b[0m \u001b[0;32mimport\u001b[0m \u001b[0mislice\u001b[0m\u001b[0;34m\u001b[0m\u001b[0m\n",
      "\u001b[0;31mValueError\u001b[0m: "
     ]
    }
   ],
   "source": [
    "next(kkf)"
   ]
  },
  {
   "cell_type": "code",
   "execution_count": 154,
   "metadata": {},
   "outputs": [
    {
     "ename": "ValueError",
     "evalue": "",
     "output_type": "error",
     "traceback": [
      "\u001b[0;31m---------------------------------------------------------------------------\u001b[0m",
      "\u001b[0;31mValueError\u001b[0m                                Traceback (most recent call last)",
      "\u001b[0;32m<ipython-input-154-a949d781e5a9>\u001b[0m in \u001b[0;36m<module>\u001b[0;34m()\u001b[0m\n\u001b[0;32m----> 1\u001b[0;31m \u001b[0mnext\u001b[0m\u001b[0;34m(\u001b[0m\u001b[0mdiqwe\u001b[0m\u001b[0;34m)\u001b[0m\u001b[0;34m\u001b[0m\u001b[0m\n\u001b[0m",
      "\u001b[0;32m<ipython-input-109-75bf72526888>\u001b[0m in \u001b[0;36mcrush_func\u001b[0;34m()\u001b[0m\n\u001b[1;32m      4\u001b[0m     \u001b[0;32myield\u001b[0m \u001b[0;36m2\u001b[0m\u001b[0;34m\u001b[0m\u001b[0m\n\u001b[1;32m      5\u001b[0m     \u001b[0;32myield\u001b[0m \u001b[0;36m3\u001b[0m\u001b[0;34m\u001b[0m\u001b[0m\n\u001b[0;32m----> 6\u001b[0;31m     \u001b[0;32mraise\u001b[0m \u001b[0mValueError\u001b[0m\u001b[0;34m(\u001b[0m\u001b[0;34m)\u001b[0m\u001b[0;34m\u001b[0m\u001b[0m\n\u001b[0m\u001b[1;32m      7\u001b[0m \u001b[0;34m\u001b[0m\u001b[0m\n\u001b[1;32m      8\u001b[0m \u001b[0;32mfrom\u001b[0m \u001b[0mitertools\u001b[0m \u001b[0;32mimport\u001b[0m \u001b[0mislice\u001b[0m\u001b[0;34m\u001b[0m\u001b[0m\n",
      "\u001b[0;31mValueError\u001b[0m: "
     ]
    }
   ],
   "source": [
    "next(diqwe)"
   ]
  },
  {
   "cell_type": "code",
   "execution_count": 149,
   "metadata": {
    "collapsed": true
   },
   "outputs": [],
   "source": [
    "diqwe = crush_func()"
   ]
  },
  {
   "cell_type": "code",
   "execution_count": 142,
   "metadata": {},
   "outputs": [
    {
     "ename": "ValueError",
     "evalue": "",
     "output_type": "error",
     "traceback": [
      "\u001b[0;31m---------------------------------------------------------------------------\u001b[0m",
      "\u001b[0;31mValueError\u001b[0m                                Traceback (most recent call last)",
      "\u001b[0;32m<ipython-input-142-b936faf9334d>\u001b[0m in \u001b[0;36m<module>\u001b[0;34m()\u001b[0m\n\u001b[0;32m----> 1\u001b[0;31m \u001b[0mnext\u001b[0m\u001b[0;34m(\u001b[0m\u001b[0mkkf\u001b[0m\u001b[0;34m)\u001b[0m\u001b[0;34m\u001b[0m\u001b[0m\n\u001b[0m",
      "\u001b[0;32m<ipython-input-107-32d34932d7db>\u001b[0m in \u001b[0;36munique\u001b[0;34m(iterable)\u001b[0m\n\u001b[1;32m     14\u001b[0m             \u001b[0;32mwhile\u001b[0m \u001b[0mcur_elem\u001b[0m \u001b[0;34m==\u001b[0m \u001b[0mnext_elem\u001b[0m\u001b[0;34m:\u001b[0m\u001b[0;34m\u001b[0m\u001b[0m\n\u001b[1;32m     15\u001b[0m                 \u001b[0mcur_elem\u001b[0m \u001b[0;34m=\u001b[0m \u001b[0mnext_elem\u001b[0m\u001b[0;34m\u001b[0m\u001b[0m\n\u001b[0;32m---> 16\u001b[0;31m                 \u001b[0mnext_elem\u001b[0m \u001b[0;34m=\u001b[0m \u001b[0mnext\u001b[0m\u001b[0;34m(\u001b[0m\u001b[0miterator\u001b[0m\u001b[0;34m)\u001b[0m\u001b[0;34m\u001b[0m\u001b[0m\n\u001b[0m\u001b[1;32m     17\u001b[0m             \u001b[0;32myield\u001b[0m \u001b[0mcur_elem\u001b[0m\u001b[0;34m\u001b[0m\u001b[0m\n\u001b[1;32m     18\u001b[0m             \u001b[0mcur_elem\u001b[0m \u001b[0;34m=\u001b[0m \u001b[0mnext_elem\u001b[0m\u001b[0;34m\u001b[0m\u001b[0m\n",
      "\u001b[0;32m<ipython-input-109-75bf72526888>\u001b[0m in \u001b[0;36mcrush_func\u001b[0;34m()\u001b[0m\n\u001b[1;32m      4\u001b[0m     \u001b[0;32myield\u001b[0m \u001b[0;36m2\u001b[0m\u001b[0;34m\u001b[0m\u001b[0m\n\u001b[1;32m      5\u001b[0m     \u001b[0;32myield\u001b[0m \u001b[0;36m3\u001b[0m\u001b[0;34m\u001b[0m\u001b[0m\n\u001b[0;32m----> 6\u001b[0;31m     \u001b[0;32mraise\u001b[0m \u001b[0mValueError\u001b[0m\u001b[0;34m(\u001b[0m\u001b[0;34m)\u001b[0m\u001b[0;34m\u001b[0m\u001b[0m\n\u001b[0m\u001b[1;32m      7\u001b[0m \u001b[0;34m\u001b[0m\u001b[0m\n\u001b[1;32m      8\u001b[0m \u001b[0;32mfrom\u001b[0m \u001b[0mitertools\u001b[0m \u001b[0;32mimport\u001b[0m \u001b[0mislice\u001b[0m\u001b[0;34m\u001b[0m\u001b[0m\n",
      "\u001b[0;31mValueError\u001b[0m: "
     ]
    }
   ],
   "source": [
    "next(kkf)"
   ]
  },
  {
   "cell_type": "code",
   "execution_count": 137,
   "metadata": {},
   "outputs": [
    {
     "ename": "ValueError",
     "evalue": "",
     "output_type": "error",
     "traceback": [
      "\u001b[0;31m---------------------------------------------------------------------------\u001b[0m",
      "\u001b[0;31mValueError\u001b[0m                                Traceback (most recent call last)",
      "\u001b[0;32m<ipython-input-137-99ff8818bac8>\u001b[0m in \u001b[0;36m<module>\u001b[0;34m()\u001b[0m\n\u001b[0;32m----> 1\u001b[0;31m \u001b[0mnext\u001b[0m\u001b[0;34m(\u001b[0m\u001b[0mlll\u001b[0m\u001b[0;34m)\u001b[0m\u001b[0;34m\u001b[0m\u001b[0m\n\u001b[0m",
      "\u001b[0;32m<ipython-input-107-32d34932d7db>\u001b[0m in \u001b[0;36munique\u001b[0;34m(iterable)\u001b[0m\n\u001b[1;32m     14\u001b[0m             \u001b[0;32mwhile\u001b[0m \u001b[0mcur_elem\u001b[0m \u001b[0;34m==\u001b[0m \u001b[0mnext_elem\u001b[0m\u001b[0;34m:\u001b[0m\u001b[0;34m\u001b[0m\u001b[0m\n\u001b[1;32m     15\u001b[0m                 \u001b[0mcur_elem\u001b[0m \u001b[0;34m=\u001b[0m \u001b[0mnext_elem\u001b[0m\u001b[0;34m\u001b[0m\u001b[0m\n\u001b[0;32m---> 16\u001b[0;31m                 \u001b[0mnext_elem\u001b[0m \u001b[0;34m=\u001b[0m \u001b[0mnext\u001b[0m\u001b[0;34m(\u001b[0m\u001b[0miterator\u001b[0m\u001b[0;34m)\u001b[0m\u001b[0;34m\u001b[0m\u001b[0m\n\u001b[0m\u001b[1;32m     17\u001b[0m             \u001b[0;32myield\u001b[0m \u001b[0mcur_elem\u001b[0m\u001b[0;34m\u001b[0m\u001b[0m\n\u001b[1;32m     18\u001b[0m             \u001b[0mcur_elem\u001b[0m \u001b[0;34m=\u001b[0m \u001b[0mnext_elem\u001b[0m\u001b[0;34m\u001b[0m\u001b[0m\n",
      "\u001b[0;32m<ipython-input-109-75bf72526888>\u001b[0m in \u001b[0;36mcrush_func\u001b[0;34m()\u001b[0m\n\u001b[1;32m      4\u001b[0m     \u001b[0;32myield\u001b[0m \u001b[0;36m2\u001b[0m\u001b[0;34m\u001b[0m\u001b[0m\n\u001b[1;32m      5\u001b[0m     \u001b[0;32myield\u001b[0m \u001b[0;36m3\u001b[0m\u001b[0;34m\u001b[0m\u001b[0m\n\u001b[0;32m----> 6\u001b[0;31m     \u001b[0;32mraise\u001b[0m \u001b[0mValueError\u001b[0m\u001b[0;34m(\u001b[0m\u001b[0;34m)\u001b[0m\u001b[0;34m\u001b[0m\u001b[0m\n\u001b[0m\u001b[1;32m      7\u001b[0m \u001b[0;34m\u001b[0m\u001b[0m\n\u001b[1;32m      8\u001b[0m \u001b[0;32mfrom\u001b[0m \u001b[0mitertools\u001b[0m \u001b[0;32mimport\u001b[0m \u001b[0mislice\u001b[0m\u001b[0;34m\u001b[0m\u001b[0m\n",
      "\u001b[0;31mValueError\u001b[0m: "
     ]
    }
   ],
   "source": [
    "next(lll)"
   ]
  },
  {
   "cell_type": "code",
   "execution_count": 167,
   "metadata": {},
   "outputs": [
    {
     "name": "stdout",
     "output_type": "stream",
     "text": [
      "[1, 2, 3]\n"
     ]
    }
   ],
   "source": [
    "def crush_func():\n",
    "    yield 1\n",
    "    yield 2\n",
    "    yield 2\n",
    "    yield 3\n",
    "    raise ValueError()\n",
    "\n",
    "from itertools import islice\n",
    "\n",
    "print(list(islice(unique(crush_func()), 3)))"
   ]
  },
  {
   "cell_type": "code",
   "execution_count": 101,
   "metadata": {
    "collapsed": true
   },
   "outputs": [],
   "source": [
    "lis = [1,2,2,3,3,3,7,8]"
   ]
  },
  {
   "cell_type": "code",
   "execution_count": 102,
   "metadata": {
    "collapsed": true
   },
   "outputs": [],
   "source": [
    "itera = iter(lis)"
   ]
  },
  {
   "cell_type": "code",
   "execution_count": 103,
   "metadata": {
    "collapsed": true
   },
   "outputs": [],
   "source": [
    "aksdkqw = unique(lis)"
   ]
  },
  {
   "cell_type": "code",
   "execution_count": null,
   "metadata": {
    "collapsed": true
   },
   "outputs": [],
   "source": []
  },
  {
   "cell_type": "code",
   "execution_count": 104,
   "metadata": {},
   "outputs": [
    {
     "data": {
      "text/plain": [
       "1"
      ]
     },
     "execution_count": 104,
     "metadata": {},
     "output_type": "execute_result"
    }
   ],
   "source": [
    "next(aksdkqw)"
   ]
  },
  {
   "cell_type": "code",
   "execution_count": 105,
   "metadata": {},
   "outputs": [
    {
     "data": {
      "text/plain": [
       "[2, 3, 7, 8]"
      ]
     },
     "execution_count": 105,
     "metadata": {},
     "output_type": "execute_result"
    }
   ],
   "source": [
    "list(aksdkqw)"
   ]
  },
  {
   "cell_type": "code",
   "execution_count": 92,
   "metadata": {},
   "outputs": [
    {
     "name": "stdout",
     "output_type": "stream",
     "text": [
      "[1, 2, 3]\n",
      "['a', 'b', 'c', 'd', 'e']\n",
      "['h', 'e', 'l', 'o', ',', ' ', 'w', 'o', 'r', 'l', 'd']\n"
     ]
    }
   ],
   "source": [
    "print(list(unique([1, 1, 2, 3, 3])))\n",
    "print(list(unique(['a', 'b', 'c', 'c', 'd', 'd', 'd', 'e'])))\n",
    "print(list(unique('hello, world')))"
   ]
  },
  {
   "cell_type": "code",
   "execution_count": 168,
   "metadata": {},
   "outputs": [
    {
     "name": "stdout",
     "output_type": "stream",
     "text": [
      "[]\n",
      "[1]\n",
      "[1]\n",
      "[1]\n",
      "[1, 2]\n",
      "[1, 2]\n",
      "[2, 1]\n",
      "[1, 2, 3]\n",
      "[1, 2, 3]\n"
     ]
    }
   ],
   "source": [
    "print(list(unique([])))\n",
    "print(list(unique([1])))\n",
    "print(list(unique([1, 1])))\n",
    "print(list(unique([1, 1, 1])))\n",
    "print(list(unique([1, 1, 2, 2])))\n",
    "print(list(unique([1, 1, 2, 2])))\n",
    "print(list(unique([2, 1, 1, 1])))\n",
    "print(list(unique([1, 2, 3])))\n",
    "print(list(unique([1, 2, 2, 2, 2, 2, 3, 3])))"
   ]
  },
  {
   "cell_type": "code",
   "execution_count": 84,
   "metadata": {},
   "outputs": [
    {
     "name": "stdout",
     "output_type": "stream",
     "text": [
      "[1]\n"
     ]
    }
   ],
   "source": [
    "print(list(unique([1,1])))\n",
    "\n"
   ]
  },
  {
   "cell_type": "markdown",
   "metadata": {},
   "source": [
    "# Task3"
   ]
  },
  {
   "cell_type": "code",
   "execution_count": 209,
   "metadata": {
    "collapsed": true
   },
   "outputs": [],
   "source": [
    "from functools import wraps\n",
    "\n",
    "\n",
    "def takes(*args_dec):\n",
    "    def real_decorator(fun):\n",
    "        @wraps(fun)\n",
    "        def wrapper(*args_fun):\n",
    "            for i in range(min(len(args_dec), len(args_fun))):\n",
    "                if not isinstance(args_fun[i], args_dec[i]):\n",
    "                    raise TypeError\n",
    "            fun(*args_fun)\n",
    "        return wrapper\n",
    "    return real_decorator"
   ]
  },
  {
   "cell_type": "code",
   "execution_count": 210,
   "metadata": {},
   "outputs": [
    {
     "name": "stdout",
     "output_type": "stream",
     "text": [
      "some_name\n",
      "Some doc.\n"
     ]
    }
   ],
   "source": [
    "# this is for similar behaviour in python 2 and python 3\n",
    "from __future__ import print_function\n",
    "\n",
    "\n",
    "@takes(int)\n",
    "def some_name(a):\n",
    "    \"Some doc.\"\n",
    "    print(a)\n",
    "\n",
    "print(some_name.__name__)\n",
    "print(some_name.__doc__)\n",
    "\n",
    "# don't forget to use functools.wraps"
   ]
  },
  {
   "cell_type": "markdown",
   "metadata": {},
   "source": [
    "# Task4"
   ]
  },
  {
   "cell_type": "code",
   "execution_count": 211,
   "metadata": {
    "collapsed": true
   },
   "outputs": [],
   "source": [
    "import contextlib"
   ]
  },
  {
   "cell_type": "code",
   "execution_count": 284,
   "metadata": {
    "collapsed": true
   },
   "outputs": [],
   "source": [
    "import sys\n",
    "\n",
    "class AssertRaises(object):\n",
    "    def __init__(self, exception_type):\n",
    "        self.exception_type = exception_type\n",
    "    \n",
    "    def __enter__(self):\n",
    "        pass\n",
    "\n",
    "    def __exit__(self, exc_type, exc_val,\n",
    "             exc_tb):\n",
    "        if exc_type is None:\n",
    "            raise AssertionError\n",
    "            return\n",
    "        elif issubclass(exc_type, self.exception_type):\n",
    "            return True\n",
    "        raise AssertionError"
   ]
  },
  {
   "cell_type": "code",
   "execution_count": 285,
   "metadata": {},
   "outputs": [
    {
     "ename": "AssertionError",
     "evalue": "",
     "output_type": "error",
     "traceback": [
      "\u001b[0;31m---------------------------------------------------------------------------\u001b[0m",
      "\u001b[0;31mAssertionError\u001b[0m                            Traceback (most recent call last)",
      "\u001b[0;32m<ipython-input-285-6f642913e055>\u001b[0m in \u001b[0;36m<module>\u001b[0;34m()\u001b[0m\n\u001b[1;32m      1\u001b[0m \u001b[0;32mwith\u001b[0m \u001b[0mAssertRaises\u001b[0m\u001b[0;34m(\u001b[0m\u001b[0mTypeError\u001b[0m\u001b[0;34m)\u001b[0m\u001b[0;34m:\u001b[0m\u001b[0;34m\u001b[0m\u001b[0m\n\u001b[0;32m----> 2\u001b[0;31m     \u001b[0;32mpass\u001b[0m\u001b[0;34m\u001b[0m\u001b[0m\n\u001b[0m",
      "\u001b[0;32m<ipython-input-284-17e691ae0585>\u001b[0m in \u001b[0;36m__exit__\u001b[0;34m(self, exc_type, exc_val, exc_tb)\u001b[0m\n\u001b[1;32m     11\u001b[0m              exc_tb):\n\u001b[1;32m     12\u001b[0m         \u001b[0;32mif\u001b[0m \u001b[0mexc_type\u001b[0m \u001b[0;32mis\u001b[0m \u001b[0;32mNone\u001b[0m\u001b[0;34m:\u001b[0m\u001b[0;34m\u001b[0m\u001b[0m\n\u001b[0;32m---> 13\u001b[0;31m             \u001b[0;32mraise\u001b[0m \u001b[0mAssertionError\u001b[0m\u001b[0;34m\u001b[0m\u001b[0m\n\u001b[0m\u001b[1;32m     14\u001b[0m             \u001b[0;32mreturn\u001b[0m\u001b[0;34m\u001b[0m\u001b[0m\n\u001b[1;32m     15\u001b[0m         \u001b[0;32melif\u001b[0m \u001b[0missubclass\u001b[0m\u001b[0;34m(\u001b[0m\u001b[0mexc_type\u001b[0m\u001b[0;34m,\u001b[0m \u001b[0mself\u001b[0m\u001b[0;34m.\u001b[0m\u001b[0mexception_type\u001b[0m\u001b[0;34m)\u001b[0m\u001b[0;34m:\u001b[0m\u001b[0;34m\u001b[0m\u001b[0m\n",
      "\u001b[0;31mAssertionError\u001b[0m: "
     ]
    }
   ],
   "source": [
    "with AssertRaises(TypeError):\n",
    "    pass"
   ]
  },
  {
   "cell_type": "code",
   "execution_count": 286,
   "metadata": {},
   "outputs": [
    {
     "name": "stdout",
     "output_type": "stream",
     "text": [
      "AssertionError\n"
     ]
    }
   ],
   "source": [
    "# this is for similar behaviour in python 2 and python 3\n",
    "from __future__ import print_function\n",
    "\n",
    "\n",
    "try:\n",
    "    with AssertRaises(TypeError):\n",
    "        pass\n",
    "except Exception as e:\n",
    "    print(type(e).__name__)"
   ]
  },
  {
   "cell_type": "code",
   "execution_count": 270,
   "metadata": {},
   "outputs": [
    {
     "name": "stdout",
     "output_type": "stream",
     "text": [
      "TypeError\n"
     ]
    }
   ],
   "source": [
    "# this is for similar behaviour in python 2 and python 3\n",
    "from __future__ import print_function\n",
    "\n",
    "\n",
    "try:\n",
    "    with AssertRaises(TypeError):\n",
    "        pass\n",
    "except Exception as e:\n",
    "    print(type(e).__name__)"
   ]
  },
  {
   "cell_type": "code",
   "execution_count": 267,
   "metadata": {},
   "outputs": [
    {
     "name": "stdout",
     "output_type": "stream",
     "text": [
      "AssertionError\n"
     ]
    }
   ],
   "source": [
    "# this is for similar behaviour in python 2 and python 3\n",
    "from __future__ import print_function\n",
    "\n",
    "\n",
    "try:\n",
    "    with AssertRaises(ZeroDivisionError):\n",
    "        range('qwerty')\n",
    "except Exception as e:\n",
    "    print(type(e).__name__)"
   ]
  },
  {
   "cell_type": "code",
   "execution_count": 268,
   "metadata": {
    "collapsed": true
   },
   "outputs": [],
   "source": [
    "# this is for similar behaviour in python 2 and python 3\n",
    "from __future__ import print_function\n",
    "\n",
    "\n",
    "class MyTypeError(TypeError):\n",
    "    pass\n",
    "\n",
    "\n",
    "try:\n",
    "    with AssertRaises(TypeError):\n",
    "        raise MyTypeError()\n",
    "except Exception as e:\n",
    "    print(type(e).__name__)"
   ]
  },
  {
   "cell_type": "code",
   "execution_count": null,
   "metadata": {
    "collapsed": true
   },
   "outputs": [],
   "source": []
  },
  {
   "cell_type": "code",
   "execution_count": 249,
   "metadata": {},
   "outputs": [
    {
     "ename": "TypeError",
     "evalue": "'str' object cannot be interpreted as an integer",
     "output_type": "error",
     "traceback": [
      "\u001b[0;31m---------------------------------------------------------------------------\u001b[0m",
      "\u001b[0;31mTypeError\u001b[0m                                 Traceback (most recent call last)",
      "\u001b[0;32m<ipython-input-249-768837eda0e4>\u001b[0m in \u001b[0;36m<module>\u001b[0;34m()\u001b[0m\n\u001b[1;32m      1\u001b[0m \u001b[0;32mwith\u001b[0m \u001b[0mAssertRaises\u001b[0m\u001b[0;34m(\u001b[0m\u001b[0mTypeError\u001b[0m\u001b[0;34m)\u001b[0m\u001b[0;34m:\u001b[0m\u001b[0;34m\u001b[0m\u001b[0m\n\u001b[0;32m----> 2\u001b[0;31m     \u001b[0mrange\u001b[0m\u001b[0;34m(\u001b[0m\u001b[0;34m'qwerty'\u001b[0m\u001b[0;34m)\u001b[0m\u001b[0;34m\u001b[0m\u001b[0m\n\u001b[0m",
      "\u001b[0;31mTypeError\u001b[0m: 'str' object cannot be interpreted as an integer"
     ]
    }
   ],
   "source": [
    "with AssertRaises(TypeError):\n",
    "    range('qwerty')"
   ]
  },
  {
   "cell_type": "code",
   "execution_count": null,
   "metadata": {
    "collapsed": true
   },
   "outputs": [],
   "source": []
  },
  {
   "cell_type": "code",
   "execution_count": null,
   "metadata": {
    "collapsed": true
   },
   "outputs": [],
   "source": []
  },
  {
   "cell_type": "markdown",
   "metadata": {},
   "source": [
    "# Task2 inexhaustible "
   ]
  },
  {
   "cell_type": "code",
   "execution_count": 7,
   "metadata": {
    "collapsed": true
   },
   "outputs": [],
   "source": [
    "import copy\n",
    "from functools import wraps\n",
    "import sys\n",
    "\n",
    "\n",
    "class Inexhaustible(object):\n",
    "\n",
    "    def __init__(self, gen_func, argv, kwargv):\n",
    "        self.gen_func = gen_func\n",
    "        self.argv = copy.copy(argv)\n",
    "        self.kwargv = copy.copy(kwargv)\n",
    "        self.local_copy = iter(self)\n",
    "\n",
    "    def __iter__(self):\n",
    "        return self.gen_func(*self.argv, **self.kwargv)\n",
    "\n",
    "    def __next__(self):\n",
    "        return next(self.local_copy)\n",
    "\n",
    "\n",
    "def inexhaustible(g_func):\n",
    "    @wraps(g_func)\n",
    "    def gen(*argv, **kwargv):\n",
    "        return Inexhaustible(g_func, argv, kwargv)\n",
    "    return gen\n",
    "\n",
    "exec(sys.stdin.read())"
   ]
  },
  {
   "cell_type": "code",
   "execution_count": 120,
   "metadata": {
    "collapsed": true
   },
   "outputs": [],
   "source": [
    "class TopGenerator(object):\n",
    "    def __init__(self, gen):\n",
    "        print('azazka')\n",
    "        self.gen = gen\n",
    "        self.generator = gen()\n",
    "    \n",
    "    def __next__(self):\n",
    "        print('HERE\\n')\n",
    "#         try:\n",
    "        return next(self.generator)\n",
    "#         except StopIteration:\n",
    "#             print('gigi')\n",
    "#             self.generator = self.gen()\n",
    "#             raise StopIteration()\n",
    "#             print('ggwp')"
   ]
  },
  {
   "cell_type": "code",
   "execution_count": 129,
   "metadata": {
    "collapsed": true
   },
   "outputs": [],
   "source": [
    "class TopIterUnderGenerator(object):\n",
    "    def __init__(self, gen):\n",
    "        self.generator = gen\n",
    "\n",
    "    def __iter__(self):\n",
    "        print ('buyas')\n",
    "        return TopGenerator(self.generator)"
   ]
  },
  {
   "cell_type": "code",
   "execution_count": 148,
   "metadata": {
    "collapsed": true
   },
   "outputs": [],
   "source": [
    "def inexhaustible(gen):\n",
    "    def wrapper(*args):\n",
    "        gena = TopIterUnderGenerator(gen)\n",
    "        iter_gena = iter(gena)\n",
    "        while True:\n",
    "            try:\n",
    "                yield next(iter_gena)\n",
    "            except StopIteration:\n",
    "#                 raise StopIteration()\n",
    "                gena = TopIterUnderGenerator(gen)\n",
    "                iter_gena = iter(gena)\n",
    "                raise StopIteration()\n",
    "#                 continue\n",
    "        wrapper()\n",
    "    return wrapper"
   ]
  },
  {
   "cell_type": "code",
   "execution_count": 4,
   "metadata": {},
   "outputs": [
    {
     "name": "stdout",
     "output_type": "stream",
     "text": [
      "[1, 2]\n",
      "[1, 2]\n"
     ]
    }
   ],
   "source": [
    "@inexhaustible\n",
    "def some_generator():\n",
    "    yield 1\n",
    "    yield 2\n",
    "\n",
    "x = some_generator()\n",
    "print(list(x))\n",
    "print(list(x))"
   ]
  },
  {
   "cell_type": "code",
   "execution_count": 4,
   "metadata": {
    "collapsed": true
   },
   "outputs": [],
   "source": [
    "def inexhaustible(gen):\n",
    "    def wrapper(*args):\n",
    "        gena = gen()\n",
    "        while True:\n",
    "            try:\n",
    "                yield next(gena)\n",
    "            except StopIteration:\n",
    "                gena = gen()\n",
    "                break\n",
    "    return wrapper"
   ]
  },
  {
   "cell_type": "code",
   "execution_count": 70,
   "metadata": {
    "collapsed": true
   },
   "outputs": [],
   "source": [
    "x = some_generator()"
   ]
  },
  {
   "cell_type": "code",
   "execution_count": 96,
   "metadata": {
    "collapsed": true
   },
   "outputs": [],
   "source": [
    "def inexhaustible(gen):\n",
    "    def wrapper(*args):\n",
    "        gena = iter(gen,1)\n",
    "        while True:\n",
    "            yield next(gena)\n",
    "    return wrapper"
   ]
  },
  {
   "cell_type": "code",
   "execution_count": 182,
   "metadata": {
    "collapsed": true
   },
   "outputs": [],
   "source": [
    "import sys\n",
    "from functools import wraps\n",
    "\n",
    "def inexhaustible(gen):\n",
    "    \n",
    "    class Foo:\n",
    "        @wraps\n",
    "        def __init__(self, *args):\n",
    "            self.args = args\n",
    "\n",
    "        def __iter__(self):\n",
    "            return gen(*self.args)\n",
    "    return Foo\n",
    "\n",
    "exec(sys.stdin.read())\n",
    "\n"
   ]
  },
  {
   "cell_type": "code",
   "execution_count": 5,
   "metadata": {},
   "outputs": [
    {
     "name": "stdout",
     "output_type": "stream",
     "text": [
      "[1, 'abcd', 2]\n",
      "[1, 'abcd', 2]\n"
     ]
    }
   ],
   "source": [
    "# this is for similar behaviour in python 2 and python 3\n",
    "from __future__ import print_function\n",
    "\n",
    "@inexhaustible\n",
    "def some_generator(a, b):\n",
    "    yield a\n",
    "    yield 'abcd'\n",
    "    yield b\n",
    "\n",
    "x = some_generator(1, 2)\n",
    "print(list(x))\n",
    "print(list(x))"
   ]
  },
  {
   "cell_type": "code",
   "execution_count": 6,
   "metadata": {},
   "outputs": [
    {
     "name": "stdout",
     "output_type": "stream",
     "text": [
      "[1, 2]\n",
      "[1, 2]\n"
     ]
    }
   ],
   "source": [
    "@inexhaustible\n",
    "def some_generator():\n",
    "    yield 1\n",
    "    yield 2\n",
    "\n",
    "x = some_generator()\n",
    "print(list(x))\n",
    "print(list(x))"
   ]
  },
  {
   "cell_type": "code",
   "execution_count": 154,
   "metadata": {
    "collapsed": true
   },
   "outputs": [],
   "source": [
    "x = some_generator()"
   ]
  },
  {
   "cell_type": "code",
   "execution_count": 165,
   "metadata": {},
   "outputs": [
    {
     "ename": "TypeError",
     "evalue": "'Foo' object is not an iterator",
     "output_type": "error",
     "traceback": [
      "\u001b[0;31m---------------------------------------------------------------------------\u001b[0m",
      "\u001b[0;31mTypeError\u001b[0m                                 Traceback (most recent call last)",
      "\u001b[0;32m<ipython-input-165-5e4e57af3a97>\u001b[0m in \u001b[0;36m<module>\u001b[0;34m()\u001b[0m\n\u001b[0;32m----> 1\u001b[0;31m \u001b[0mnext\u001b[0m\u001b[0;34m(\u001b[0m\u001b[0mx\u001b[0m\u001b[0;34m)\u001b[0m\u001b[0;34m\u001b[0m\u001b[0m\n\u001b[0m",
      "\u001b[0;31mTypeError\u001b[0m: 'Foo' object is not an iterator"
     ]
    }
   ],
   "source": [
    "next(x)"
   ]
  },
  {
   "cell_type": "code",
   "execution_count": 113,
   "metadata": {
    "collapsed": true
   },
   "outputs": [],
   "source": [
    "class MyRangeIterator(object):\n",
    "    def __init__(self, end):\n",
    "        self.end = end\n",
    "        self.current = 0\n",
    "    def __next__(self):\n",
    "        print('here')\n",
    "        if self.current == self.end:\n",
    "            print('bubu')\n",
    "            raise StopIteration()\n",
    "        print('kyky')\n",
    "        result = self.current\n",
    "        self.current += 1\n",
    "        return result"
   ]
  },
  {
   "cell_type": "code",
   "execution_count": 116,
   "metadata": {
    "collapsed": true
   },
   "outputs": [],
   "source": [
    "class MyRange(object):\n",
    "    def __init__(self, end):\n",
    "        self.end = end\n",
    "    def __iter__(self):\n",
    "        print('itir')\n",
    "        return MyRangeIterator(self.end)"
   ]
  },
  {
   "cell_type": "code",
   "execution_count": 117,
   "metadata": {},
   "outputs": [
    {
     "name": "stdout",
     "output_type": "stream",
     "text": [
      "itir\n",
      "here\n",
      "kyky\n",
      "here\n",
      "kyky\n",
      "here\n",
      "kyky\n",
      "here\n",
      "kyky\n",
      "here\n",
      "kyky\n",
      "here\n",
      "bubu\n",
      "[0, 1, 2, 3, 4]\n",
      "itir\n",
      "here\n",
      "kyky\n",
      "here\n",
      "kyky\n",
      "here\n",
      "kyky\n",
      "here\n",
      "kyky\n",
      "here\n",
      "kyky\n",
      "here\n",
      "bubu\n",
      "[0, 1, 2, 3, 4]\n"
     ]
    }
   ],
   "source": [
    "x = MyRange(5)\n",
    "print(list(x))\n",
    "print(list(x))"
   ]
  },
  {
   "cell_type": "code",
   "execution_count": null,
   "metadata": {
    "collapsed": true
   },
   "outputs": [],
   "source": []
  }
 ],
 "metadata": {
  "kernelspec": {
   "display_name": "Python 3",
   "language": "python",
   "name": "python3"
  },
  "language_info": {
   "codemirror_mode": {
    "name": "ipython",
    "version": 3
   },
   "file_extension": ".py",
   "mimetype": "text/x-python",
   "name": "python",
   "nbconvert_exporter": "python",
   "pygments_lexer": "ipython3",
   "version": "3.6.1"
  }
 },
 "nbformat": 4,
 "nbformat_minor": 2
}
