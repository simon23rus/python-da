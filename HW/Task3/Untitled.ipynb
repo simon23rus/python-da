{
 "cells": [
  {
   "cell_type": "code",
   "execution_count": 1,
   "metadata": {
    "collapsed": true
   },
   "outputs": [],
   "source": [
    "n = 11\n",
    "text = ['Ешь немытого ты меньше!',\n",
    "'Знамо, даже у ежа дома НЗ.',\n",
    "'И не татар костит Сократ, а тени.',\n",
    "'И Леман на мели!',\n",
    "'А лис, он умён — крыса сыр к нему носила. (И. Бабицкий)',\n",
    "'У дуба буду.',\n",
    "'А врет, стерва!',\n",
    "'Баба заругала балагура за баб.',\n",
    "'Я сличил то и то - вот и отличился.',\n",
    "'Болит и лоб.',\n",
    "'Вот не мила с алиментов.']"
   ]
  },
  {
   "cell_type": "code",
   "execution_count": 2,
   "metadata": {},
   "outputs": [
    {
     "name": "stdout",
     "output_type": "stream",
     "text": [
      "4 FALSE\n",
      "4 FALSE\n",
      "4 FALSE\n",
      "4 FALSE\n",
      "4 FALSE\n",
      "4 FALSE\n",
      "4 FALSE\n",
      "4 FALSE\n",
      "4 FALSE\n",
      "4 FALSE\n",
      "4 FALSE\n",
      "4 FALSE\n",
      "4 FALSE\n",
      "4 FALSE\n",
      "4 FALSE\n",
      "4 FALSE\n",
      "4 FALSE\n",
      "4 FALSE\n",
      "4 FALSE\n"
     ]
    }
   ],
   "source": [
    "import re\n",
    "for ind, row in enumerate(text):\n",
    "    new_row = (re.sub('\\W','', row.lower()))\n",
    "    new_row = new_row.replace('ё', 'е')\n",
    "    for j in range(len(new_row) // 2):\n",
    "        if new_row[j] != new_row[-(j + 1)]:\n",
    "            print(ind, 'FALSE')"
   ]
  },
  {
   "cell_type": "code",
   "execution_count": 3,
   "metadata": {},
   "outputs": [
    {
     "name": "stdout",
     "output_type": "stream",
     "text": [
      "-\n"
     ]
    },
    {
     "ename": "ValueError",
     "evalue": "invalid literal for int() with base 10: '-'",
     "output_type": "error",
     "traceback": [
      "\u001b[0;31m---------------------------------------------------------------------------\u001b[0m",
      "\u001b[0;31mValueError\u001b[0m                                Traceback (most recent call last)",
      "\u001b[0;32m<ipython-input-3-e91e616e0023>\u001b[0m in \u001b[0;36m<module>\u001b[0;34m()\u001b[0m\n\u001b[1;32m     17\u001b[0m \u001b[0;34m\u001b[0m\u001b[0m\n\u001b[1;32m     18\u001b[0m \u001b[0;34m\u001b[0m\u001b[0m\n\u001b[0;32m---> 19\u001b[0;31m \u001b[0mmain\u001b[0m\u001b[0;34m(\u001b[0m\u001b[0;34m)\u001b[0m\u001b[0;34m\u001b[0m\u001b[0m\n\u001b[0m",
      "\u001b[0;32m<ipython-input-3-e91e616e0023>\u001b[0m in \u001b[0;36mmain\u001b[0;34m()\u001b[0m\n\u001b[1;32m      1\u001b[0m \u001b[0;32mdef\u001b[0m \u001b[0mmain\u001b[0m\u001b[0;34m(\u001b[0m\u001b[0;34m)\u001b[0m\u001b[0;34m:\u001b[0m\u001b[0;34m\u001b[0m\u001b[0m\n\u001b[0;32m----> 2\u001b[0;31m     \u001b[0mn\u001b[0m \u001b[0;34m=\u001b[0m \u001b[0mint\u001b[0m\u001b[0;34m(\u001b[0m\u001b[0minput\u001b[0m\u001b[0;34m(\u001b[0m\u001b[0;34m)\u001b[0m\u001b[0;34m)\u001b[0m\u001b[0;34m\u001b[0m\u001b[0m\n\u001b[0m\u001b[1;32m      3\u001b[0m     \u001b[0;32mimport\u001b[0m \u001b[0mre\u001b[0m\u001b[0;34m\u001b[0m\u001b[0m\n\u001b[1;32m      4\u001b[0m     \u001b[0;32mfor\u001b[0m \u001b[0mind\u001b[0m \u001b[0;32min\u001b[0m \u001b[0mrange\u001b[0m\u001b[0;34m(\u001b[0m\u001b[0mn\u001b[0m\u001b[0;34m)\u001b[0m\u001b[0;34m:\u001b[0m\u001b[0;34m\u001b[0m\u001b[0m\n\u001b[1;32m      5\u001b[0m         \u001b[0mrow\u001b[0m \u001b[0;34m=\u001b[0m \u001b[0minput\u001b[0m\u001b[0;34m(\u001b[0m\u001b[0;34m)\u001b[0m\u001b[0;34m\u001b[0m\u001b[0m\n",
      "\u001b[0;31mValueError\u001b[0m: invalid literal for int() with base 10: '-'"
     ]
    }
   ],
   "source": [
    "def main():\n",
    "    n = int(input())\n",
    "    import re\n",
    "    for ind in range(n):\n",
    "        row = input()\n",
    "        new_row = (re.sub('\\W','', row.lower()))\n",
    "        new_row = new_row.replace('ё', 'е')\n",
    "        flag = False\n",
    "        for j in range(len(new_row) // 2):\n",
    "            if new_row[j] != new_row[-(j + 1)]:\n",
    "                print('no')\n",
    "                flag = True\n",
    "                break\n",
    "        \n",
    "        if flag == False:\n",
    "            print('yes')\n",
    "                \n",
    "                \n",
    "main()"
   ]
  },
  {
   "cell_type": "code",
   "execution_count": null,
   "metadata": {
    "collapsed": true
   },
   "outputs": [],
   "source": [
    "n = 11\n",
    "words = [\n",
    "'окорок',\n",
    "'петлей',\n",
    "'Плетей',\n",
    "'рококо',\n",
    "'теплей',\n",
    "'Тишь',\n",
    "'ТОМНО',\n",
    "'тонко',\n",
    "'тонок',\n",
    "'тоном',\n",
    "'шить'\n",
    "    \n",
    "]"
   ]
  },
  {
   "cell_type": "code",
   "execution_count": null,
   "metadata": {
    "collapsed": true,
    "scrolled": true
   },
   "outputs": [],
   "source": [
    "from collections import defaultdict\n",
    "\n",
    "\n",
    "def main():\n",
    "    n = int(input())\n",
    "\n",
    "    anagram_groups = defaultdict(list)\n",
    "    for i in range(n):\n",
    "        cur_word = input().lower()\n",
    "        anagram_groups[''.join(sorted(cur_word))].append(cur_word)\n",
    "\n",
    "    for group in anagram_groups:\n",
    "        print(' '.join(anagram_groups[group]))\n",
    "\n",
    "\n",
    "main()\n"
   ]
  },
  {
   "cell_type": "code",
   "execution_count": null,
   "metadata": {
    "collapsed": true
   },
   "outputs": [],
   "source": [
    "anagram_groups = defaultdict(list)\n",
    "for i in range(n):\n",
    "    cur_word = words[i].lower()\n",
    "    anagram_groups[''.join(sorted(cur_word))].append(cur_word)\n",
    "\n",
    "for group in anagram_groups:\n",
    "    print(' '.join(anagram_groups[group]))\n",
    "\n"
   ]
  },
  {
   "cell_type": "code",
   "execution_count": null,
   "metadata": {
    "collapsed": true
   },
   "outputs": [],
   "source": [
    "from collections import Counter"
   ]
  },
  {
   "cell_type": "code",
   "execution_count": 4,
   "metadata": {},
   "outputs": [
    {
     "ename": "NameError",
     "evalue": "name 'anagram_groups' is not defined",
     "output_type": "error",
     "traceback": [
      "\u001b[0;31m---------------------------------------------------------------------------\u001b[0m",
      "\u001b[0;31mNameError\u001b[0m                                 Traceback (most recent call last)",
      "\u001b[0;32m<ipython-input-4-9339d253f64d>\u001b[0m in \u001b[0;36m<module>\u001b[0;34m()\u001b[0m\n\u001b[0;32m----> 1\u001b[0;31m \u001b[0managram_groups\u001b[0m\u001b[0;34m.\u001b[0m\u001b[0mvalues\u001b[0m\u001b[0;34m(\u001b[0m\u001b[0;34m)\u001b[0m\u001b[0;34m\u001b[0m\u001b[0m\n\u001b[0m",
      "\u001b[0;31mNameError\u001b[0m: name 'anagram_groups' is not defined"
     ]
    }
   ],
   "source": [
    "anagram_groups.values()"
   ]
  },
  {
   "cell_type": "code",
   "execution_count": 5,
   "metadata": {},
   "outputs": [
    {
     "ename": "NameError",
     "evalue": "name 'anagram_groups' is not defined",
     "output_type": "error",
     "traceback": [
      "\u001b[0;31m---------------------------------------------------------------------------\u001b[0m",
      "\u001b[0;31mNameError\u001b[0m                                 Traceback (most recent call last)",
      "\u001b[0;32m<ipython-input-5-6b4e8d365817>\u001b[0m in \u001b[0;36m<module>\u001b[0;34m()\u001b[0m\n\u001b[0;32m----> 1\u001b[0;31m \u001b[0msorted\u001b[0m\u001b[0;34m(\u001b[0m\u001b[0mlist\u001b[0m\u001b[0;34m(\u001b[0m\u001b[0managram_groups\u001b[0m\u001b[0;34m.\u001b[0m\u001b[0mvalues\u001b[0m\u001b[0;34m(\u001b[0m\u001b[0;34m)\u001b[0m\u001b[0;34m)\u001b[0m\u001b[0;34m)\u001b[0m\u001b[0;34m\u001b[0m\u001b[0m\n\u001b[0m",
      "\u001b[0;31mNameError\u001b[0m: name 'anagram_groups' is not defined"
     ]
    }
   ],
   "source": [
    "sorted(list(anagram_groups.values()))"
   ]
  },
  {
   "cell_type": "code",
   "execution_count": 6,
   "metadata": {},
   "outputs": [
    {
     "data": {
      "text/plain": [
       "[[4, 4, 3], [5, 2, -1]]"
      ]
     },
     "execution_count": 6,
     "metadata": {},
     "output_type": "execute_result"
    }
   ],
   "source": [
    "sorted([[5,2,-1],[4,4,3]])"
   ]
  },
  {
   "cell_type": "code",
   "execution_count": 7,
   "metadata": {},
   "outputs": [
    {
     "name": "stdout",
     "output_type": "stream",
     "text": [
      "\n"
     ]
    },
    {
     "ename": "ValueError",
     "evalue": "invalid literal for int() with base 10: ''",
     "output_type": "error",
     "traceback": [
      "\u001b[0;31m---------------------------------------------------------------------------\u001b[0m",
      "\u001b[0;31mValueError\u001b[0m                                Traceback (most recent call last)",
      "\u001b[0;32m<ipython-input-7-44c6c0b65dc1>\u001b[0m in \u001b[0;36m<module>\u001b[0;34m()\u001b[0m\n\u001b[1;32m     19\u001b[0m \u001b[0;34m\u001b[0m\u001b[0m\n\u001b[1;32m     20\u001b[0m \u001b[0;34m\u001b[0m\u001b[0m\n\u001b[0;32m---> 21\u001b[0;31m \u001b[0mmain\u001b[0m\u001b[0;34m(\u001b[0m\u001b[0;34m)\u001b[0m\u001b[0;34m\u001b[0m\u001b[0m\n\u001b[0m",
      "\u001b[0;32m<ipython-input-7-44c6c0b65dc1>\u001b[0m in \u001b[0;36mmain\u001b[0;34m()\u001b[0m\n\u001b[1;32m      3\u001b[0m \u001b[0;34m\u001b[0m\u001b[0m\n\u001b[1;32m      4\u001b[0m \u001b[0;32mdef\u001b[0m \u001b[0mmain\u001b[0m\u001b[0;34m(\u001b[0m\u001b[0;34m)\u001b[0m\u001b[0;34m:\u001b[0m\u001b[0;34m\u001b[0m\u001b[0m\n\u001b[0;32m----> 5\u001b[0;31m     \u001b[0mn\u001b[0m \u001b[0;34m=\u001b[0m \u001b[0mint\u001b[0m\u001b[0;34m(\u001b[0m\u001b[0minput\u001b[0m\u001b[0;34m(\u001b[0m\u001b[0;34m)\u001b[0m\u001b[0;34m)\u001b[0m\u001b[0;34m\u001b[0m\u001b[0m\n\u001b[0m\u001b[1;32m      6\u001b[0m \u001b[0;34m\u001b[0m\u001b[0m\n\u001b[1;32m      7\u001b[0m     \u001b[0managram_groups\u001b[0m \u001b[0;34m=\u001b[0m \u001b[0mdefaultdict\u001b[0m\u001b[0;34m(\u001b[0m\u001b[0mlist\u001b[0m\u001b[0;34m)\u001b[0m\u001b[0;34m\u001b[0m\u001b[0m\n",
      "\u001b[0;31mValueError\u001b[0m: invalid literal for int() with base 10: ''"
     ]
    }
   ],
   "source": [
    "from collections import defaultdict\n",
    "\n",
    "\n",
    "def main():\n",
    "    n = int(input())\n",
    "\n",
    "    anagram_groups = defaultdict(list)\n",
    "    for i in range(n):\n",
    "        cur_word = input().lower()\n",
    "        anagram_groups[''.join(sorted(cur_word))].append(cur_word)\n",
    "\n",
    "    for group in anagram_groups:\n",
    "        anagram_groups[group] = sorted(set(anagram_groups[group]))\n",
    "\n",
    "    for elem in sorted(list(anagram_groups.values())):\n",
    "        if len(elem) <= 1:\n",
    "            continue\n",
    "        print(' '.join(elem))\n",
    "\n",
    "\n",
    "main()\n"
   ]
  },
  {
   "cell_type": "code",
   "execution_count": null,
   "metadata": {
    "collapsed": true
   },
   "outputs": [],
   "source": [
    "anagram_groups[0][0] == anagram_groups[0][0]"
   ]
  },
  {
   "cell_type": "code",
   "execution_count": null,
   "metadata": {
    "collapsed": true
   },
   "outputs": [],
   "source": [
    "sorted(anagram_groups)"
   ]
  },
  {
   "cell_type": "code",
   "execution_count": null,
   "metadata": {
    "collapsed": true
   },
   "outputs": [],
   "source": []
  },
  {
   "cell_type": "code",
   "execution_count": null,
   "metadata": {
    "collapsed": true
   },
   "outputs": [],
   "source": []
  },
  {
   "cell_type": "code",
   "execution_count": null,
   "metadata": {
    "collapsed": true
   },
   "outputs": [],
   "source": []
  },
  {
   "cell_type": "code",
   "execution_count": null,
   "metadata": {
    "collapsed": true
   },
   "outputs": [],
   "source": []
  },
  {
   "cell_type": "code",
   "execution_count": 8,
   "metadata": {
    "collapsed": true
   },
   "outputs": [],
   "source": [
    "ddd = {1:2,\n",
    "       4:-1,\n",
    "       3:-1}"
   ]
  },
  {
   "cell_type": "code",
   "execution_count": 9,
   "metadata": {},
   "outputs": [
    {
     "data": {
      "text/plain": [
       "[(3, -1), (4, -1), (1, 2)]"
      ]
     },
     "execution_count": 9,
     "metadata": {},
     "output_type": "execute_result"
    }
   ],
   "source": [
    "sorted(list(ddd.items()), key=lambda x: (x[1],x[0]))"
   ]
  },
  {
   "cell_type": "code",
   "execution_count": 10,
   "metadata": {},
   "outputs": [
    {
     "data": {
      "text/plain": [
       "(3, -1)"
      ]
     },
     "execution_count": 10,
     "metadata": {},
     "output_type": "execute_result"
    }
   ],
   "source": [
    "min(list(ddd.items()), key=lambda x: (x[1],x[0]))"
   ]
  },
  {
   "cell_type": "code",
   "execution_count": 11,
   "metadata": {},
   "outputs": [
    {
     "ename": "IndexError",
     "evalue": "list index out of range",
     "output_type": "error",
     "traceback": [
      "\u001b[0;31m---------------------------------------------------------------------------\u001b[0m",
      "\u001b[0;31mIndexError\u001b[0m                                Traceback (most recent call last)",
      "\u001b[0;32m<ipython-input-11-1afcdce86e7e>\u001b[0m in \u001b[0;36m<module>\u001b[0;34m()\u001b[0m\n\u001b[1;32m     31\u001b[0m \u001b[0;34m\u001b[0m\u001b[0m\n\u001b[1;32m     32\u001b[0m \u001b[0;34m\u001b[0m\u001b[0m\n\u001b[0;32m---> 33\u001b[0;31m \u001b[0mmain\u001b[0m\u001b[0;34m(\u001b[0m\u001b[0;34m)\u001b[0m\u001b[0;34m\u001b[0m\u001b[0m\n\u001b[0m",
      "\u001b[0;32m<ipython-input-11-1afcdce86e7e>\u001b[0m in \u001b[0;36mmain\u001b[0;34m()\u001b[0m\n\u001b[1;32m      7\u001b[0m \u001b[0;34m\u001b[0m\u001b[0m\n\u001b[1;32m      8\u001b[0m     \u001b[0mdelimeter_pos\u001b[0m \u001b[0;34m=\u001b[0m \u001b[0;36m0\u001b[0m\u001b[0;34m\u001b[0m\u001b[0m\n\u001b[0;32m----> 9\u001b[0;31m     \u001b[0;32mwhile\u001b[0m\u001b[0;34m(\u001b[0m\u001b[0mdata\u001b[0m\u001b[0;34m[\u001b[0m\u001b[0mdelimeter_pos\u001b[0m\u001b[0;34m]\u001b[0m \u001b[0;34m!=\u001b[0m \u001b[0;34m''\u001b[0m\u001b[0;34m)\u001b[0m\u001b[0;34m:\u001b[0m\u001b[0;34m\u001b[0m\u001b[0m\n\u001b[0m\u001b[1;32m     10\u001b[0m         \u001b[0mdelimeter_pos\u001b[0m \u001b[0;34m+=\u001b[0m \u001b[0;36m1\u001b[0m\u001b[0;34m\u001b[0m\u001b[0m\n\u001b[1;32m     11\u001b[0m     \u001b[0mlang_info\u001b[0m \u001b[0;34m=\u001b[0m \u001b[0mdata\u001b[0m\u001b[0;34m[\u001b[0m\u001b[0;34m:\u001b[0m\u001b[0mdelimeter_pos\u001b[0m\u001b[0;34m]\u001b[0m\u001b[0;34m\u001b[0m\u001b[0m\n",
      "\u001b[0;31mIndexError\u001b[0m: list index out of range"
     ]
    }
   ],
   "source": [
    "from collections import defaultdict\n",
    "\n",
    "\n",
    "def main():\n",
    "    with open('input.txt', 'r') as f:\n",
    "        data = f.readlines()\n",
    "\n",
    "    delimeter_pos = 0\n",
    "    while(data[delimeter_pos] != ''):\n",
    "        delimeter_pos += 1\n",
    "    lang_info = data[:delimeter_pos]\n",
    "    texts = data[delimeter_pos + 1:]\n",
    "\n",
    "    symbol_to_lang = {}\n",
    "    for lang_in in lang_info:\n",
    "        lang, letters = lang_info.split()\n",
    "        for letter in letters:\n",
    "            symbol_to_lang[letter] = lang\n",
    "\n",
    "    for text in texts:\n",
    "        lang_letters = defaultdict(int)\n",
    "        for symbol in text:\n",
    "            if symbol in symbol_to_lang:\n",
    "                lang_letters[symbol_to_lang[symbol]] -= 1\n",
    "        if len(lang_letters) == 0:\n",
    "            print('')\n",
    "        else:\n",
    "            results = sorted(list(lang_letters.items()),\n",
    "                             key=lambda x: (x[1], x[0]))\n",
    "            print(' '.join([result[0] for result in results]))\n",
    "\n",
    "\n",
    "main()\n"
   ]
  },
  {
   "cell_type": "code",
   "execution_count": 12,
   "metadata": {},
   "outputs": [
    {
     "ename": "IndexError",
     "evalue": "list index out of range",
     "output_type": "error",
     "traceback": [
      "\u001b[0;31m---------------------------------------------------------------------------\u001b[0m",
      "\u001b[0;31mIndexError\u001b[0m                                Traceback (most recent call last)",
      "\u001b[0;32m<ipython-input-12-b79193523cb8>\u001b[0m in \u001b[0;36m<module>\u001b[0;34m()\u001b[0m\n\u001b[1;32m     36\u001b[0m \u001b[0;34m\u001b[0m\u001b[0m\n\u001b[1;32m     37\u001b[0m \u001b[0;34m\u001b[0m\u001b[0m\n\u001b[0;32m---> 38\u001b[0;31m \u001b[0mmain\u001b[0m\u001b[0;34m(\u001b[0m\u001b[0;34m)\u001b[0m\u001b[0;34m\u001b[0m\u001b[0m\n\u001b[0m",
      "\u001b[0;32m<ipython-input-12-b79193523cb8>\u001b[0m in \u001b[0;36mmain\u001b[0;34m()\u001b[0m\n\u001b[1;32m      7\u001b[0m \u001b[0;34m\u001b[0m\u001b[0m\n\u001b[1;32m      8\u001b[0m     \u001b[0mdelimeter_pos\u001b[0m \u001b[0;34m=\u001b[0m \u001b[0;36m0\u001b[0m\u001b[0;34m\u001b[0m\u001b[0m\n\u001b[0;32m----> 9\u001b[0;31m     \u001b[0;32mwhile\u001b[0m\u001b[0;34m(\u001b[0m\u001b[0mdata\u001b[0m\u001b[0;34m[\u001b[0m\u001b[0mdelimeter_pos\u001b[0m\u001b[0;34m]\u001b[0m \u001b[0;34m!=\u001b[0m \u001b[0;34m''\u001b[0m\u001b[0;34m)\u001b[0m\u001b[0;34m:\u001b[0m\u001b[0;34m\u001b[0m\u001b[0m\n\u001b[0m\u001b[1;32m     10\u001b[0m         \u001b[0mdelimeter_pos\u001b[0m \u001b[0;34m+=\u001b[0m \u001b[0;36m1\u001b[0m\u001b[0;34m\u001b[0m\u001b[0m\n\u001b[1;32m     11\u001b[0m     \u001b[0mlang_info\u001b[0m \u001b[0;34m=\u001b[0m \u001b[0mdata\u001b[0m\u001b[0;34m[\u001b[0m\u001b[0;34m:\u001b[0m\u001b[0mdelimeter_pos\u001b[0m\u001b[0;34m]\u001b[0m\u001b[0;34m\u001b[0m\u001b[0m\n",
      "\u001b[0;31mIndexError\u001b[0m: list index out of range"
     ]
    }
   ],
   "source": [
    "from collections import defaultdict\n",
    "\n",
    "\n",
    "def main():\n",
    "    with open('input.txt', 'r') as f:\n",
    "        data = f.read().splitlines()\n",
    "\n",
    "    delimeter_pos = 0\n",
    "    while(data[delimeter_pos] != ''):\n",
    "        delimeter_pos += 1\n",
    "    lang_info = data[:delimeter_pos]\n",
    "    texts = data[delimeter_pos + 1:]\n",
    "\n",
    "    symbol_to_lang = {}\n",
    "    for lang_in in lang_info:\n",
    "        lang, letters = lang_in.split()\n",
    "        for letter in letters:\n",
    "            symbol_to_lang[letter] = lang\n",
    "\n",
    "    for text in texts:\n",
    "        text_langs = set()\n",
    "        for word in text.lower().split():\n",
    "            lang_letters = defaultdict(int)\n",
    "            for symbol in word:\n",
    "                if symbol in symbol_to_lang:\n",
    "                    lang_letters[symbol_to_lang[symbol]] -= 1\n",
    "            if len(lang_letters) == 0:\n",
    "                continue\n",
    "            else:\n",
    "                text_langs.add(min(list(lang_letters.items()),\n",
    "                               key=lambda x: (x[1], x[0]))[0])\n",
    "        if len(text_langs) == 0:\n",
    "            print('')\n",
    "        else:\n",
    "            print(' '.join(sorted(text_langs)))\n",
    "\n",
    "\n",
    "main()\n"
   ]
  },
  {
   "cell_type": "code",
   "execution_count": 13,
   "metadata": {},
   "outputs": [
    {
     "data": {
      "text/plain": [
       "[1, 3, 7]"
      ]
     },
     "execution_count": 13,
     "metadata": {},
     "output_type": "execute_result"
    }
   ],
   "source": [
    "sorted({1,3,7,3})"
   ]
  },
  {
   "cell_type": "code",
   "execution_count": 14,
   "metadata": {},
   "outputs": [
    {
     "ename": "NameError",
     "evalue": "name 'lang_letters' is not defined",
     "output_type": "error",
     "traceback": [
      "\u001b[0;31m---------------------------------------------------------------------------\u001b[0m",
      "\u001b[0;31mNameError\u001b[0m                                 Traceback (most recent call last)",
      "\u001b[0;32m<ipython-input-14-1fb972007d79>\u001b[0m in \u001b[0;36m<module>\u001b[0;34m()\u001b[0m\n\u001b[0;32m----> 1\u001b[0;31m \u001b[0mlang_letters\u001b[0m\u001b[0;34m\u001b[0m\u001b[0m\n\u001b[0m",
      "\u001b[0;31mNameError\u001b[0m: name 'lang_letters' is not defined"
     ]
    }
   ],
   "source": [
    "lang_letters"
   ]
  },
  {
   "cell_type": "code",
   "execution_count": 15,
   "metadata": {},
   "outputs": [
    {
     "ename": "NameError",
     "evalue": "name 'texts' is not defined",
     "output_type": "error",
     "traceback": [
      "\u001b[0;31m---------------------------------------------------------------------------\u001b[0m",
      "\u001b[0;31mNameError\u001b[0m                                 Traceback (most recent call last)",
      "\u001b[0;32m<ipython-input-15-42550586ed6d>\u001b[0m in \u001b[0;36m<module>\u001b[0;34m()\u001b[0m\n\u001b[0;32m----> 1\u001b[0;31m \u001b[0mtexts\u001b[0m\u001b[0;34m\u001b[0m\u001b[0m\n\u001b[0m",
      "\u001b[0;31mNameError\u001b[0m: name 'texts' is not defined"
     ]
    }
   ],
   "source": [
    "texts"
   ]
  },
  {
   "cell_type": "code",
   "execution_count": 16,
   "metadata": {},
   "outputs": [
    {
     "ename": "NameError",
     "evalue": "name 'lang_in' is not defined",
     "output_type": "error",
     "traceback": [
      "\u001b[0;31m---------------------------------------------------------------------------\u001b[0m",
      "\u001b[0;31mNameError\u001b[0m                                 Traceback (most recent call last)",
      "\u001b[0;32m<ipython-input-16-a8fbfdefd1fe>\u001b[0m in \u001b[0;36m<module>\u001b[0;34m()\u001b[0m\n\u001b[0;32m----> 1\u001b[0;31m \u001b[0mlang_in\u001b[0m\u001b[0;34m.\u001b[0m\u001b[0msplit\u001b[0m\u001b[0;34m(\u001b[0m\u001b[0;34m)\u001b[0m\u001b[0;34m\u001b[0m\u001b[0m\n\u001b[0m",
      "\u001b[0;31mNameError\u001b[0m: name 'lang_in' is not defined"
     ]
    }
   ],
   "source": [
    "lang_in.split()"
   ]
  },
  {
   "cell_type": "code",
   "execution_count": 17,
   "metadata": {},
   "outputs": [
    {
     "ename": "NameError",
     "evalue": "name 'data' is not defined",
     "output_type": "error",
     "traceback": [
      "\u001b[0;31m---------------------------------------------------------------------------\u001b[0m",
      "\u001b[0;31mNameError\u001b[0m                                 Traceback (most recent call last)",
      "\u001b[0;32m<ipython-input-17-6137cde4893c>\u001b[0m in \u001b[0;36m<module>\u001b[0;34m()\u001b[0m\n\u001b[0;32m----> 1\u001b[0;31m \u001b[0mdata\u001b[0m\u001b[0;34m\u001b[0m\u001b[0m\n\u001b[0m",
      "\u001b[0;31mNameError\u001b[0m: name 'data' is not defined"
     ]
    }
   ],
   "source": [
    "data"
   ]
  },
  {
   "cell_type": "code",
   "execution_count": 18,
   "metadata": {
    "collapsed": true
   },
   "outputs": [],
   "source": [
    "with open('input.txt') as f:\n",
    "    data = f.read()"
   ]
  },
  {
   "cell_type": "code",
   "execution_count": 19,
   "metadata": {},
   "outputs": [
    {
     "data": {
      "text/plain": [
       "'probabilities --depth 1\\nFirst test sentence\\nSecond test line'"
      ]
     },
     "execution_count": 19,
     "metadata": {},
     "output_type": "execute_result"
    }
   ],
   "source": [
    "data"
   ]
  },
  {
   "cell_type": "code",
   "execution_count": 20,
   "metadata": {
    "collapsed": true
   },
   "outputs": [],
   "source": [
    "text = 'import sklearn.cross_validation.train_test_split from scipy import special  import math from os import path def f(a): if a == 0: import re'"
   ]
  },
  {
   "cell_type": "code",
   "execution_count": 21,
   "metadata": {
    "collapsed": true
   },
   "outputs": [],
   "source": [
    "import re"
   ]
  },
  {
   "cell_type": "code",
   "execution_count": 22,
   "metadata": {},
   "outputs": [
    {
     "name": "stdout",
     "output_type": "stream",
     "text": [
      "0 48\n",
      "import sklearn.cross_validation.train_test_split\n",
      "49 74\n",
      "from scipy import special\n",
      "76 87\n",
      "import math\n",
      "88 107\n",
      "from os import path\n",
      "129 138\n",
      "import re\n"
     ]
    }
   ],
   "source": [
    "imports = []\n",
    "for match in re.finditer(r'(import [\\w\\.]+)|(from [\\w\\.]+ import [\\w\\.]+)', text):\n",
    "    print(match.start(), match.end())\n",
    "    print(text[match.start(): match.end()])\n",
    "    imports.append(text[match.start(): match.end()])"
   ]
  },
  {
   "cell_type": "code",
   "execution_count": 23,
   "metadata": {
    "collapsed": true
   },
   "outputs": [],
   "source": [
    "def cleaner(strink):\n",
    "    modules = strink.split()[1]\n",
    "    return modules.split('.')"
   ]
  },
  {
   "cell_type": "code",
   "execution_count": 24,
   "metadata": {},
   "outputs": [
    {
     "name": "stdout",
     "output_type": "stream",
     "text": [
      "cross_validation math os re scipy sklearn train_test_split\n"
     ]
    }
   ],
   "source": [
    "ans = []\n",
    "for lis in list(map(cleaner, imports)):\n",
    "    ans += lis\n",
    "\n",
    "print(' '.join(sorted(set(ans))))"
   ]
  },
  {
   "cell_type": "code",
   "execution_count": 25,
   "metadata": {},
   "outputs": [
    {
     "name": "stdout",
     "output_type": "stream",
     "text": [
      "0 14\n",
      "import sklearn\n",
      "60 74\n",
      "import special\n",
      "76 87\n",
      "import math\n",
      "96 107\n",
      "import path\n",
      "129 138\n",
      "import re\n"
     ]
    }
   ],
   "source": [
    "for match in re.finditer(r'(import \\w+)', text):\n",
    "    print(match.start(), match.end())\n",
    "    print(text[match.start(): match.end()])"
   ]
  },
  {
   "cell_type": "code",
   "execution_count": null,
   "metadata": {
    "collapsed": true
   },
   "outputs": [],
   "source": []
  },
  {
   "cell_type": "code",
   "execution_count": null,
   "metadata": {
    "collapsed": true
   },
   "outputs": [],
   "source": []
  },
  {
   "cell_type": "code",
   "execution_count": null,
   "metadata": {
    "collapsed": true
   },
   "outputs": [],
   "source": []
  },
  {
   "cell_type": "code",
   "execution_count": 26,
   "metadata": {},
   "outputs": [
    {
     "data": {
      "text/plain": [
       "2"
      ]
     },
     "execution_count": 26,
     "metadata": {},
     "output_type": "execute_result"
    }
   ],
   "source": [
    "1 + 1"
   ]
  },
  {
   "cell_type": "code",
   "execution_count": 27,
   "metadata": {},
   "outputs": [
    {
     "name": "stdout",
     "output_type": "stream",
     "text": [
      "\n"
     ]
    }
   ],
   "source": [
    "import re\n",
    "\n",
    "\n",
    "def cleaner(strink):\n",
    "    if strink.split()[0] == 'import':\n",
    "        modules = re.split(r', ', strink)\n",
    "        modules[0] = modules[0].split()[-1]\n",
    "    #     print(modules)\n",
    "        return modules\n",
    "    else:\n",
    "        pos = strink.find(' import ')\n",
    "        strink = strink[:pos]\n",
    "        modules = re.split(r', ', strink)\n",
    "        modules[0] = modules[0].split()[-1]\n",
    "        return modules\n",
    "\n",
    "\n",
    "def main():\n",
    "    with open('input.txt') as f:\n",
    "        text = f.read()\n",
    "    imports = []\n",
    "    for match in re.finditer(\n",
    "        r'(import [\\w\\.|\\w\\, ]+)|(from [\\w\\.]+ import [\\w\\.]+)',\n",
    "            text):\n",
    "        imports.append(text[match.start(): match.end()])\n",
    "\n",
    "    ans = []\n",
    "    for lis in list(map(cleaner, imports)):\n",
    "        ans += lis\n",
    "\n",
    "    print(', '.join(sorted(set(ans))))\n",
    "\n",
    "\n",
    "main()\n"
   ]
  },
  {
   "cell_type": "code",
   "execution_count": 28,
   "metadata": {
    "collapsed": true
   },
   "outputs": [],
   "source": [
    "with open('input.txt') as f:\n",
    "        text = f.read()\n",
    "imports = []\n",
    "for match in re.finditer(r'(import [\\w\\.|\\w\\, ]+)|(from [\\w\\.]+ import [\\w\\.]+)',\n",
    "                         text):\n",
    "    imports.append(text[match.start(): match.end()])"
   ]
  },
  {
   "cell_type": "code",
   "execution_count": 29,
   "metadata": {},
   "outputs": [
    {
     "data": {
      "text/plain": [
       "[]"
      ]
     },
     "execution_count": 29,
     "metadata": {},
     "output_type": "execute_result"
    }
   ],
   "source": [
    "imports"
   ]
  },
  {
   "cell_type": "code",
   "execution_count": null,
   "metadata": {
    "collapsed": true
   },
   "outputs": [],
   "source": []
  },
  {
   "cell_type": "code",
   "execution_count": null,
   "metadata": {
    "collapsed": true
   },
   "outputs": [],
   "source": []
  },
  {
   "cell_type": "code",
   "execution_count": null,
   "metadata": {
    "collapsed": true
   },
   "outputs": [],
   "source": []
  },
  {
   "cell_type": "code",
   "execution_count": 30,
   "metadata": {},
   "outputs": [
    {
     "data": {
      "text/plain": [
       "<_sre.SRE_Match object; span=(8, 9), match='-'>"
      ]
     },
     "execution_count": 30,
     "metadata": {},
     "output_type": "execute_result"
    }
   ],
   "source": [
    "re.search('-', 'ajdqwe//- iqwejiqwe')\n"
   ]
  },
  {
   "cell_type": "code",
   "execution_count": 31,
   "metadata": {
    "collapsed": true
   },
   "outputs": [],
   "source": [
    "asdqwe = r'[\\d\\d([\\.|-|/])\\d\\d\\1\\d\\d\\d\\d|\\d\\d\\d\\d([\\.|-|/])\\d\\d\\2\\d\\d]'"
   ]
  },
  {
   "cell_type": "code",
   "execution_count": 32,
   "metadata": {},
   "outputs": [
    {
     "data": {
      "text/plain": [
       "')'"
      ]
     },
     "execution_count": 32,
     "metadata": {},
     "output_type": "execute_result"
    }
   ],
   "source": [
    "asdqwe[14]"
   ]
  },
  {
   "cell_type": "code",
   "execution_count": 33,
   "metadata": {},
   "outputs": [
    {
     "name": "stdout",
     "output_type": "stream",
     "text": [
      "NO\n",
      "NO\n",
      "NO\n"
     ]
    }
   ],
   "source": [
    "import re\n",
    "\n",
    "\n",
    "def main():\n",
    "    with open('input.txt', 'r') as f:\n",
    "        data = f.read().splitlines()\n",
    "\n",
    "    for date in data:\n",
    "        match = re.match(\n",
    "            r'\\d\\d(\\.|-|\\/)\\d\\d\\1\\d\\d\\d\\d|'\n",
    "            + r'\\d\\d\\d\\d(\\.|-|\\/)\\d\\d\\2\\d\\d|\\d{1,2}\\ *[а-яА-Я]+\\ *\\d\\d\\d\\d',\n",
    "                date)\n",
    "#         print(match.start, match.end)\n",
    "        if match and match.start() == 0 and match.end() == len(date):\n",
    "            print(\"YES\")\n",
    "        else:\n",
    "            print(\"NO\")\n",
    "\n",
    "\n",
    "main()\n"
   ]
  },
  {
   "cell_type": "code",
   "execution_count": null,
   "metadata": {
    "collapsed": true
   },
   "outputs": [],
   "source": []
  },
  {
   "cell_type": "code",
   "execution_count": null,
   "metadata": {
    "collapsed": true
   },
   "outputs": [],
   "source": []
  },
  {
   "cell_type": "code",
   "execution_count": null,
   "metadata": {
    "collapsed": true
   },
   "outputs": [],
   "source": []
  },
  {
   "cell_type": "code",
   "execution_count": null,
   "metadata": {
    "collapsed": true
   },
   "outputs": [],
   "source": []
  },
  {
   "cell_type": "code",
   "execution_count": null,
   "metadata": {
    "collapsed": true
   },
   "outputs": [],
   "source": []
  },
  {
   "cell_type": "markdown",
   "metadata": {},
   "source": [
    "mazhik\n"
   ]
  },
  {
   "cell_type": "code",
   "execution_count": null,
   "metadata": {
    "collapsed": true
   },
   "outputs": [],
   "source": []
  },
  {
   "cell_type": "code",
   "execution_count": 34,
   "metadata": {
    "collapsed": true
   },
   "outputs": [],
   "source": [
    "import argparse"
   ]
  },
  {
   "cell_type": "code",
   "execution_count": 35,
   "metadata": {
    "collapsed": true
   },
   "outputs": [],
   "source": [
    "image_alphabet = dict(list(zip(list(\"@%#*+=-:. \"), list(range(10)))))\n",
    "bri_to_alphabet = {v:k for k,v in image_alphabet.items()}"
   ]
  },
  {
   "cell_type": "code",
   "execution_count": 36,
   "metadata": {},
   "outputs": [
    {
     "data": {
      "text/plain": [
       "{' ': 9,\n",
       " '#': 2,\n",
       " '%': 1,\n",
       " '*': 3,\n",
       " '+': 4,\n",
       " '-': 6,\n",
       " '.': 8,\n",
       " ':': 7,\n",
       " '=': 5,\n",
       " '@': 0}"
      ]
     },
     "execution_count": 36,
     "metadata": {},
     "output_type": "execute_result"
    }
   ],
   "source": [
    "image_alphabet"
   ]
  },
  {
   "cell_type": "code",
   "execution_count": 37,
   "metadata": {
    "collapsed": true
   },
   "outputs": [],
   "source": [
    "bri_to_alphabet = {v:k for k,v in image_alphabet.items()}"
   ]
  },
  {
   "cell_type": "code",
   "execution_count": 38,
   "metadata": {},
   "outputs": [
    {
     "data": {
      "text/plain": [
       "{0: '@',\n",
       " 1: '%',\n",
       " 2: '#',\n",
       " 3: '*',\n",
       " 4: '+',\n",
       " 5: '=',\n",
       " 6: '-',\n",
       " 7: ':',\n",
       " 8: '.',\n",
       " 9: ' '}"
      ]
     },
     "execution_count": 38,
     "metadata": {},
     "output_type": "execute_result"
    }
   ],
   "source": [
    "bri_to_alphabet"
   ]
  },
  {
   "cell_type": "code",
   "execution_count": 39,
   "metadata": {},
   "outputs": [
    {
     "ename": "TypeError",
     "evalue": "add_parser() missing 1 required positional argument: 'name'",
     "output_type": "error",
     "traceback": [
      "\u001b[0;31m---------------------------------------------------------------------------\u001b[0m",
      "\u001b[0;31mTypeError\u001b[0m                                 Traceback (most recent call last)",
      "\u001b[0;32m<ipython-input-39-70976b501603>\u001b[0m in \u001b[0;36m<module>\u001b[0;34m()\u001b[0m\n\u001b[1;32m      1\u001b[0m \u001b[0mparser\u001b[0m \u001b[0;34m=\u001b[0m \u001b[0margparse\u001b[0m\u001b[0;34m.\u001b[0m\u001b[0mArgumentParser\u001b[0m\u001b[0;34m(\u001b[0m\u001b[0;34m)\u001b[0m\u001b[0;34m\u001b[0m\u001b[0m\n\u001b[1;32m      2\u001b[0m \u001b[0msubparsers\u001b[0m \u001b[0;34m=\u001b[0m \u001b[0mparser\u001b[0m\u001b[0;34m.\u001b[0m\u001b[0madd_subparsers\u001b[0m\u001b[0;34m(\u001b[0m\u001b[0;34m)\u001b[0m\u001b[0;34m\u001b[0m\u001b[0m\n\u001b[0;32m----> 3\u001b[0;31m \u001b[0msubparsers\u001b[0m\u001b[0;34m.\u001b[0m\u001b[0madd_parser\u001b[0m\u001b[0;34m(\u001b[0m\u001b[0;34m)\u001b[0m\u001b[0;34m\u001b[0m\u001b[0m\n\u001b[0m\u001b[1;32m      4\u001b[0m \u001b[0mparser\u001b[0m\u001b[0;34m.\u001b[0m\u001b[0madd_argument\u001b[0m\u001b[0;34m(\u001b[0m\u001b[0;34m'crop'\u001b[0m\u001b[0;34m,\u001b[0m \u001b[0;34m)\u001b[0m\u001b[0;34m\u001b[0m\u001b[0m\n\u001b[1;32m      5\u001b[0m \u001b[0mparser\u001b[0m\u001b[0;34m.\u001b[0m\u001b[0madd_argument\u001b[0m\u001b[0;34m(\u001b[0m\u001b[0;34m'expose'\u001b[0m\u001b[0;34m)\u001b[0m\u001b[0;34m\u001b[0m\u001b[0m\n",
      "\u001b[0;31mTypeError\u001b[0m: add_parser() missing 1 required positional argument: 'name'"
     ]
    }
   ],
   "source": [
    "parser = argparse.ArgumentParser()\n",
    "subparsers = parser.add_subparsers()\n",
    "subparsers.add_parser()\n",
    "parser.add_argument('crop', )\n",
    "parser.add_argument('expose')\n",
    "parser.add_argument('rotate')"
   ]
  },
  {
   "cell_type": "code",
   "execution_count": 40,
   "metadata": {},
   "outputs": [
    {
     "data": {
      "text/plain": [
       "_StoreAction(option_strings=['--bottom', '-b'], dest='bottom', nargs=None, const=None, default=0, type=<class 'int'>, choices=None, help=None, metavar=None)"
      ]
     },
     "execution_count": 40,
     "metadata": {},
     "output_type": "execute_result"
    }
   ],
   "source": [
    "parser.add_argument('--left', '-l', type=int,default=0)\n",
    "parser.add_argument('--right', '-r', type=int,default=0)\n",
    "parser.add_argument('--top', '-t', type=int,default=0)\n",
    "parser.add_argument('--bottom', '-b', type=int, default=0)\n"
   ]
  },
  {
   "cell_type": "code",
   "execution_count": 41,
   "metadata": {},
   "outputs": [
    {
     "name": "stderr",
     "output_type": "stream",
     "text": [
      "usage: ipykernel_launcher.py [-h] [--left LEFT] [--right RIGHT] [--top TOP]\n",
      "                             [--bottom BOTTOM]\n",
      "                             {} ...\n",
      "ipykernel_launcher.py: error: invalid choice: '/Users/semenfedotov/Library/Jupyter/runtime/kernel-25cf72a7-ae74-42c5-9e59-a6b16f1dc05b.json' (choose from )\n"
     ]
    },
    {
     "ename": "SystemExit",
     "evalue": "2",
     "output_type": "error",
     "traceback": [
      "An exception has occurred, use %tb to see the full traceback.\n",
      "\u001b[0;31mSystemExit\u001b[0m\u001b[0;31m:\u001b[0m 2\n"
     ]
    },
    {
     "name": "stderr",
     "output_type": "stream",
     "text": [
      "/Library/Frameworks/Python.framework/Versions/3.5/lib/python3.5/site-packages/IPython/core/interactiveshell.py:2889: UserWarning: To exit: use 'exit', 'quit', or Ctrl-D.\n",
      "  warn(\"To exit: use 'exit', 'quit', or Ctrl-D.\", stacklevel=1)\n"
     ]
    }
   ],
   "source": [
    "dkwqe = parser.parse_args()"
   ]
  },
  {
   "cell_type": "code",
   "execution_count": 42,
   "metadata": {
    "collapsed": true
   },
   "outputs": [],
   "source": [
    "testirovka = [[1,2,3],[4,5,6]]"
   ]
  },
  {
   "cell_type": "code",
   "execution_count": 43,
   "metadata": {},
   "outputs": [
    {
     "data": {
      "text/plain": [
       "[[1, 2, 3], [4, 5, 6]]"
      ]
     },
     "execution_count": 43,
     "metadata": {},
     "output_type": "execute_result"
    }
   ],
   "source": [
    "testirovka[0:2][0:2]"
   ]
  },
  {
   "cell_type": "code",
   "execution_count": 44,
   "metadata": {
    "collapsed": true
   },
   "outputs": [],
   "source": [
    "def crop(parsed, data):\n",
    "    left = parsed.left\n",
    "    right = parsed.right\n",
    "    top = parsed.top\n",
    "    bottom = parsed.bottom\n",
    "    n, m = len(data), len(data[0])\n",
    "    data = data[top: n - bottom]\n",
    "    for i in range(len(data)):\n",
    "        data[i] = data[i][left: m - right]\n",
    "        \n",
    "    return data\n",
    "    \n",
    "    \n",
    "def expose(parsed, data):\n",
    "    brightness = parsed.brightness\n",
    "    for i in range(len(data)):\n",
    "        for j in range(len(data[i])):\n",
    "            sym = data[i][j]\n",
    "            new_brightness = image_alphabet[sym] + brightness\n",
    "            if new_brightness < 0:\n",
    "                new_brightness = 0\n",
    "            elif new_brightness > 9:\n",
    "                new_brightness = 9\n",
    "            data[i][j] = bri_to_alphabet[new_brightness]\n",
    "    return data\n",
    "\n",
    "def rotate(parsed, data):\n",
    "    angle = parsed.angle\n",
    "    iter_number = (angle // 90) % 4\n",
    "    n, m = len(data), len(data[0])\n",
    "    new_data = data\n",
    "    for _ in range(iter_number):\n",
    "        n, m = m, n\n",
    "        new_data = []\n",
    "        for i in range(n):\n",
    "            new_data.append([0] * m)\n",
    "\n",
    "        for i in range(m):\n",
    "            for j in range(n):\n",
    "                new_data[n - j - 1][i] = data[i][j]\n",
    "        data = new_data\n",
    "    return new_data"
   ]
  },
  {
   "cell_type": "code",
   "execution_count": 45,
   "metadata": {},
   "outputs": [
    {
     "name": "stdout",
     "output_type": "stream",
     "text": [
      "First test sentence\n",
      "Second test line\n"
     ]
    }
   ],
   "source": [
    "with open('./input.txt', 'r') as f:\n",
    "    data = f.read().splitlines()\n",
    "\n",
    "args = data[0].split()\n",
    "data = list(map(list, data[1:]))\n",
    "mode, args = args[0], args[1:]\n",
    "parser = argparse.ArgumentParser()\n",
    "if mode == 'crop':\n",
    "    parser.add_argument('--left', '-l', type=int,default=0)\n",
    "    parser.add_argument('--right', '-r', type=int,default=0)\n",
    "    parser.add_argument('--top', '-t', type=int,default=0)\n",
    "    parser.add_argument('--bottom', '-b', type=int, default=0)\n",
    "    parsed = parser.parse_args(args)\n",
    "    data = crop(parsed, data)\n",
    "    \n",
    "elif mode == 'expose':\n",
    "    parser.add_argument('brightness',type=int)\n",
    "    parsed = parser.parse_args(args)\n",
    "    data =expose(parsed, data)\n",
    "\n",
    "elif mode == 'rotate':\n",
    "    parser.add_argument('angle', type=int)\n",
    "    parsed = parser.parse_args(args)\n",
    "    data = rotate(parsed, data)\n",
    "\n",
    "print('\\n'.join(list(map(lambda elem: ''.join(elem), data))))"
   ]
  },
  {
   "cell_type": "code",
   "execution_count": 46,
   "metadata": {},
   "outputs": [
    {
     "name": "stdout",
     "output_type": "stream",
     "text": [
      "First test sentence\n",
      "Second test line\n"
     ]
    }
   ],
   "source": [
    "def crop(parsed, data):\n",
    "    left = parsed.left\n",
    "    right = parsed.right\n",
    "    top = parsed.top\n",
    "    bottom = parsed.bottom\n",
    "    n, m = len(data), len(data[0])\n",
    "    data = data[top: n - bottom]\n",
    "    for i in range(len(data)):\n",
    "        data[i] = data[i][left: m - right]\n",
    "        \n",
    "    return data\n",
    "    \n",
    "    \n",
    "def expose(parsed, data):\n",
    "    brightness = parsed.brightness\n",
    "    for i in range(len(data)):\n",
    "        for j in range(len(data[i])):\n",
    "            sym = data[i][j]\n",
    "            new_brightness = image_alphabet[sym] + brightness\n",
    "            if new_brightness < 0:\n",
    "                new_brightness = 0\n",
    "            elif new_brightness > 9:\n",
    "                new_brightness = 9\n",
    "            data[i][j] = bri_to_alphabet[new_brightness]\n",
    "    return data\n",
    "\n",
    "def rotate(parsed, data):\n",
    "    angle = parsed.angle\n",
    "    n, m = len(data), len(data[0])\n",
    "    new_data = []\n",
    "    for i in range(m):\n",
    "        new_data.append([0] * n)\n",
    "    \n",
    "    for i in range(n):\n",
    "        for j in range(m):\n",
    "            new_data[m - j - 1][i] = data[i][j]\n",
    "    return new_data\n",
    "\n",
    "\n",
    "def main():\n",
    "    \n",
    "    with open('./input.txt', 'r') as f:\n",
    "        data = f.read().splitlines()\n",
    "\n",
    "    args = data[0].split()\n",
    "    data = list(map(list, data[1:]))\n",
    "    mode, args = args[0], args[1:]\n",
    "    parser = argparse.ArgumentParser()\n",
    "    if mode == 'crop':\n",
    "        parser.add_argument('--left', '-l', type=int,default=0)\n",
    "        parser.add_argument('--right', '-r', type=int,default=0)\n",
    "        parser.add_argument('--top', '-t', type=int,default=0)\n",
    "        parser.add_argument('--bottom', '-b', type=int, default=0)\n",
    "        parsed = parser.parse_args(args)\n",
    "        data = crop(parsed, data)\n",
    "\n",
    "    elif mode == 'expose':\n",
    "        parser.add_argument('brightness',type=int)\n",
    "        parsed = parser.parse_args(args)\n",
    "        data =expose(parsed, data)\n",
    "\n",
    "    elif mode == 'rotate':\n",
    "        parser.add_argument('angle', type=int)\n",
    "        parsed = parser.parse_args(args)\n",
    "        data = rotate(parsed, data)\n",
    "\n",
    "    print('\\n'.join(list(map(lambda elem: ''.join(elem), data))))\n",
    "\n",
    "if __name__ == '__main__':\n",
    "    main()"
   ]
  },
  {
   "cell_type": "code",
   "execution_count": 47,
   "metadata": {},
   "outputs": [
    {
     "data": {
      "text/plain": [
       "2"
      ]
     },
     "execution_count": 47,
     "metadata": {},
     "output_type": "execute_result"
    }
   ],
   "source": [
    "len(data)"
   ]
  },
  {
   "cell_type": "code",
   "execution_count": 48,
   "metadata": {},
   "outputs": [
    {
     "data": {
      "text/plain": [
       "19"
      ]
     },
     "execution_count": 48,
     "metadata": {},
     "output_type": "execute_result"
    }
   ],
   "source": [
    "len(data[0])"
   ]
  },
  {
   "cell_type": "code",
   "execution_count": 49,
   "metadata": {
    "collapsed": true
   },
   "outputs": [],
   "source": [
    "matritca = [[1,2,3,4],\n",
    "            [5,6,7,8],\n",
    "            [9,10,11,12],\n",
    "            [13,14,15,16],\n",
    "            [17,18,19,20]]"
   ]
  },
  {
   "cell_type": "code",
   "execution_count": 50,
   "metadata": {},
   "outputs": [
    {
     "ename": "NameError",
     "evalue": "name 'i' is not defined",
     "output_type": "error",
     "traceback": [
      "\u001b[0;31m---------------------------------------------------------------------------\u001b[0m",
      "\u001b[0;31mNameError\u001b[0m                                 Traceback (most recent call last)",
      "\u001b[0;32m<ipython-input-50-ca569a0b6881>\u001b[0m in \u001b[0;36m<module>\u001b[0;34m()\u001b[0m\n\u001b[0;32m----> 1\u001b[0;31m \u001b[0mi\u001b[0m\u001b[0;34m,\u001b[0m\u001b[0mj\u001b[0m\u001b[0;34m\u001b[0m\u001b[0m\n\u001b[0m",
      "\u001b[0;31mNameError\u001b[0m: name 'i' is not defined"
     ]
    }
   ],
   "source": [
    "i,j"
   ]
  },
  {
   "cell_type": "code",
   "execution_count": 51,
   "metadata": {
    "collapsed": true
   },
   "outputs": [],
   "source": [
    "# n, m = len(matritca), len(matritca[0])\n",
    "# for i in range(len(matritca) // 2):\n",
    "#     for j in range(i, len(matritca[0]) - i):\n",
    "#         cur_val = matritca[i][j]\n",
    "        \n",
    "#         matritca[i][j] = matritca[j][m  - i]\n",
    "#         matritca[j][m - i] = matritca[n - i][m - j]\n",
    "#         matritca[n - i][m - j] = matritca[m - j][i]\n",
    "#         matritca[m - j][i] = cur_val"
   ]
  },
  {
   "cell_type": "code",
   "execution_count": 52,
   "metadata": {},
   "outputs": [
    {
     "ename": "SyntaxError",
     "evalue": "invalid syntax (<ipython-input-52-55cf002f7af4>, line 1)",
     "output_type": "error",
     "traceback": [
      "\u001b[0;36m  File \u001b[0;32m\"<ipython-input-52-55cf002f7af4>\"\u001b[0;36m, line \u001b[0;32m1\u001b[0m\n\u001b[0;31m    void rotate(int **matrix, int n) {\u001b[0m\n\u001b[0m              ^\u001b[0m\n\u001b[0;31mSyntaxError\u001b[0m\u001b[0;31m:\u001b[0m invalid syntax\n"
     ]
    }
   ],
   "source": [
    "void rotate(int **matrix, int n) {\n",
    "    for (int i=0; i<n/2; ++i)\n",
    "    {\n",
    "        for (int j=i; j<m-1-i; ++j)\n",
    "        {\n",
    "            int z = matrix[i][j];\n",
    "            matrix[i][j] = matrix[n-j-1][i];\n",
    "            matrix[n-j-1][i] = matrix[n-i-1][n-j-1];\n",
    "            matrix[n-i-1][n-j-1] = matrix[j][n-i-1];\n",
    "            matrix[j][n-i-1] = z;\n",
    "        }\n",
    "    }\n",
    "}"
   ]
  },
  {
   "cell_type": "code",
   "execution_count": null,
   "metadata": {
    "collapsed": true
   },
   "outputs": [],
   "source": []
  },
  {
   "cell_type": "code",
   "execution_count": null,
   "metadata": {
    "collapsed": true
   },
   "outputs": [],
   "source": []
  },
  {
   "cell_type": "markdown",
   "metadata": {},
   "source": [
    "## Text generator"
   ]
  },
  {
   "cell_type": "markdown",
   "metadata": {},
   "source": [
    "-------------"
   ]
  },
  {
   "cell_type": "markdown",
   "metadata": {},
   "source": [
    "Буквы, цифры, отдельные символы"
   ]
  },
  {
   "cell_type": "code",
   "execution_count": 53,
   "metadata": {
    "collapsed": true
   },
   "outputs": [],
   "source": [
    "import re"
   ]
  },
  {
   "cell_type": "code",
   "execution_count": 54,
   "metadata": {
    "collapsed": true
   },
   "outputs": [],
   "source": [
    "with open('./input.txt', 'r') as f:\n",
    "    data = f.read().splitlines()\n",
    "\n",
    "args, data = data[0].split(), data[1:]\n",
    "mode, args = args[0], args[1:]"
   ]
  },
  {
   "cell_type": "code",
   "execution_count": 55,
   "metadata": {},
   "outputs": [
    {
     "data": {
      "text/plain": [
       "'First test sentence'"
      ]
     },
     "execution_count": 55,
     "metadata": {},
     "output_type": "execute_result"
    }
   ],
   "source": [
    "data[0]"
   ]
  },
  {
   "cell_type": "code",
   "execution_count": null,
   "metadata": {
    "collapsed": true
   },
   "outputs": [],
   "source": []
  },
  {
   "cell_type": "code",
   "execution_count": 56,
   "metadata": {
    "collapsed": true
   },
   "outputs": [],
   "source": [
    "from tqdm import tqdm"
   ]
  },
  {
   "cell_type": "code",
   "execution_count": null,
   "metadata": {
    "collapsed": true
   },
   "outputs": [],
   "source": []
  },
  {
   "cell_type": "code",
   "execution_count": 70,
   "metadata": {
    "collapsed": true
   },
   "outputs": [],
   "source": [
    "import queue"
   ]
  },
  {
   "cell_type": "code",
   "execution_count": 261,
   "metadata": {
    "collapsed": true
   },
   "outputs": [],
   "source": [
    "from collections import defaultdict, OrderedDict, deque\n",
    "import unittest\n",
    "\n",
    "def tokenize(data):\n",
    "    result = '\\n'.join(list(re.findall(r'[\\w]+|[\\d]+|.', data[0])))\n",
    "    print(result)\n",
    "    return result\n",
    "\n",
    "def count_probabilities(parsed, cur_data):\n",
    "    to_return = []\n",
    "    depth = parsed.depth\n",
    "    for cur_depth in tqdm(range(depth + 1)):\n",
    "        cur_len = defaultdict(float)\n",
    "        cur_counter = defaultdict(dict)\n",
    "        for i in range(len(cur_data)):\n",
    "            for j in range(cur_depth, len(cur_data[i])):\n",
    "                cur_seq = ' '.join(cur_data[i][j - cur_depth: j])\n",
    "                if cur_data[i][j] not in cur_counter[cur_seq]:\n",
    "                    cur_counter[cur_seq][cur_data[i][j]] = 1\n",
    "                else:\n",
    "                    cur_counter[cur_seq][cur_data[i][j]] += 1\n",
    "                cur_len[cur_seq] += 1\n",
    "        ansa = dict()\n",
    "        for k in cur_counter:\n",
    "            ansa[k] = defaultdict(float)\n",
    "            for k2 in cur_counter[k]:\n",
    "                ansa[k][k2] = cur_counter[k][k2] / cur_len[k]\n",
    "        \n",
    "        ansa = OrderedDict(sorted(ansa.items()))\n",
    "        for k in ansa:\n",
    "            print(k)\n",
    "            ansa[k] = OrderedDict(sorted(ansa[k].items()))\n",
    "            for val in ansa[k]:\n",
    "                print('  {}: {:.2f}'.format(val, ansa[k][val]))\n",
    "        \n",
    "        to_return.append(ansa)\n",
    "    \n",
    "    return to_return\n",
    "        \n",
    "def generate(parsed, cur_data):\n",
    "    depth = parsed.depth\n",
    "    size = parsed.size\n",
    "    calculated_probs = count_probabilities(parsed, cur_data)\n",
    "    \n",
    "    our_text = []\n",
    "    cur_lenght = 0\n",
    "    cur_seq = deque()\n",
    "    while(cur_lenght < size):\n",
    "        seq_to_find = cur_seq\n",
    "        while ' '.join(seq_to_find) not in calculated_probs[len(seq_to_find)]:\n",
    "            seq_to_find.popleft()\n",
    "        candidates = calculated_probs[len(seq_to_find)][' '.join(seq_to_find)]\n",
    "        new_word = max(candidates, key=candidates.get)\n",
    "        our_text.append(new_word)\n",
    "        cur_lenght += 1\n",
    "        if len(cur_seq) == depth:\n",
    "            cur_seq.popleft()\n",
    "        cur_seq.append(new_word)\n",
    "    \n",
    "    return our_text\n",
    "\n",
    "\n",
    "class TestTokenize(unittest.TestCase):\n",
    "    def test_1(self):\n",
    "        answer = 'eto\\n \\nmoi\\n \\nperviy\\n \\ntest'\n",
    "        self.assertEquals(tokenize(['eto moi perviy test']), answer)\n",
    "    \n",
    "    def test_2(self):\n",
    "        answer = ''\n",
    "        self.assertEquals(tokenize(['eto moi perviy test']), answer)\n",
    "\n",
    "class TestCountProbabilities(unittest.TestCase):\n",
    "    pass\n",
    "\n",
    "class TestGenerate(unittest.TestCase):\n",
    "    pass"
   ]
  },
  {
   "cell_type": "code",
   "execution_count": 113,
   "metadata": {},
   "outputs": [
    {
     "name": "stdout",
     "output_type": "stream",
     "text": [
      "eto\n",
      " \n",
      "moi\n",
      " \n",
      "perviy\n",
      " \n",
      "test\n"
     ]
    },
    {
     "data": {
      "text/plain": [
       "True"
      ]
     },
     "execution_count": 113,
     "metadata": {},
     "output_type": "execute_result"
    }
   ],
   "source": [
    "tokenize(['eto moi perviy test']) == 'eto\\n \\nmoi\\n \\nperviy\\n \\ntest'"
   ]
  },
  {
   "cell_type": "code",
   "execution_count": 108,
   "metadata": {},
   "outputs": [
    {
     "name": "stdout",
     "output_type": "stream",
     "text": [
      "eto\n",
      " \n",
      "moi\n",
      " \n",
      "perviy\n",
      " \n",
      "test\n"
     ]
    },
    {
     "data": {
      "text/plain": [
       "'eto\\n \\nmoi\\n \\nperviy\\n \\ntest'"
      ]
     },
     "execution_count": 108,
     "metadata": {},
     "output_type": "execute_result"
    }
   ],
   "source": [
    "tokenize(['eto moi perviy test'])"
   ]
  },
  {
   "cell_type": "code",
   "execution_count": 96,
   "metadata": {},
   "outputs": [
    {
     "data": {
      "text/plain": [
       "['Hello, world!']"
      ]
     },
     "execution_count": 96,
     "metadata": {},
     "output_type": "execute_result"
    }
   ],
   "source": [
    "data"
   ]
  },
  {
   "cell_type": "code",
   "execution_count": 263,
   "metadata": {},
   "outputs": [
    {
     "name": "stdout",
     "output_type": "stream",
     "text": [
      "a\n",
      " \n",
      "b\n",
      " \n",
      "c\n",
      "!\n",
      ",\n",
      " \n"
     ]
    }
   ],
   "source": [
    "import re\n",
    "import argparse\n",
    "\n",
    "with open('./input.txt', 'r') as f:\n",
    "    data = f.read().splitlines()\n",
    "\n",
    "args, data = data[0].split(), data[1:]\n",
    "mode, args = args[0], args[1:]\n",
    "\n",
    "\n",
    "parser = argparse.ArgumentParser()\n",
    "\n",
    "if mode == 'tokenize':\n",
    "    tokenize(data)\n",
    "    \n",
    "elif mode == 'probabilities':\n",
    "    parser.add_argument('--depth', type=int)\n",
    "    parsed = parser.parse_args(args)\n",
    "    tokenized_data = []\n",
    "    for string in data:\n",
    "        tokenized_data.append(list(re.findall(r'[\\w]+', string)))\n",
    "    probs = count_probabilities(parsed, tokenized_data)\n",
    "    \n",
    "elif mode == 'generate':\n",
    "    parser.add_argument('--depth', type=int)\n",
    "    parser.add_argument('--size', type=int)\n",
    "    parsed = parser.parse_args(args)\n",
    "    tokenized_data = []\n",
    "    for string in data:\n",
    "        tokenized_data.append(list(re.findall(r'[\\w]+', string)))\n",
    "    \n",
    "    generated = generate(parsed, tokenized_data)\n",
    "    \n",
    "elif mode == 'test':\n",
    "    pass"
   ]
  },
  {
   "cell_type": "code",
   "execution_count": 264,
   "metadata": {},
   "outputs": [
    {
     "data": {
      "text/plain": [
       "OrderedDict([('First', 0.16666666666666666),\n",
       "             ('Second', 0.16666666666666666),\n",
       "             ('line', 0.16666666666666666),\n",
       "             ('sentence', 0.16666666666666666),\n",
       "             ('test', 0.3333333333333333)])"
      ]
     },
     "execution_count": 264,
     "metadata": {},
     "output_type": "execute_result"
    }
   ],
   "source": [
    "probs[0]['']"
   ]
  },
  {
   "cell_type": "code",
   "execution_count": 69,
   "metadata": {},
   "outputs": [
    {
     "data": {
      "text/plain": [
       "'test'"
      ]
     },
     "execution_count": 69,
     "metadata": {},
     "output_type": "execute_result"
    }
   ],
   "source": [
    "max(probs[0][''], key=probs[0][''].get)"
   ]
  },
  {
   "cell_type": "code",
   "execution_count": 40,
   "metadata": {
    "collapsed": true
   },
   "outputs": [],
   "source": [
    "#!/usr/bin/env python3\n",
    "from collections import defaultdict, OrderedDict, deque\n",
    "import unittest\n",
    "import re\n",
    "import argparse\n",
    "\n",
    "\n",
    "def tokenize(data, verbosity=True):\n",
    "    result = (list(re.findall(r'[a-zA-Zа-яА-Я]+|[\\d]+|.', data[0])))\n",
    "    if verbosity is True:\n",
    "        print('\\n'.join(result))\n",
    "    return result\n",
    "\n",
    "\n",
    "def count_probabilities(parsed, cur_data, verbosity=True):\n",
    "    to_return = []\n",
    "    depth = parsed.depth\n",
    "    giant_dict = {}\n",
    "    for cur_depth in (range(depth + 1)):\n",
    "        cur_len = defaultdict(float)\n",
    "        cur_counter = defaultdict(dict)\n",
    "        for i in range(len(cur_data)):\n",
    "            for j in range(cur_depth, len(cur_data[i])):\n",
    "                cur_seq = ' '.join(cur_data[i][j - cur_depth: j])\n",
    "                if cur_data[i][j] not in cur_counter[cur_seq]:\n",
    "                    cur_counter[cur_seq][cur_data[i][j]] = 1\n",
    "                else:\n",
    "                    cur_counter[cur_seq][cur_data[i][j]] += 1\n",
    "                cur_len[cur_seq] += 1\n",
    "        ansa = dict()\n",
    "        for k in cur_counter:\n",
    "            ansa[k] = defaultdict(float)\n",
    "            for k2 in cur_counter[k]:\n",
    "                ansa[k][k2] = cur_counter[k][k2] / cur_len[k]\n",
    "        \n",
    "\n",
    "        ansa = OrderedDict(sorted(ansa.items()))\n",
    "        for k in ansa:\n",
    "            ansa[k] = OrderedDict(sorted(ansa[k].items()))\n",
    "            giant_dict[k] = ansa[k]\n",
    "#             for val in ansa[k]:\n",
    "#                 print('  {}: {:.2f}'.format(val, ansa[k][val]))\n",
    "\n",
    "        to_return.append(ansa)\n",
    "    giant_dict = OrderedDict(sorted(giant_dict.items()))\n",
    "    if verbosity is True:\n",
    "        for k in giant_dict:\n",
    "            print(k)\n",
    "    #         ansa[k] = OrderedDict(sorted(ansa[k].items()))\n",
    "    #         giant_dict[k] = ansa[k]\n",
    "            for val in giant_dict[k]:\n",
    "                print('  {}: {:.2f}'.format(val, giant_dict[k][val]))\n",
    "\n",
    "    return to_return\n",
    "\n",
    "\n",
    "def generate(parsed, cur_data, verbosity=False):\n",
    "    depth = parsed.depth\n",
    "    size = parsed.size\n",
    "    calculated_probs = count_probabilities(parsed, cur_data, verbosity=verbosity)\n",
    "    our_text = []\n",
    "    cur_lenght = 0\n",
    "    cur_seq = deque()\n",
    "    while(cur_lenght < size):\n",
    "        seq_to_find = cur_seq\n",
    "        while ' '.join(seq_to_find) not in calculated_probs[len(seq_to_find)]:\n",
    "            seq_to_find.popleft()\n",
    "        candidates = calculated_probs[len(seq_to_find)][' '.join(seq_to_find)]\n",
    "        new_word = max(candidates, key=candidates.get)\n",
    "        our_text.append(new_word)\n",
    "        cur_lenght += 1\n",
    "        if len(cur_seq) == depth:\n",
    "            cur_seq.popleft()\n",
    "        cur_seq.append(new_word)\n",
    "\n",
    "    return our_text\n",
    "\n",
    "\n",
    "def main():\n",
    "\n",
    "    with open('./input.txt', 'r') as f:\n",
    "        data = f.read().splitlines()\n",
    "\n",
    "    args, data = data[0].split(), data[1:]\n",
    "    mode, args = args[0], args[1:]\n",
    "\n",
    "    parser = argparse.ArgumentParser()\n",
    "\n",
    "    if mode == 'tokenize':\n",
    "        tokenize(data)\n",
    "\n",
    "    elif mode == 'probabilities':\n",
    "        parser.add_argument('--depth', type=int)\n",
    "        parsed = parser.parse_args(args)\n",
    "        tokenized_data = []\n",
    "        for string in data:\n",
    "            tokenized_data.append(list(re.findall(r'[\\w]+', string)))\n",
    "        probs = count_probabilities(parsed, tokenized_data)\n",
    "        return probs\n",
    "\n",
    "    elif mode == 'generate':\n",
    "        parser.add_argument('--depth', type=int)\n",
    "        parser.add_argument('--size', type=int)\n",
    "        parsed = parser.parse_args(args)\n",
    "        tokenized_data = []\n",
    "        for string in data:\n",
    "            tokenized_data.append(list(re.findall(r'[a-zA-Zа-яА-Я]+|[\\d]+|.', data[0])))\n",
    "        generated = generate(parsed, tokenized_data)\n",
    "        return generated\n",
    "\n",
    "    elif mode == 'test':\n",
    "        pass\n",
    "\n",
    "\n",
    "class TestTokenize(unittest.TestCase):\n",
    "    def test_1(self):\n",
    "        answer = 'eto\\n \\nmoi\\n \\nperviy\\n \\ntest'\n",
    "        self.assertEquals(tokenize(['eto moi perviy test']), answer)\n",
    "\n",
    "    def test_2(self):\n",
    "        pass\n",
    "#             answer = ''\n",
    "#             self.assertEquals(tokenize(['eto moi perviy test']), answer)\n",
    "\n",
    "\n",
    "class TestCountProbabilities(unittest.TestCase):\n",
    "    pass\n",
    "\n",
    "\n",
    "class TestGenerate(unittest.TestCase):\n",
    "    pass\n",
    "\n",
    "\n",
    "if __name__ == '__main__':\n",
    "    main()\n"
   ]
  },
  {
   "cell_type": "code",
   "execution_count": 41,
   "metadata": {
    "collapsed": true
   },
   "outputs": [],
   "source": [
    "prrr = main()"
   ]
  },
  {
   "cell_type": "code",
   "execution_count": 42,
   "metadata": {},
   "outputs": [
    {
     "data": {
      "text/plain": [
       "' (с добавлением/изменением языковых свойств) выходят примерно раз в'"
      ]
     },
     "execution_count": 42,
     "metadata": {},
     "output_type": "execute_result"
    }
   ],
   "source": [
    "''.join(prrr)"
   ]
  },
  {
   "cell_type": "code",
   "execution_count": 313,
   "metadata": {
    "collapsed": true
   },
   "outputs": [],
   "source": [
    "with open('./input.txt', 'r') as f:\n",
    "    data = f.read().splitlines()\n",
    "\n",
    "args, data = data[0].split(), data[1:]\n",
    "mode, args = args[0], args[1:]"
   ]
  },
  {
   "cell_type": "code",
   "execution_count": 314,
   "metadata": {},
   "outputs": [
    {
     "data": {
      "text/plain": [
       "['Python - активно развивающийся язык программирования, новые версии (с добавлением/изменением языковых свойств) выходят примерно раз в два с половиной года.',\n",
       " 'Вследствие этого и некоторых других причин на Python отсутствуют стандарт ANSI, ISO или другие официальные стандарты, их роль выполняет CPython.']"
      ]
     },
     "execution_count": 314,
     "metadata": {},
     "output_type": "execute_result"
    }
   ],
   "source": [
    "data"
   ]
  },
  {
   "cell_type": "code",
   "execution_count": 329,
   "metadata": {
    "collapsed": true
   },
   "outputs": [],
   "source": [
    "from bs4 import BeautifulSoup"
   ]
  },
  {
   "cell_type": "code",
   "execution_count": 330,
   "metadata": {
    "collapsed": true
   },
   "outputs": [],
   "source": [
    "from lxml import html"
   ]
  },
  {
   "cell_type": "code",
   "execution_count": 331,
   "metadata": {
    "collapsed": true
   },
   "outputs": [],
   "source": [
    "import bs4"
   ]
  },
  {
   "cell_type": "code",
   "execution_count": 332,
   "metadata": {
    "collapsed": true
   },
   "outputs": [],
   "source": [
    "import urllib"
   ]
  },
  {
   "cell_type": "code",
   "execution_count": 17,
   "metadata": {
    "collapsed": true
   },
   "outputs": [],
   "source": [
    "from urllib.request import urlopen"
   ]
  },
  {
   "cell_type": "code",
   "execution_count": 18,
   "metadata": {
    "collapsed": true
   },
   "outputs": [],
   "source": [
    "url = urlopen('https://en.wikipedia.org/wiki/Normal_distribution')"
   ]
  },
  {
   "cell_type": "code",
   "execution_count": 19,
   "metadata": {
    "collapsed": true
   },
   "outputs": [],
   "source": [
    "conn = url"
   ]
  },
  {
   "cell_type": "code",
   "execution_count": 20,
   "metadata": {
    "collapsed": true
   },
   "outputs": [],
   "source": [
    "data = conn.read()\n",
    "real_url = conn.geturl()\n",
    "conn_info = conn.info()\n",
    "http_code = conn.getcode()"
   ]
  },
  {
   "cell_type": "code",
   "execution_count": 21,
   "metadata": {
    "collapsed": true
   },
   "outputs": [],
   "source": [
    "soup = BeautifulSoup(data, 'html.parser')"
   ]
  },
  {
   "cell_type": "code",
   "execution_count": 22,
   "metadata": {},
   "outputs": [
    {
     "data": {
      "text/plain": [
       "'Normal distribution - Wikipedia'"
      ]
     },
     "execution_count": 22,
     "metadata": {},
     "output_type": "execute_result"
    }
   ],
   "source": [
    "soup.title.string"
   ]
  },
  {
   "cell_type": "code",
   "execution_count": 23,
   "metadata": {},
   "outputs": [
    {
     "data": {
      "text/plain": [
       "<p>In <a href=\"/wiki/Probability_theory\" title=\"Probability theory\">probability theory</a>, the <b>normal</b> (or <b>Gaussian</b>) <b>distribution</b> is a very common <a class=\"mw-redirect\" href=\"/wiki/Continuous_probability_distribution\" title=\"Continuous probability distribution\">continuous probability distribution</a>. Normal distributions are important in <a href=\"/wiki/Statistics\" title=\"Statistics\">statistics</a> and are often used in the <a href=\"/wiki/Natural_science\" title=\"Natural science\">natural</a> and <a href=\"/wiki/Social_science\" title=\"Social science\">social sciences</a> to represent real-valued <a href=\"/wiki/Random_variable\" title=\"Random variable\">random variables</a> whose distributions are not known.<sup class=\"reference\" id=\"cite_ref-1\"><a href=\"#cite_note-1\">[1]</a></sup><sup class=\"reference\" id=\"cite_ref-2\"><a href=\"#cite_note-2\">[2]</a></sup></p>"
      ]
     },
     "execution_count": 23,
     "metadata": {},
     "output_type": "execute_result"
    }
   ],
   "source": [
    "soup.p"
   ]
  },
  {
   "cell_type": "code",
   "execution_count": 24,
   "metadata": {},
   "outputs": [
    {
     "data": {
      "text/plain": [
       "166"
      ]
     },
     "execution_count": 24,
     "metadata": {},
     "output_type": "execute_result"
    }
   ],
   "source": [
    "len(soup.find_all('p'))"
   ]
  },
  {
   "cell_type": "code",
   "execution_count": 25,
   "metadata": {
    "collapsed": true
   },
   "outputs": [],
   "source": [
    "my_text = soup.get_text()"
   ]
  },
  {
   "cell_type": "code",
   "execution_count": null,
   "metadata": {
    "collapsed": true
   },
   "outputs": [],
   "source": []
  },
  {
   "cell_type": "code",
   "execution_count": null,
   "metadata": {
    "collapsed": true
   },
   "outputs": [],
   "source": []
  },
  {
   "cell_type": "code",
   "execution_count": null,
   "metadata": {
    "collapsed": true
   },
   "outputs": [],
   "source": []
  },
  {
   "cell_type": "code",
   "execution_count": null,
   "metadata": {
    "collapsed": true
   },
   "outputs": [],
   "source": []
  },
  {
   "cell_type": "code",
   "execution_count": null,
   "metadata": {
    "collapsed": true
   },
   "outputs": [],
   "source": []
  },
  {
   "cell_type": "code",
   "execution_count": null,
   "metadata": {
    "collapsed": true
   },
   "outputs": [],
   "source": []
  },
  {
   "cell_type": "code",
   "execution_count": null,
   "metadata": {
    "collapsed": true
   },
   "outputs": [],
   "source": []
  },
  {
   "cell_type": "code",
   "execution_count": null,
   "metadata": {
    "collapsed": true
   },
   "outputs": [],
   "source": []
  },
  {
   "cell_type": "code",
   "execution_count": null,
   "metadata": {
    "collapsed": true
   },
   "outputs": [],
   "source": []
  },
  {
   "cell_type": "code",
   "execution_count": null,
   "metadata": {
    "collapsed": true
   },
   "outputs": [],
   "source": []
  },
  {
   "cell_type": "code",
   "execution_count": null,
   "metadata": {
    "collapsed": true
   },
   "outputs": [],
   "source": []
  },
  {
   "cell_type": "code",
   "execution_count": null,
   "metadata": {
    "collapsed": true
   },
   "outputs": [],
   "source": []
  },
  {
   "cell_type": "code",
   "execution_count": null,
   "metadata": {
    "collapsed": true
   },
   "outputs": [],
   "source": []
  },
  {
   "cell_type": "code",
   "execution_count": null,
   "metadata": {
    "collapsed": true
   },
   "outputs": [],
   "source": []
  },
  {
   "cell_type": "code",
   "execution_count": 250,
   "metadata": {
    "collapsed": true
   },
   "outputs": [],
   "source": [
    "data = data.decode('utf-8')"
   ]
  },
  {
   "cell_type": "code",
   "execution_count": 251,
   "metadata": {
    "collapsed": true
   },
   "outputs": [],
   "source": [
    "with open('./prsed.html', 'w+') as f:\n",
    "    f.write(data)"
   ]
  },
  {
   "cell_type": "code",
   "execution_count": 385,
   "metadata": {
    "collapsed": true
   },
   "outputs": [
    {
     "data": {
      "text/plain": [
       "b'          <mtext>if&#xA0;</mtext>\\n                    </mrow>\\n                    <mi>p</mi>\\n                    <mrow class=\"MJX-TeXAtom-ORD\">\\n                      <mtext>&#xA0;is even</mtext>\\n                    </mrow>\\n                  </mtd>\\n                </mtr>\\n              </mtable>\\n              <mo fence=\"true\" stretchy=\"true\"></mo>\\n            </mrow>\\n          </mrow>\\n          <mo>}</mo>\\n        </mrow>\\n        <mo>=</mo>\\n        <msup>\\n          <mi>&#x03C3;<!-- \\xcf\\x83 --></mi>\\n          <mrow class=\"MJX-TeXAtom-ORD\">\\n            <mi>p</mi>\\n          </mrow>\\n        </msup>\\n        <mo>&#x22C5;<!-- \\xe2\\x8b\\x85 --></mo>\\n        <mrow class=\"MJX-TeXAtom-ORD\">\\n          <mfrac>\\n            <mrow>\\n              <msup>\\n                <mn>2</mn>\\n                <mrow class=\"MJX-TeXAtom-ORD\">\\n                  <mi>p</mi>\\n                  <mrow class=\"MJX-TeXAtom-ORD\">\\n                    <mo>/</mo>\\n                  </mrow>\\n                  <mn>2</mn>\\n                </mrow>\\n              </msup>\\n              <mi mathvariant=\"normal\">&#x0393;<!-- \\xce\\x93 --></mi>\\n              <mrow>\\n                <mo>(</mo>\\n                <mrow class=\"MJX-TeXAtom-ORD\">\\n                  <mfrac>\\n                    <mrow>\\n                      <mi>p</mi>\\n                      <mo>+</mo>\\n                      <mn>1</mn>\\n                    </mrow>\\n                    <mn>2</mn>\\n                  </mfrac>\\n                </mrow>\\n                <mo>)</mo>\\n              </mrow>\\n            </mrow>\\n            <msqrt>\\n              <mi>&#x03C0;<!-- \\xcf\\x80 --></mi>\\n            </msqrt>\\n          </mfrac>\\n        </mrow>\\n      </mstyle>\\n    </mrow>\\n    <annotation encoding=\"application/x-tex\">{\\\\displaystyle \\\\operatorname {E} \\\\left[|X|^{p}\\\\right]=\\\\sigma ^{p}\\\\,(p-1)!!\\\\cdot \\\\left.{\\\\begin{cases}{\\\\sqrt {\\\\frac {2}{\\\\pi }}}&amp;{\\\\text{if }}p{\\\\text{ is odd}}\\\\\\\\1&amp;{\\\\text{if }}p{\\\\text{ is even}}\\\\end{cases}}\\\\right\\\\}=\\\\sigma ^{p}\\\\cdot {\\\\frac {2^{p/2}\\\\Gamma \\\\left({\\\\frac {p+1}{2}}\\\\right)}{\\\\sqrt {\\\\pi }}}}</annotation>\\n  </semantics>\\n</math></span><img src=\"https://wikimedia.org/api/rest_v1/media/math/render/svg/f6761f2f348981b7534a585cb2de75dd5366847e\" class=\"mwe-math-fallback-image-inline\" aria-hidden=\"true\" style=\"vertical-align: -3.338ex; width:65.067ex; height:9.009ex;\" alt=\"{\\\\displaystyle \\\\operatorname {E} \\\\left[|X|^{p}\\\\right]=\\\\sigma ^{p}\\\\,(p-1)!!\\\\cdot \\\\left.{\\\\begin{cases}{\\\\sqrt {\\\\frac {2}{\\\\pi }}}&amp;{\\\\text{if }}p{\\\\text{ is odd}}\\\\\\\\1&amp;{\\\\text{if }}p{\\\\text{ is even}}\\\\end{cases}}\\\\right\\\\}=\\\\sigma ^{p}\\\\cdot {\\\\frac {2^{p/2}\\\\Gamma \\\\left({\\\\frac {p+1}{2}}\\\\right)}{\\\\sqrt {\\\\pi }}}}\" /></span></dd>\\n</dl>\\n<p>The last formula is valid also for any non-integer <span class=\"nowrap\"><i>p</i> &gt; \\xe2\\x88\\x921</span>. When the mean <i>\\xce\\xbc</i> is not zero, the plain and absolute moments can be expressed in terms of <a href=\"/wiki/Confluent_hypergeometric_function\" title=\"Confluent hypergeometric function\">confluent hypergeometric functions</a> <sub>1</sub><i>F</i><sub>1</sub> and&#160;<i>U</i>.<sup class=\"noprint Inline-Template Template-Fact\" style=\"white-space:nowrap;\">[<i><a href=\"/wiki/Wikipedia:Citation_needed\" title=\"Wikipedia:Citation needed\"><span title=\"This claim needs references to reliable sources. (June 2010)\">citation needed</span></a></i>]</sup></p>\\n<dl>\\n<dd><span class=\"mwe-math-element\"><span class=\"mwe-math-mathml-inline mwe-math-mathml-a11y\" style=\"display: none;\"><math xmlns=\"http://www.w3.org/1998/Math/MathML\" >\\n  <semantics>\\n    <mrow class=\"MJX-TeXAtom-ORD\">\\n      <mstyle displaystyle=\"true\" scriptlevel=\"0\">\\n        <mi mathvariant=\"normal\">E</mi>\\n        <mo>&#x2061;<!-- \\xe2\\x81\\xa1 --></mo>\\n        <mrow>\\n          <mo>[</mo>\\n          <msup>\\n            <mi>X</mi>\\n            <mrow class=\"MJX-TeXAtom-ORD\">\\n              <mi>p</mi>\\n            </mrow>\\n          </msup>\\n          <mo>]</mo>\\n        </mrow>\\n        <mo>=</mo>\\n        <msup>\\n          <mi>&#x03C3;<!-- \\xcf\\x83 --></mi>\\n          <mrow class=\"MJX-TeXAtom-ORD\">\\n            <mi>p</mi>\\n          </mrow>\\n        </msup>\\n        <mo>&#x22C5;<!-- \\xe2\\x8b\\x85 --></mo>\\n        <mo stretchy=\"false\">(</mo>\\n        <mo>&#x2212;<!-- \\xe2\\x88\\x92 --></mo>\\n        <mi>i</mi>\\n        <mrow class=\"MJX-TeXAtom-ORD\">\\n          <msqrt>\\n            <mn>2</mn>\\n          </msqrt>\\n        </mrow>\\n        <msup>\\n          <mo stretchy=\"false\">)</mo>\\n          <mrow class=\"MJX-TeXAtom-ORD\">\\n            <mi>p</mi>\\n          </mrow>\\n        </msup>\\n        <mspace width=\"thickmathspace\" />\\n        <mi>U</mi>\\n        <mrow>\\n          <mo>(</mo>\\n          <mo>&#x2212;<!-- \\xe2\\x88\\x92 --></mo>\\n          <mrow class=\"MJX-TeXAtom-ORD\">\\n            <mfrac>\\n              <mn>1</mn>\\n              <mn>2</mn>\\n            </mfrac>\\n          </mrow>\\n          <mi>p</mi>\\n          <mo>,</mo>\\n          <mspace width=\"thinmathspace\" />\\n          <mrow class=\"MJX-TeXAtom-ORD\">\\n            <mfrac>\\n              <mn>1</mn>\\n              <mn>2</mn>\\n            </mfrac>\\n          </mrow>\\n          <mo>,</mo>\\n          <mspace width=\"thinmathspace\" />\\n          <mo>&#x2212;<!-- \\xe2\\x88\\x92 --></mo>\\n          <mrow class=\"MJX-TeXAtom-ORD\">\\n            <mfrac>\\n              <mn>1</mn>\\n              <mn>2</mn>\\n            </mfrac>\\n          </mrow>\\n          <msup>\\n            <mrow>\\n              <mo>(</mo>\\n              <mrow class=\"MJX-TeXAtom-ORD\">\\n                <mfrac>\\n                  <mi>&#x03BC;<!-- \\xce\\xbc --></mi>\\n                  <mi>&#x03C3;<!-- \\xcf\\x83 --></mi>\\n                </mfrac>\\n              </mrow>\\n              <mo>)</mo>\\n            </mrow>\\n            <mrow class=\"MJX-TeXAtom-ORD\">\\n              <mn>2</mn>\\n            </mrow>\\n          </msup>\\n          <mo>)</mo>\\n        </mrow>\\n        <mo>,</mo>\\n      </mstyle>\\n    </mrow>\\n    <annotation encoding=\"application/x-tex\">{\\\\displaystyle \\\\operatorname {E} \\\\left[X^{p}\\\\right]=\\\\sigma ^{p}\\\\cdot (-i{\\\\sqrt {2}})^{p}\\\\;U\\\\left(-{\\\\frac {1}{2}}p,\\\\,{\\\\frac {1}{2}},\\\\,-{\\\\frac {1}{2}}\\\\left({\\\\frac {\\\\mu }{\\\\sigma }}\\\\right)^{2}\\\\right),}</annotation>\\n  </semantics>\\n</math></span><img src=\"https://wikimedia.org/api/rest_v1/media/math/render/svg/6e719abf694a13516ab4373893da02bda4ac7aed\" class=\"mwe-math-fallback-image-inline\" aria-hidden=\"true\" style=\"vertical-align: -2.505ex; width:48.96ex; height:6.176ex;\" alt=\"{\\\\displaystyle \\\\operatorname {E} \\\\left[X^{p}\\\\right]=\\\\sigma ^{p}\\\\cdot (-i{\\\\sqrt {2}})^{p}\\\\;U\\\\left(-{\\\\frac {1}{2}}p,\\\\,{\\\\frac {1}{2}},\\\\,-{\\\\frac {1}{2}}\\\\left({\\\\frac {\\\\mu }{\\\\sigma }}\\\\right)^{2}\\\\right),}\" /></span></dd>\\n<dd><span class=\"mwe-math-element\"><span class=\"mwe-math-mathml-inline mwe-math-mathml-a11y\" style=\"display: none;\"><math xmlns=\"http://www.w3.org/1998/Math/MathML\" >\\n  <semantics>\\n    <mrow class=\"MJX-TeXAtom-ORD\">\\n      <mstyle displaystyle=\"true\" scriptlevel=\"0\">\\n        <mi mathvariant=\"normal\">E</mi>\\n        <mo>&#x2061;<!-- \\xe2\\x81\\xa1 --></mo>\\n        <mrow>\\n          <mo>[</mo>\\n          <mrow class=\"MJX-TeXAtom-ORD\">\\n            <mo stretchy=\"false\">|</mo>\\n          </mrow>\\n          <mi>X</mi>\\n          <msup>\\n            <mrow class=\"MJX-TeXAtom-ORD\">\\n              <mo stretchy=\"false\">|</mo>\\n            </mrow>\\n            <mrow class=\"MJX-TeXAtom-ORD\">\\n              <mi>p</mi>\\n            </mrow>\\n          </msup>\\n          <mo>]</mo>\\n        </mrow>\\n        <mo>=</mo>\\n        <msup>\\n          <mi>&#x03C3;<!-- \\xcf\\x83 --></mi>\\n          <mrow class=\"MJX-TeXAtom-ORD\">\\n            <mi>p</mi>\\n          </mrow>\\n        </msup>\\n        <mo>&#x22C5;<!-- \\xe2\\x8b\\x85 --></mo>\\n        <msup>\\n          <mn>2</mn>\\n          <mrow class=\"MJX-TeXAtom-ORD\">\\n            <mi>p</mi>\\n            <mrow class=\"MJX-TeXAtom-ORD\">\\n              <mo>/</mo>\\n            </mrow>\\n            <mn>2</mn>\\n          </mrow>\\n        </msup>\\n        <mrow class=\"MJX-TeXAtom-ORD\">\\n          <mfrac>\\n            <mrow>\\n              <mi mathvariant=\"normal\">&#x0393;<!-- \\xce\\x93 --></mi>\\n              <mrow>\\n                <mo>(</mo>\\n                <mrow class=\"MJX-TeXAtom-ORD\">\\n                  <mfrac>\\n                    <mrow>\\n                      <mn>1</mn>\\n                      <mo>+</mo>\\n                      <mi>p</mi>\\n                    </mrow>\\n                    <mn>2</mn>\\n                  </mfrac>\\n                </mrow>\\n                <mo>)</mo>\\n              </mrow>\\n            </mrow>\\n            <msqrt>\\n              <mi>&#x03C0;<!-- \\xcf\\x80 --></mi>\\n            </msqrt>\\n          </mfrac>\\n        </mrow>\\n        <msub>\\n          <mspace width=\"thickmathspace\" />\\n          <mrow class=\"MJX-TeXAtom-ORD\">\\n            <mn>1</mn>\\n          </mrow>\\n        </msub>\\n        <msub>\\n          <mi>F</mi>\\n          <mrow class=\"MJX-TeXAtom-ORD\">\\n            <mn>1</mn>\\n          </mrow>\\n        </msub>\\n        <mrow>\\n          <mo>(</mo>\\n          <mo>&#x2212;<!-- \\xe2\\x88\\x92 --></mo>\\n          <mrow class=\"MJX-TeXAtom-ORD\">\\n            <mfrac>\\n              <mn>1</mn>\\n              <mn>2</mn>\\n            </mfrac>\\n          </mrow>\\n          <mi>p</mi>\\n          <mo>,</mo>\\n          <mspace width=\"thinmathspace\" />\\n          <mrow class=\"MJX-TeXAtom-ORD\">\\n            <mfrac>\\n              <mn>1</mn>\\n              <mn>2</mn>\\n            </mfrac>\\n          </mrow>\\n          <mo>,</mo>\\n          <mspace width=\"thinmathspace\" />\\n          <mo>&#x2212;<!-- \\xe2\\x88\\x92 --></mo>\\n          <mrow class=\"MJX-TeXAtom-ORD\">\\n            <mfrac>\\n              <mn>1</mn>\\n              <mn>2</mn>\\n            </mfrac>\\n          </mrow>\\n          <msup>\\n            <mrow>\\n              <mo>(</mo>\\n              <mrow class=\"MJX-TeXAtom-ORD\">\\n                <mfrac>\\n                  <mi>&#x03BC;<!-- \\xce\\xbc --></mi>\\n                  <mi>&#x03C3;<!-- \\xcf\\x83 --></mi>\\n                </mfrac>\\n              </mrow>\\n              <mo>)</mo>\\n            </mrow>\\n            <mrow class=\"MJX-TeXAtom-ORD\">\\n              <mn>2</mn>\\n            </mrow>\\n          </msup>\\n          <mo>)</mo>\\n        </mrow>\\n        <mo>.</mo>\\n      </mstyle>\\n    </mrow>\\n    <annotation encoding=\"application/x-tex\">{\\\\displaystyle \\\\operatorname {E} \\\\left[|X|^{p}\\\\right]=\\\\sigma ^{p}\\\\cdot 2^{p/2}{\\\\frac {\\\\Gamma \\\\left({\\\\frac {1+p}{2}}\\\\right)}{\\\\sqrt {\\\\pi }}}\\\\;_{1}F_{1}\\\\left(-{\\\\frac {1}{2}}p,\\\\,{\\\\frac {1}{2}},\\\\,-{\\\\frac {1}{2}}\\\\left({\\\\frac {\\\\mu }{\\\\sigma }}\\\\right)^{2}\\\\right).}</annotation>\\n  </semantics>\\n</math></span><img src=\"https://wikimedia.org/api/rest_v1/media/math/render/svg/f23eb9061f32afa40b94dde155c1a9cef409c990\" class=\"mwe-math-fallback-image-inline\" aria-hidden=\"true\" style=\"vertical-align: -2.838ex; width:56.613ex; height:8.509ex;\" alt=\"{\\\\displaystyle \\\\operatorname {E} \\\\left[|X|^{p}\\\\right]=\\\\sigma ^{p}\\\\cdot 2^{p/2}{\\\\frac {\\\\Gamma \\\\left({\\\\frac {1+p}{2}}\\\\right)}{\\\\sqrt {\\\\pi }}}\\\\;_{1}F_{1}\\\\left(-{\\\\frac {1}{2}}p,\\\\,{\\\\frac {1}{2}},\\\\,-{\\\\frac {1}{2}}\\\\left({\\\\frac {\\\\mu }{\\\\sigma }}\\\\right)^{2}\\\\right).}\" /></span></dd>\\n</dl>\\n<p>These expressions remain valid even if <i>p</i> is not integer. See also <a href=\"/wiki/Hermite_polynomials#.22Negative_variance.22\" title=\"Hermite polynomials\">generalized Hermite polynomials</a>.</p>\\n<center>\\n<table class=\"wikitable\" style=\"background:#fff;\">\\n<tr>\\n<th>Order</th>\\n<th>Non-central moment</th>\\n<th>Central moment</th>\\n</tr>\\n<tr>\\n<td>1</td>\\n<td><i>\\xce\\xbc</i></td>\\n<td>0</td>\\n</tr>\\n<tr>\\n<td>2</td>\\n<td><i>\\xce\\xbc</i><sup>2</sup> + <i>\\xcf\\x83</i><sup>2</sup></td>\\n<td><i>\\xcf\\x83</i> <sup>2</sup></td>\\n</tr>\\n<tr>\\n<td>3</td>\\n<td><i>\\xce\\xbc</i><sup>3</sup> + 3<i>\\xce\\xbc\\xcf\\x83</i><sup>2</sup></td>\\n<td>0</td>\\n</tr>\\n<tr>\\n<td>4</td>\\n<td><i>\\xce\\xbc</i><sup>4</sup> + 6<i>\\xce\\xbc</i><sup>2</sup><i>\\xcf\\x83</i><sup>2</sup> + 3<i>\\xcf\\x83</i><sup>4</sup></td>\\n<td>3<i>\\xcf\\x83</i> <sup>4</sup></td>\\n</tr>\\n<tr>\\n<td>5</td>\\n<td><i>\\xce\\xbc</i><sup>5</sup> + 10<i>\\xce\\xbc</i><sup>3</sup><i>\\xcf\\x83</i><sup>2</sup> + 15<i>\\xce\\xbc\\xcf\\x83</i><sup>4</sup></td>\\n<td>0</td>\\n</tr>\\n<tr>\\n<td>6</td>\\n<td><i>\\xce\\xbc</i><sup>6</sup> + 15<i>\\xce\\xbc</i><sup>4</sup><i>\\xcf\\x83</i><sup>2</sup> + 45<i>\\xce\\xbc</i><sup>2</sup><i>\\xcf\\x83</i><sup>4</sup> + 15<i>\\xcf\\x83</i><sup>6</sup></td>\\n<td>15<i>\\xcf\\x83</i> <sup>6</sup></td>\\n</tr>\\n<tr>\\n<td>7</td>\\n<td><i>\\xce\\xbc</i><sup>7</sup> + 21<i>\\xce\\xbc</i><sup>5</sup><i>\\xcf\\x83</i><sup>2</sup> + 105<i>\\xce\\xbc</i><sup>3</sup><i>\\xcf\\x83</i><sup>4</sup> + 105<i>\\xce\\xbc\\xcf\\x83</i><sup>6</sup></td>\\n<td>0</td>\\n</tr>\\n<tr>\\n<td>8</td>\\n<td><i>\\xce\\xbc</i><sup>8</sup> + 28<i>\\xce\\xbc</i><sup>6</sup><i>\\xcf\\x83</i><sup>2</sup> + 210<i>\\xce\\xbc</i><sup>4</sup><i>\\xcf\\x83</i><sup>4</sup> + 420<i>\\xce\\xbc</i><sup>2</sup><i>\\xcf\\x83</i><sup>6</sup> + 105<i>\\xcf\\x83</i><sup>8</sup></td>\\n<td>105<i>\\xcf\\x83</i> <sup>8</sup></td>\\n</tr>\\n</table>\\n</center>\\n<p>The expectation of <i>X</i> conditioned on the event that <i>X</i> lies in an interval <i>[a,b]</i> is given by</p>\\n<dl>\\n<dd><span class=\"mwe-math-element\"><span class=\"mwe-math-mathml-inline mwe-math-mathml-a11y\" style=\"display: none;\"><math xmlns=\"http://www.w3.org/1998/Math/MathML\" >\\n  <semantics>\\n    <mrow class=\"MJX-TeXAtom-ORD\">\\n      <mstyle displaystyle=\"true\" scriptlevel=\"0\">\\n        <mrow class=\"MJX-TeXAtom-ORD\">\\n          <mi mathvariant=\"normal\">E</mi>\\n        </mrow>\\n        <mrow>\\n          <mo>[</mo>\\n          <mi>X</mi>\\n          <mo>&#x2223;<!-- \\xe2\\x88\\xa3 --></mo>\\n          <mi>a</mi>\\n          <mo>&lt;</mo>\\n          <mi>X</mi>\\n          <mo>&lt;</mo>\\n          <mi>b</mi>\\n          <mo>]</mo>\\n        </mrow>\\n        <mo>=</mo>\\n        <mi>&#x03BC;<!-- \\xce\\xbc --></mi>\\n        <mo>&#x2212;<!-- \\xe2\\x88\\x92 --></mo>\\n        <msup>\\n          <mi>&#x03C3;<!-- \\xcf\\x83 --></mi>\\n          <mrow class=\"MJX-TeXAtom-ORD\">\\n            <mn>2</mn>\\n          </mrow>\\n        </msup>\\n        <mrow class=\"MJX-TeXAtom-ORD\">\\n          <mfrac>\\n            <mrow>\\n              <mi>f</mi>\\n              <mo stretchy=\"false\">(</mo>\\n              <mi>b</mi>\\n              <mo stretchy=\"false\">)</mo>\\n              <mo>&#x2212;<!-- \\xe2\\x88\\x92 --></mo>\\n              <mi>f</mi>\\n              <mo stretchy=\"false\">(</mo>\\n              <mi>a</mi>\\n              <mo stretchy=\"false\">)</mo>\\n            </mrow>\\n            <mrow>\\n              <mi>F</mi>\\n              <mo stretchy=\"false\">(</mo>\\n              <mi>b</mi>\\n              <mo stretchy=\"false\">)</mo>\\n              <mo>&#x2212;<!-- \\xe2\\x88\\x92 --></mo>\\n              <mi>F</mi>\\n              <mo stretchy=\"false\">(</mo>\\n              <mi>a</mi>\\n              <mo stretchy=\"false\">)</mo>\\n            </mrow>\\n          </mfrac>\\n        </mrow>\\n      </mstyle>\\n    </mrow>\\n    <annotation encoding=\"application/x-tex\">{\\\\displaystyle \\\\mathrm {E} \\\\left[X\\\\mid a&lt;X&lt;b\\\\right]=\\\\mu -\\\\sigma ^{2}{\\\\frac {f(b)-f(a)}{F(b)-F(a)}}}</annotation>\\n  </semantics>\\n</math></span><img src=\"https://wikimedia.org/api/rest_v1/media/math/render/svg/a60f004c39b7714321864ff6c0de8df24a9e69e3\" class=\"mwe-math-fallback-image-inline\" aria-hidden=\"true\" style=\"vertical-align: -2.671ex; width:40.562ex; height:6.509ex;\" alt=\"{\\\\displaystyle \\\\mathrm {E} \\\\left[X\\\\mid a&lt;X&lt;b\\\\right]=\\\\mu -\\\\sigma ^{2}{\\\\frac {f(b)-f(a)}{F(b)-F(a)}}}\" /></span></dd>\\n</dl>\\n<p>where <i>f</i>(<i>x</i>) and <i>F</i>(<i>x</i>) respectively are the density and the cumulative distribution function of <i>X</i>. For <i>b</i>&#160;=&#160;\\xe2\\x88\\x9e this is known as the <a href=\"/wiki/Inverse_Mills_ratio\" title=\"Inverse Mills ratio\">inverse Mills ratio</a>. Note that above, density <span class=\"mwe-math-element\"><span class=\"mwe-math-mathml-inline mwe-math-mathml-a11y\" style=\"display: none;\"><math xmlns=\"http://www.w3.org/1998/Math/MathML\">\\n  <semantics>\\n    <mrow class=\"MJX-TeXAtom-ORD\">\\n      <mstyle displaystyle=\"false\" scriptlevel=\"0\">\\n        <mi>f</mi>\\n      </mstyle>\\n    </mrow>\\n    <annotation encoding=\"application/x-tex\">{\\\\textstyle f}</annotation>\\n  </semantics>\\n</math></span><img src=\"https://wikimedia.org/api/rest_v1/media/math/render/svg/e1b77076edca76caf3331d0551d1645b8f678283\" class=\"mwe-math-fallback-image-inline\" aria-hidden=\"true\" style=\"vertical-align: -0.671ex; width:1.289ex; height:2.509ex;\" alt=\"{\\\\textstyle f}\" /></span> of <i>X</i> is used instead of standard normal density as in inverse Mills ratio, so here we have <span class=\"mwe-math-element\"><span class=\"mwe-math-mathml-inline mwe-math-mathml-a11y\" style=\"display: none;\"><math xmlns=\"http://www.w3.org/1998/Math/MathML\">\\n  <semantics>\\n    <mrow class=\"MJX-TeXAtom-ORD\">\\n      <mstyle displaystyle=\"false\" scriptlevel=\"0\">\\n        <msup>\\n          <mi>&#x03C3;<!-- \\xcf\\x83 --></mi>\\n          <mrow class=\"MJX-TeXAtom-ORD\">\\n            <mn>2</mn>\\n          </mrow>\\n        </msup>\\n      </mstyle>\\n    </mrow>\\n    <annotation encoding=\"application/x-tex\">{\\\\textstyle \\\\sigma ^{2}}</annotation>\\n  </semantics>\\n</math></span><img src=\"https://wikimedia.org/api/rest_v1/media/math/render/svg/a86f1d00f664920ef46109bcddc0778f4976b490\" class=\"mwe-math-fallback-image-inline\" aria-hidden=\"true\" style=\"vertical-align: -0.338ex; width:2.403ex; height:2.509ex;\" alt=\"{\\\\textstyle \\\\sigma ^{2}}\" /></span> instead of <span class=\"mwe-math-element\"><span class=\"mwe-math-mathml-inline mwe-math-mathml-a11y\" style=\"display: none;\"><math xmlns=\"http://www.w3.org/1998/Math/MathML\">\\n  <semantics>\\n    <mrow class=\"MJX-TeXAtom-ORD\">\\n      <mstyle displaystyle=\"false\" scriptlevel=\"0\">\\n        <mi>&#x03C3;<!-- \\xcf\\x83 --></mi>\\n      </mstyle>\\n    </mrow>\\n    <annotation encoding=\"application/x-tex\">{\\\\textstyle \\\\sigma }</annotation>\\n  </semantics>\\n</math></span><img src=\"https://wikimedia.org/api/rest_v1/media/math/render/svg/8ca336f17488923d11206e131f7eb2a569e8dde2\" class=\"mwe-math-fallback-image-inline\" aria-hidden=\"true\" style=\"vertical-align: -0.338ex; width:1.34ex; height:1.676ex;\" alt=\"{\\\\textstyle \\\\sigma }\" /></span>.</p>\\n<h3><span class=\"mw-headline\" id=\"Fourier_transform_and_characteristic_function\">Fourier transform and characteristic function</span><span class=\"mw-editsection\"><span class=\"mw-editsection-bracket\">[</span><a href=\"/w/index.php?title=Normal_distribution&amp;action=edit&amp;section=10\" title=\"Edit section: Fourier transform and characteristic function\">edit</a><span class=\"mw-editsection-bracket\">]</span></span></h3>\\n<p>The <a href=\"/wiki/Fourier_transform\" title=\"Fourier transform\">Fourier transform</a> of a normal distribution <i>f</i> with mean <i>\\xce\\xbc</i> and deviation <i>\\xcf\\x83</i> is<sup id=\"cite_ref-15\" class=\"reference\"><a href=\"#cite_note-15\">[15]</a></sup></p>\\n<dl>\\n<dd><span class=\"mwe-math-element\"><span class=\"mwe-math-mathml-inline mwe-math-mathml-a11y\" style=\"display: none;\"><math xmlns=\"http://www.w3.org/1998/Math/MathML\" >\\n  <semantics>\\n    <mrow class=\"MJX-TeXAtom-ORD\">\\n      <mstyle displaystyle=\"true\" scriptlevel=\"0\">\\n        <mrow class=\"MJX-TeXAtom-ORD\">\\n          <mrow class=\"MJX-TeXAtom-ORD\">\\n            <mover>\\n              <mi>&#x03C6;<!-- \\xcf\\x86 --></mi>\\n              <mo stretchy=\"false\">&#x005E;<!-- ^ --></mo>\\n            </mover>\\n          </mrow>\\n        </mrow>\\n        <mo stretchy=\"false\">(</mo>\\n        <mi>t</mi>\\n        <mo stretchy=\"false\">)</mo>\\n        <mo>=</mo>\\n        <msubsup>\\n          <mo>&#x222B;<!-- \\xe2\\x88\\xab --></mo>\\n          <mrow class=\"MJX-TeXAtom-ORD\">\\n            <mo>&#x2212;<!-- \\xe2\\x88\\x92 --></mo>\\n            <mi mathvariant=\"normal\">&#x221E;<!-- \\xe2\\x88\\x9e --></mi>\\n          </mrow>\\n          <mrow class=\"MJX-TeXAtom-ORD\">\\n            <mi mathvariant=\"normal\">&#x221E;<!-- \\xe2\\x88\\x9e --></mi>\\n          </mrow>\\n        </msubsup>\\n        <mspace width=\"negativethinmathspace\" />\\n        <mi>f</mi>\\n        <mo stretchy=\"false\">(</mo>\\n        <mi>x</mi>\\n        <mo stretchy=\"false\">)</mo>\\n        <msup>\\n          <mi>e</mi>\\n          <mrow class=\"MJX-TeXAtom-ORD\">\\n            <mo>&#x2212;<!-- \\xe2\\x88\\x92 --></mo>\\n            <mi>i</mi>\\n            <mi>t</mi>\\n            <mi>x</mi>\\n          </mrow>\\n        </msup>\\n        <mspace width=\"thinmathspace\" />\\n        <mi>d</mi>\\n        <mi>x</mi>\\n        <mo>=</mo>\\n        <msup>\\n          <mi>e</mi>\\n          <mrow class=\"MJX-TeXAtom-ORD\">\\n            <mi>i</mi>\\n            <mi>&#x03BC;<!-- \\xce\\xbc --></mi>\\n            <mi>t</mi>\\n          </mrow>\\n        </msup>\\n        <msup>\\n          <mi>e</mi>\\n          <mrow class=\"MJX-TeXAtom-ORD\">\\n            <mo>&#x2212;<!-- \\xe2\\x88\\x92 --></mo>\\n            <mrow class=\"MJX-TeXAtom-ORD\">\\n              <mfrac>\\n                <mn>1</mn>\\n                <mn>2</mn>\\n              </mfrac>\\n            </mrow>\\n            <mo stretchy=\"false\">(</mo>\\n            <mi>&#x03C3;<!-- \\xcf\\x83 --></mi>\\n            <mi>t</mi>\\n            <msup>\\n              <mo stretchy=\"false\">)</mo>\\n              <mrow class=\"MJX-TeXAtom-ORD\">\\n                <mn>2</mn>\\n              </mrow>\\n            </msup>\\n          </mrow>\\n        </msup>\\n      </mstyle>\\n    </mrow>\\n    <annotation encoding=\"application/x-tex\">{\\\\displaystyle {\\\\hat {\\\\varphi }}(t)=\\\\int _{-\\\\infty }^{\\\\infty }\\\\!f(x)e^{-itx}\\\\,dx=e^{i\\\\mu t}e^{-{\\\\frac {1}{2}}(\\\\sigma t)^{2}}}</annotation>\\n  </semantics>\\n</math></span><img src=\"https://wikimedia.org/api/rest_v1/media/math/render/svg/92372c337c08d32e73ff198c4615e41645e9602a\" class=\"mwe-math-fallback-image-inline\" aria-hidden=\"true\" style=\"vertical-align: -2.338ex; width:38.366ex; height:5.843ex;\" alt=\"{\\\\displaystyle {\\\\hat {\\\\varphi }}(t)=\\\\int _{-\\\\infty }^{\\\\infty }\\\\!f(x)e^{-itx}\\\\,dx=e^{i\\\\mu t}e^{-{\\\\frac {1}{2}}(\\\\sigma t)^{2}}}\" /></span></dd>\\n</dl>\\n<p>where <b>i</b> is the <a href=\"/wiki/Imaginary_unit\" title=\"Imaginary unit\">imaginary unit</a>. If the mean <i>\\xce\\xbc</i> is zero, the first factor is 1, and the Fourier transform is also a normal distribution on the <a href=\"/wiki/Frequency_domain\" title=\"Frequency domain\">frequency domain</a>, with mean 0 and standard deviation 1/<i>\\xcf\\x83</i>. In particular, the standard normal distribution <i>\\xcf\\x95</i> (with <i>\\xce\\xbc</i>&#160;=&#160;0 and <i>\\xcf\\x83</i>&#160;=&#160;1) is an <a href=\"/wiki/Eigenfunction\" title=\"Eigenfunction\">eigenfunction</a> of the Fourier transform.</p>\\n<p>In probability theory, the Fourier transform of the probability distribution of a real-valued random variable <i>X</i> is called the <a href=\"/wiki/Characteristic_function_(probability_theory)\" title=\"Characteristic function (probability theory)\">characteristic function</a> of that variable, and can be defined as the <a href=\"/wiki/Expected_value\" title=\"Expected value\">expected value</a> of <i>e</i><sup><i>i tX</i></sup>, as a function of the real variable <i>t</i> (the <a href=\"/wiki/Frequency\" title=\"Frequency\">frequency</a> parameter of the Fourier transform). This definition can be analytically extended to a complex-value parameter <i>t</i>.<sup id=\"cite_ref-16\" class=\"reference\"><a href=\"#cite_note-16\">[16]</a></sup></p>\\n<h3><span class=\"mw-headline\" id=\"Moment_and_cumulant_generating_functions\">Moment and cumulant generating functions</span><span class=\"mw-editsection\"><span class=\"mw-editsection-bracket\">[</span><a href=\"/w/index.php?title=Normal_distribution&amp;action=edit&amp;section=11\" title=\"Edit section: Moment and cumulant generating functions\">edit</a><span class=\"mw-editsection-bracket\">]</span></span></h3>\\n<p>The <a href=\"/wiki/Moment_generating_function\" class=\"mw-redirect\" title=\"Moment generating function\">moment generating function</a> of a real random variable <i>X</i> is the expected value of <i>e<sup>tX</sup></i>, as a function of the real parameter <i>t</i>. For a normal distribution with mean <i>\\xce\\xbc</i> and deviation <i>\\xcf\\x83</i>, the moment generating function exists and is equal to</p>\\n<dl>\\n<dd><span class=\"mwe-math-element\"><span class=\"mwe-math-mathml-inline mwe-math-mathml-a11y\" style=\"display: none;\"><math xmlns=\"http://www.w3.org/1998/Math/MathML\" >\\n  <semantics>\\n    <mrow class=\"MJX-TeXAtom-ORD\">\\n      <mstyle displaystyle=\"true\" scriptlevel=\"0\">\\n        <mi>M</mi>\\n        <mo stretchy=\"false\">(</mo>\\n        <mi>t</mi>\\n        <mo stretchy=\"false\">)</mo>\\n        <mo>=</mo>\\n        <mrow class=\"MJX-TeXAtom-ORD\">\\n          <mrow class=\"MJX-TeXAtom-ORD\">\\n            <mover>\\n              <mi>&#x03C6;<!-- \\xcf\\x86 --></mi>\\n              <mo stretchy=\"false\">&#x005E;<!-- ^ --></mo>\\n            </mover>\\n          </mrow>\\n        </mrow>\\n        <mo stretchy=\"false\">(</mo>\\n        <mo>&#x2212;<!-- \\xe2\\x88\\x92 --></mo>\\n        <mi>i</mi>\\n        <mi>t</mi>\\n        <mo stretchy=\"false\">)</mo>\\n        <mo>=</mo>\\n        <msup>\\n          <mi>e</mi>\\n          <mrow class=\"MJX-TeXAtom-ORD\">\\n            <mi>&#x03BC;<!-- \\xce\\xbc --></mi>\\n            <mi>t</mi>\\n          </mrow>\\n        </msup>\\n        <msup>\\n          <mi>e</mi>\\n          <mrow class=\"MJX-TeXAtom-ORD\">\\n            <mrow class=\"MJX-TeXAtom-ORD\">\\n              <mfrac>\\n                <mn>1</mn>\\n                <mn>2</mn>\\n              </mfrac>\\n            </mrow>\\n            <msup>\\n              <mi>&#x03C3;<!-- \\xcf\\x83 --></mi>\\n              <mrow class=\"MJX-TeXAtom-ORD\">\\n                <mn>2</mn>\\n              </mrow>\\n            </msup>\\n            <msup>\\n              <mi>t</mi>\\n              <mrow class=\"MJX-TeXAtom-ORD\">\\n                <mn>2</mn>\\n              </mrow>\\n            </msup>\\n          </mrow>\\n        </msup>\\n      </mstyle>\\n    </mrow>\\n    <annotation encoding=\"application/x-tex\">{\\\\displaystyle M(t)={\\\\hat {\\\\varphi }}(-it)=e^{\\\\mu t}e^{{\\\\frac {1}{2}}\\\\sigma ^{2}t^{2}}}</annotation>\\n  </semantics>\\n</math></span><img src=\"https://wikimedia.org/api/rest_v1/media/math/render/svg/be6a33bd0f620ce48628712d2ecf7ff7017934e1\" class=\"mwe-math-fallback-image-inline\" aria-hidden=\"true\" style=\"vertical-align: -0.838ex; width:27.194ex; height:4.009ex;\" alt=\"{\\\\displaystyle M(t)={\\\\hat {\\\\varphi }}(-it)=e^{\\\\mu t}e^{{\\\\frac {1}{2}}\\\\sigma ^{2}t^{2}}}\" /></span></dd>\\n</dl>\\n<p>The <a href=\"/wiki/Cumulant_generating_function\" class=\"mw-redirect\" title=\"Cumulant generating function\">cumulant generating function</a> is the logarithm of the moment generating function, namely</p>\\n<dl>\\n<dd><span class=\"mwe-math-element\"><span class=\"mwe-math-mathml-inline mwe-math-mathml-a11y\" style=\"display: none;\"><math xmlns=\"http://www.w3.org/1998/Math/MathML\" >\\n  <semantics>\\n    <mrow class=\"MJX-TeXAtom-ORD\">\\n      <mstyle displaystyle=\"true\" scriptlevel=\"0\">\\n        <mi>g</mi>\\n        <mo stretchy=\"false\">(</mo>\\n        <mi>t</mi>\\n        <mo stretchy=\"false\">)</mo>\\n        <mo>=</mo>\\n        <mi>ln</mi>\\n        <mo>&#x2061;<!-- \\xe2\\x81\\xa1 --></mo>\\n        <mi>M</mi>\\n        <mo stretchy=\"false\">(</mo>\\n        <mi>t</mi>\\n        <mo stretchy=\"false\">)</mo>\\n        <mo>=</mo>\\n        <mi>&#x03BC;<!-- \\xce\\xbc --></mi>\\n        <mi>t</mi>\\n        <mo>+</mo>\\n        <mrow class=\"MJX-TeXAtom-ORD\">\\n          <mfrac>\\n            <mn>1</mn>\\n            <mn>2</mn>\\n          </mfrac>\\n        </mrow>\\n        <msup>\\n          <mi>&#x03C3;<!-- \\xcf\\x83 --></mi>\\n          <mrow class=\"MJX-TeXAtom-ORD\">\\n            <mn>2</mn>\\n          </mrow>\\n        </msup>\\n        <msup>\\n          <mi>t</mi>\\n          <mrow class=\"MJX-TeXAtom-ORD\">\\n            <mn>2</mn>\\n          </mrow>\\n        </msup>\\n      </mstyle>\\n    </mrow>\\n    <annotation encoding=\"application/x-tex\">{\\\\displaystyle g(t)=\\\\ln M(t)=\\\\mu t+{\\\\frac {1}{2}}\\\\sigma ^{2}t^{2}}</annotation>\\n  </semantics>\\n</math></span><img src=\"https://wikimedia.org/api/rest_v1/media/math/render/svg/d1e10378550b41d66c5e31fce936809c43c543ef\" class=\"mwe-math-fallback-image-inline\" aria-hidden=\"true\" style=\"vertical-align: -1.838ex; width:28.941ex; height:5.176ex;\" alt=\"{\\\\displaystyle g(t)=\\\\ln M(t)=\\\\mu t+{\\\\frac {1}{2}}\\\\sigma ^{2}t^{2}}\" /></span></dd>\\n</dl>\\n<p>Since this is a quadratic polynomial in <i>t</i>, only the first two <a href=\"/wiki/Cumulant\" title=\"Cumulant\">cumulants</a> are nonzero, namely the mean&#160;<i>\\xce\\xbc</i> and the variance&#160;<i>\\xcf\\x83</i><sup>2</sup>.</p>\\n<h2><span class=\"mw-headline\" id=\"Cumulative_distribution_function\">Cumulative distribution function</span><span class=\"mw-editsection\"><span class=\"mw-editsection-bracket\">[</span><a href=\"/w/index.php?title=Normal_distribution&amp;action=edit&amp;section=12\" title=\"Edit section: Cumulative distribution function\">edit</a><span class=\"mw-editsection-bracket\">]</span></span></h2>\\n<p>The <a href=\"/wiki/Cumulative_distribution_function\" title=\"Cumulative distribution function\">cumulative distribution function</a> (CDF) of the standard normal distribution, usually denoted with the capital Greek letter <span class=\"mwe-math-element\"><span class=\"mwe-math-mathml-inline mwe-math-mathml-a11y\" style=\"display: none;\"><math xmlns=\"http://www.w3.org/1998/Math/MathML\" >\\n  <semantics>\\n    <mrow class=\"MJX-TeXAtom-ORD\">\\n      <mstyle displaystyle=\"true\" scriptlevel=\"0\">\\n        <mi mathvariant=\"normal\">&#x03A6;<!-- \\xce\\xa6 --></mi>\\n      </mstyle>\\n    </mrow>\\n    <annotation encoding=\"application/x-tex\">{\\\\displaystyle \\\\Phi }</annotation>\\n  </semantics>\\n</math></span><img src=\"https://wikimedia.org/api/rest_v1/media/math/render/svg/aed80a2011a3912b028ba32a52dfa57165455f24\" class=\"mwe-math-fallback-image-inline\" aria-hidden=\"true\" style=\"vertical-align: -0.338ex; width:1.689ex; height:2.176ex;\" alt=\"\\\\Phi \" /></span> (<a href=\"/wiki/Phi_(letter)\" class=\"mw-redirect\" title=\"Phi (letter)\">phi</a>), is the integral</p>\\n<dl>\\n<dd><span class=\"mwe-math-element\"><span class=\"mwe-math-mathml-inline mwe-math-mathml-a11y\" style=\"display: none;\"><math xmlns=\"http://www.w3.org/1998/Math/MathML\" >\\n  <semantics>\\n    <mrow class=\"MJX-TeXAtom-ORD\">\\n      <mstyle displaystyle=\"true\" scriptlevel=\"0\">\\n        <mi mathvariant=\"normal\">&#x03A6;<!-- \\xce\\xa6 --></mi>\\n        <mo stretchy=\"false\">(</mo>\\n        <mi>x</mi>\\n        <mo stretchy=\"false\">)</mo>\\n        <mo>=</mo>\\n        <mrow class=\"MJX-TeXAtom-ORD\">\\n          <mfrac>\\n            <mn>1</mn>\\n            <msqrt>\\n              <mn>2</mn>\\n              <mi>&#x03C0;<!-- \\xcf\\x80 --></mi>\\n            </msqrt>\\n          </mfrac>\\n        </mrow>\\n        <msubsup>\\n          <mo>&#x222B;<!-- \\xe2\\x88\\xab --></mo>\\n          <mrow class=\"MJX-TeXAtom-ORD\">\\n            <mo>&#x2212;<!-- \\xe2\\x88\\x92 --></mo>\\n            <mi mathvariant=\"normal\">&#x221E;<!-- \\xe2\\x88\\x9e --></mi>\\n          </mrow>\\n          <mrow class=\"MJX-TeXAtom-ORD\">\\n            <mi>x</mi>\\n          </mrow>\\n        </msubsup>\\n        <msup>\\n          <mi>e</mi>\\n          <mrow class=\"MJX-TeXAtom-ORD\">\\n            <mo>&#x2212;<!-- \\xe2\\x88\\x92 --></mo>\\n            <msup>\\n              <mi>t</mi>\\n              <mrow class=\"MJX-TeXAtom-ORD\">\\n                <mn>2</mn>\\n              </mrow>\\n            </msup>\\n            <mrow class=\"MJX-TeXAtom-ORD\">\\n              <mo>/</mo>\\n            </mrow>\\n            <mn>2</mn>\\n          </mrow>\\n        </msup>\\n        <mspace width=\"thinmathspace\" />\\n        <mi>d</mi>\\n        <mi>t</mi>\\n      </mstyle>\\n    </mrow>\\n    <annotation encoding=\"application/x-tex\">{\\\\displaystyle \\\\Phi (x)={\\\\frac {1}{\\\\sqrt {2\\\\pi }}}\\\\int _{-\\\\infty }^{x}e^{-t^{2}/2}\\\\,dt}</annotation>\\n  </semantics>\\n</math></span><img src=\"https://wikimedia.org/api/rest_v1/media/math/render/svg/bbbfde462f3432f932e7bc59a5f7351c0349d094\" class=\"mwe-math-fallback-image-inline\" aria-hidden=\"true\" style=\"vertical-align: -2.838ex; width:26.685ex; height:6.343ex;\" alt=\"{\\\\displaystyle \\\\Phi (x)={\\\\frac {1}{\\\\sqrt {2\\\\pi }}}\\\\int _{-\\\\infty }^{x}e^{-t^{2}/2}\\\\,dt}\" /></span></dd>\\n</dl>\\n<p>In statistics one often uses the related <a href=\"/wiki/Error_function\" title=\"Error function\">error function</a>, or erf(<i>x</i>), defined as the probability of a random variable with normal distribution of mean 0 and variance 1/2 falling in the range <span class=\"mwe-math-element\"><span class=\"mwe-math-mathml-inline mwe-math-mathml-a11y\" style=\"display: none;\"><math xmlns=\"http://www.w3.org/1998/Math/MathML\" >\\n  <semantics>\\n    <mrow class=\"MJX-TeXAtom-ORD\">\\n      <mstyle displaystyle=\"true\" scriptlevel=\"0\">\\n        <mo stretchy=\"false\">[</mo>\\n        <mo>&#x2212;<!-- \\xe2\\x88\\x92 --></mo>\\n        <mi>x</mi>\\n        <mo>,</mo>\\n        <mi>x</mi>\\n        <mo stretchy=\"false\">]</mo>\\n      </mstyle>\\n    </mrow>\\n    <annotation encoding=\"application/x-tex\">{\\\\displaystyle [-x,x]}</annotation>\\n  </semantics>\\n</math></span><img src=\"https://wikimedia.org/api/rest_v1/media/math/render/svg/e23c41ff0bd6f01a0e27054c2b85819fcd08b762\" class=\"mwe-math-fallback-image-inline\" aria-hidden=\"true\" style=\"vertical-align: -0.838ex; width:6.858ex; height:2.843ex;\" alt=\"[-x,x]\" /></span>; that is</p>\\n<dl>\\n<dd><span class=\"mwe-math-element\"><span class=\"mwe-math-mathml-inline mwe-math-mathml-a11y\" style=\"display: none;\"><math xmlns=\"http://www.w3.org/1998/Math/MathML\" >\\n  <semantics>\\n    <mrow class=\"MJX-TeXAtom-ORD\">\\n      <mstyle displaystyle=\"true\" scriptlevel=\"0\">\\n        <mi>erf</mi>\\n        <mo>&#x2061;<!-- \\xe2\\x81\\xa1 --></mo>\\n        <mo stretchy=\"false\">(</mo>\\n        <mi>x</mi>\\n        <mo stretchy=\"false\">)</mo>\\n        <mspace width=\"thickmathspace\" />\\n        <mo>=</mo>\\n        <mspace width=\"thickmathspace\" />\\n        <mrow class=\"MJX-TeXAtom-ORD\">\\n          <mfrac>\\n            <mn>1</mn>\\n            <msqrt>\\n              <mi>&#x03C0;<!-- \\xcf\\x80 --></mi>\\n            </msqrt>\\n          </mfrac>\\n        </mrow>\\n        <msubsup>\\n          <mo>&#x222B;<!-- \\xe2\\x88\\xab --></mo>\\n          <mrow class=\"MJX-TeXAtom-ORD\">\\n            <mo>&#x2212;<!-- \\xe2\\x88\\x92 --></mo>\\n            <mi>x</mi>\\n          </mrow>\\n          <mrow class=\"MJX-TeXAtom-ORD\">\\n            <mi>x</mi>\\n          </mrow>\\n        </msubsup>\\n        <msup>\\n          <mi>e</mi>\\n          <mrow class=\"MJX-TeXAtom-ORD\">\\n            <mo>&#x2212;<!-- \\xe2\\x88\\x92 --></mo>\\n            <msup>\\n              <mi>t</mi>\\n              <mrow class=\"MJX-TeXAtom-ORD\">\\n                <mn>2</mn>\\n              </mrow>\\n            </msup>\\n          </mrow>\\n        </msup>\\n        <mspace width=\"thinmathspace\" />\\n        <mi>d</mi>\\n        <mi>t</mi>\\n      </mstyle>\\n    </mrow>\\n    <annotation encoding=\"application/x-tex\">{\\\\displaystyle \\\\operatorname {erf} (x)\\\\;=\\\\;{\\\\frac {1}{\\\\sqrt {\\\\pi }}}\\\\int _{-x}^{x}e^{-t^{2}}\\\\,dt}</annotation>\\n  </semantics>\\n</math></span><img src=\"https://wikimedia.org/api/rest_v1/media/math/render/svg/9138d6757cb9c6b1239473f4f4d4f53b050a0352\" class=\"mwe-math-fallback-image-inline\" aria-hidden=\"true\" style=\"vertical-align: -2.838ex; width:25.439ex; height:6.343ex;\" alt=\"{\\\\displaystyle \\\\operatorname {erf} (x)\\\\;=\\\\;{\\\\frac {1}{\\\\sqrt {\\\\pi }}}\\\\int _{-x}^{x}e^{-t^{2}}\\\\,dt}\" /></span></dd>\\n</dl>\\n<p>These integrals cannot be expressed in terms of elementary functions, and are often said to be <a href=\"/wiki/Special_function\" class=\"mw-redirect\" title=\"Special function\">special functions</a>. However, many numerical approximations are known; see <a href=\"#Numerical_approximations_for_the_normal_CDF\">below</a>.</p>\\n<p>The two functions are closely related, namely</p>\\n<dl>\\n<dd><span class=\"mwe-math-element\"><span class=\"mwe-math-mathml-inline mwe-math-mathml-a11y\" style=\"display: none;\"><math xmlns=\"http://www.w3.org/1998/Math/MathML\" >\\n  <semantics>\\n    <mrow class=\"MJX-TeXAtom-ORD\">\\n      <mstyle displaystyle=\"true\" scriptlevel=\"0\">\\n        <mi mathvariant=\"normal\">&#x03A6;<!-- \\xce\\xa6 --></mi>\\n        <mo stretchy=\"false\">(</mo>\\n        <mi>x</mi>\\n        <mo stretchy=\"false\">)</mo>\\n        <mo>=</mo>\\n        <mrow class=\"MJX-TeXAtom-ORD\">\\n          <mfrac>\\n            <mn>1</mn>\\n            <mn>2</mn>\\n          </mfrac>\\n        </mrow>\\n        <mrow>\\n          <mo>[</mo>\\n          <mn>1</mn>\\n          <mo>+</mo>\\n          <mi>erf</mi>\\n          <mo>&#x2061;<!-- \\xe2\\x81\\xa1 --></mo>\\n          <mrow>\\n            <mo>(</mo>\\n            <mrow class=\"MJX-TeXAtom-ORD\">\\n              <mfrac>\\n                <mi>x</mi>\\n                <msqrt>\\n                  <mn>2</mn>\\n                </msqrt>\\n              </mfrac>\\n            </mrow>\\n            <mo>)</mo>\\n          </mrow>\\n          <mo>]</mo>\\n        </mrow>\\n      </mstyle>\\n    </mrow>\\n    <annotation encoding=\"application/x-tex\">{\\\\displaystyle \\\\Phi (x)={\\\\frac {1}{2}}\\\\left[1+\\\\operatorname {erf} \\\\left({\\\\frac {x}{\\\\sqrt {2}}}\\\\right)\\\\right]}</annotation>\\n  </semantics>\\n</math></span><img src=\"https://wikimedia.org/api/rest_v1/media/math/render/svg/c7831a9a5f630df7170fa805c186f4c53219ca36\" class=\"mwe-math-fallback-image-inline\" aria-hidden=\"true\" style=\"vertical-align: -3.171ex; width:27.464ex; height:7.509ex;\" alt=\"{\\\\displaystyle \\\\Phi (x)={\\\\frac {1}{2}}\\\\left[1+\\\\operatorname {erf} \\\\left({\\\\frac {x}{\\\\sqrt {2}}}\\\\right)\\\\right]}\" /></span></dd>\\n</dl>\\n<p>For a generic normal distribution <i>f</i> with mean <i>\\xce\\xbc</i> and deviation <i>\\xcf\\x83</i>, the cumulative distribution function is</p>\\n<dl>\\n<dd><span class=\"mwe-math-element\"><span class=\"mwe-math-mathml-inline mwe-math-mathml-a11y\" style=\"display: none;\"><math xmlns=\"http://www.w3.org/1998/Math/MathML\" >\\n  <semantics>\\n    <mrow class=\"MJX-TeXAtom-ORD\">\\n      <mstyle displaystyle=\"true\" scriptlevel=\"0\">\\n        <mi>F</mi>\\n        <mo stretchy=\"false\">(</mo>\\n        <mi>x</mi>\\n        <mo stretchy=\"false\">)</mo>\\n        <mo>=</mo>\\n        <mi mathvariant=\"normal\">&#x03A6;<!-- \\xce\\xa6 --></mi>\\n        <mrow>\\n          <mo>(</mo>\\n          <mrow class=\"MJX-TeXAtom-ORD\">\\n            <mfrac>\\n              <mrow>\\n                <mi>x</mi>\\n                <mo>&#x2212;<!-- \\xe2\\x88\\x92 --></mo>\\n                <mi>&#x03BC;<!-- \\xce\\xbc --></mi>\\n              </mrow>\\n              <mi>&#x03C3;<!-- \\xcf\\x83 --></mi>\\n            </mfrac>\\n          </mrow>\\n          <mo>)</mo>\\n        </mrow>\\n        <mo>=</mo>\\n        <mrow class=\"MJX-TeXAtom-ORD\">\\n          <mfrac>\\n            <mn>1</mn>\\n            <mn>2</mn>\\n          </mfrac>\\n        </mrow>\\n        <mrow>\\n          <mo>[</mo>\\n          <mn>1</mn>\\n          <mo>+</mo>\\n          <mi>erf</mi>\\n          <mo>&#x2061;<!-- \\xe2\\x81\\xa1 --></mo>\\n          <mrow>\\n            <mo>(</mo>\\n            <mrow class=\"MJX-TeXAtom-ORD\">\\n              <mfrac>\\n                <mrow>\\n                  <mi>x</mi>\\n                  <mo>&#x2212;<!-- \\xe2\\x88\\x92 --></mo>\\n                  <mi>&#x03BC;<!-- \\xce\\xbc --></mi>\\n                </mrow>\\n                <mrow>\\n                  <mi>&#x03C3;<!-- \\xcf\\x83 --></mi>\\n                  <mrow class=\"MJX-TeXAtom-ORD\">\\n                    <msqrt>\\n                      <mn>2</mn>\\n                    </msqrt>\\n                  </mrow>\\n                </mrow>\\n              </mfrac>\\n            </mrow>\\n            <mo>)</mo>\\n          </mrow>\\n          <mo>]</mo>\\n        </mrow>\\n      </mstyle>\\n    </mrow>\\n    <annotation encoding=\"application/x-tex\">{\\\\displaystyle F(x)=\\\\Phi \\\\left({\\\\frac {x-\\\\mu }{\\\\sigma }}\\\\right)={\\\\frac {1}{2}}\\\\left[1+\\\\operatorname {erf} \\\\left({\\\\frac {x-\\\\mu }{\\\\sigma {\\\\sqrt {2}}}}\\\\right)\\\\right]}</annotation>\\n  </semantics>\\n</math></span><img src=\"https://wikimedia.org/api/rest_v1/media/math/render/svg/75deccfbc473d782dacb783f1524abb09b8135c0\" class=\"mwe-math-fallback-image-inline\" aria-hidden=\"true\" style=\"vertical-align: -3.171ex; width:44.431ex; height:7.509ex;\" alt=\"{\\\\displaystyle F(x)=\\\\Phi \\\\left({\\\\frac {x-\\\\mu }{\\\\sigma }}\\\\right)={\\\\frac {1}{2}}\\\\left[1+\\\\operatorname {erf} \\\\left({\\\\frac {x-\\\\mu }{\\\\sigma {\\\\sqrt {2}}}}\\\\right)\\\\right]}\" /></span></dd>\\n</dl>\\n<p>The complement of the standard normal CDF, <span class=\"mwe-math-element\"><span class=\"mwe-math-mathml-inline mwe-math-mathml-a11y\" style=\"display: none;\"><math xmlns=\"http://www.w3.org/1998/Math/MathML\" >\\n  <semantics>\\n    <mrow class=\"MJX-TeXAtom-ORD\">\\n      <mstyle displaystyle=\"true\" scriptlevel=\"0\">\\n        <mi>Q</mi>\\n        <mo stretchy=\"false\">(</mo>\\n        <mi>x</mi>\\n        <mo stretchy=\"false\">)</mo>\\n        <mo>=</mo>\\n        <mn>1</mn>\\n        <mo>&#x2212;<!-- \\xe2\\x88\\x92 --></mo>\\n        <mi mathvariant=\"normal\">&#x03A6;<!-- \\xce\\xa6 --></mi>\\n        <mo stretchy=\"false\">(</mo>\\n        <mi>x</mi>\\n        <mo stretchy=\"false\">)</mo>\\n      </mstyle>\\n    </mrow>\\n    <annotation encoding=\"application/x-tex\">{\\\\displaystyle Q(x)=1-\\\\Phi (x)}</annotation>\\n  </semantics>\\n</math></span><img src=\"https://wikimedia.org/api/rest_v1/media/math/render/svg/8003a26bddf37fc2d651514d6f4662c0de39aff3\" class=\"mwe-math-fallback-image-inline\" aria-hidden=\"true\" style=\"vertical-align: -0.838ex; width:17.011ex; height:2.843ex;\" alt=\"Q(x)=1-\\\\Phi (x)\" /></span>, is often called the <a href=\"/wiki/Q-function\" title=\"Q-function\">Q-function</a>, especially in engineering texts.<sup id=\"cite_ref-17\" class=\"reference\"><a href=\"#cite_note-17\">[17]</a></sup><sup id=\"cite_ref-18\" class=\"reference\"><a href=\"#cite_note-18\">[18]</a></sup> It gives the probability that the value of a standard normal random variable <i>X</i> will exceed <i>x</i>. Other definitions of the <i>Q</i>-function, all of which are simple transformations of <span class=\"mwe-math-element\"><span class=\"mwe-math-mathml-inline mwe-math-mathml-a11y\" style=\"display: none;\"><math xmlns=\"http://www.w3.org/1998/Math/MathML\" >\\n  <semantics>\\n    <mrow class=\"MJX-TeXAtom-ORD\">\\n      <mstyle displaystyle=\"true\" scriptlevel=\"0\">\\n        <mi mathvariant=\"normal\">&#x03A6;<!-- \\xce\\xa6 --></mi>\\n      </mstyle>\\n    </mrow>\\n    <annotation encoding=\"application/x-tex\">{\\\\displaystyle \\\\Phi }</annotation>\\n  </semantics>\\n</math></span><img src=\"https://wikimedia.org/api/rest_v1/media/math/render/svg/aed80a2011a3912b028ba32a52dfa57165455f24\" class=\"mwe-math-fallback-image-inline\" aria-hidden=\"true\" style=\"vertical-align: -0.338ex; width:1.689ex; height:2.176ex;\" alt=\"\\\\Phi \" /></span>, are also used occasionally.<sup id=\"cite_ref-19\" class=\"reference\"><a href=\"#cite_note-19\">[19]</a></sup></p>\\n<p>The <a href=\"/wiki/Graph_of_a_function\" title=\"Graph of a function\">graph</a> of the standard normal CDF <span class=\"mwe-math-element\"><span class=\"mwe-math-mathml-inline mwe-math-mathml-a11y\" style=\"display: none;\"><math xmlns=\"http://www.w3.org/1998/Math/MathML\" >\\n  <semantics>\\n    <mrow class=\"MJX-TeXAtom-ORD\">\\n      <mstyle displaystyle=\"true\" scriptlevel=\"0\">\\n        <mi mathvariant=\"normal\">&#x03A6;<!-- \\xce\\xa6 --></mi>\\n      </mstyle>\\n    </mrow>\\n    <annotation encoding=\"application/x-tex\">{\\\\displaystyle \\\\Phi }</annotation>\\n  </semantics>\\n</math></span><img src=\"https://wikimedia.org/api/rest_v1/media/math/render/svg/aed80a2011a3912b028ba32a52dfa57165455f24\" class=\"mwe-math-fallback-image-inline\" aria-hidden=\"true\" style=\"vertical-align: -0.338ex; width:1.689ex; height:2.176ex;\" alt=\"\\\\Phi \" /></span> has 2-fold <a href=\"/wiki/Rotational_symmetry\" title=\"Rotational symmetry\">rotational symmetry</a> around the point (0,1/2); that is, <span class=\"mwe-math-element\"><span class=\"mwe-math-mathml-inline mwe-math-mathml-a11y\" style=\"display: none;\"><math xmlns=\"http://www.w3.org/1998/Math/MathML\" >\\n  <semantics>\\n    <mrow class=\"MJX-TeXAtom-ORD\">\\n      <mstyle displaystyle=\"true\" scriptlevel=\"0\">\\n        <mi mathvariant=\"normal\">&#x03A6;<!-- \\xce\\xa6 --></mi>\\n        <mo stretchy=\"false\">(</mo>\\n        <mo>&#x2212;<!-- \\xe2\\x88\\x92 --></mo>\\n        <mi>x</mi>\\n        <mo stretchy=\"false\">)</mo>\\n        <mo>=</mo>\\n        <mn>1</mn>\\n        <mo>&#x2212;<!-- \\xe2\\x88\\x92 --></mo>\\n        <mi mathvariant=\"normal\">&#x03A6;<!-- \\xce\\xa6 --></mi>\\n        <mo stretchy=\"false\">(</mo>\\n        <mi>x</mi>\\n        <mo stretchy=\"false\">)</mo>\\n      </mstyle>\\n    </mrow>\\n    <annotation encoding=\"application/x-tex\">{\\\\displaystyle \\\\Phi (-x)=1-\\\\Phi (x)}</annotation>\\n  </semantics>\\n</math></span><img src=\"https://wikimedia.org/api/rest_v1/media/math/render/svg/ac1a5e4fc7858485f2a5448635fd0a85b7fd53b0\" class=\"mwe-math-fallback-image-inline\" aria-hidden=\"true\" style=\"vertical-align: -0.838ex; width:18.669ex; height:2.843ex;\" alt=\"\\\\Phi (-x)=1-\\\\Phi (x)\" /></span>. Its <a href=\"/wiki/Antiderivative\" title=\"Antiderivative\">antiderivative</a> (indefinite integral) <span class=\"mwe-math-element\"><span class=\"mwe-math-mathml-inline mwe-math-mathml-a11y\" style=\"display: none;\"><math xmlns=\"http://www.w3.org/1998/Math/MathML\" >\\n  <semantics>\\n    <mrow class=\"MJX-TeXAtom-ORD\">\\n      <mstyle displaystyle=\"true\" scriptlevel=\"0\">\\n        <mo>&#x222B;<!-- \\xe2\\x88\\xab --></mo>\\n        <mi mathvariant=\"normal\">&#x03A6;<!-- \\xce\\xa6 --></mi>\\n        <mo stretchy=\"false\">(</mo>\\n        <mi>x</mi>\\n        <mo stretchy=\"false\">)</mo>\\n        <mspace width=\"thinmathspace\" />\\n        <mi>d</mi>\\n        <mi>x</mi>\\n      </mstyle>\\n    </mrow>\\n    <annotation encoding=\"application/x-tex\">{\\\\displaystyle \\\\int \\\\Phi (x)\\\\,dx}</annotation>\\n  </semantics>\\n</math></span><img src=\"https://wikimedia.org/api/rest_v1/media/math/render/svg/cf93375a713383944d29d890187d958e9fcc4995\" class=\"mwe-math-fallback-image-inline\" aria-hidden=\"true\" style=\"vertical-align: -2.338ex; width:10.404ex; height:5.843ex;\" alt=\"\\\\int \\\\Phi (x)\\\\,dx\" /></span> is <span class=\"mwe-math-element\"><span class=\"mwe-math-mathml-inline mwe-math-mathml-a11y\" style=\"display: none;\"><math xmlns=\"http://www.w3.org/1998/Math/MathML\" >\\n  <semantics>\\n    <mrow class=\"MJX-TeXAtom-ORD\">\\n      <mstyle displaystyle=\"true\" scriptlevel=\"0\">\\n        <mo>&#x222B;<!-- \\xe2\\x88\\xab --></mo>\\n        <mi mathvariant=\"normal\">&#x03A6;<!-- \\xce\\xa6 --></mi>\\n        <mo stretchy=\"false\">(</mo>\\n        <mi>x</mi>\\n        <mo stretchy=\"false\">)</mo>\\n        <mspace width=\"thinmathspace\" />\\n        <mi>d</mi>\\n        <mi>x</mi>\\n        <mo>=</mo>\\n        <mi>x</mi>\\n        <mi mathvariant=\"normal\">&#x03A6;<!-- \\xce\\xa6 --></mi>\\n        <mo stretchy=\"false\">(</mo>\\n        <mi>x</mi>\\n        <mo stretchy=\"false\">)</mo>\\n        <mo>+</mo>\\n        <mi>&#x03C6;<!-- \\xcf\\x86 --></mi>\\n        <mo stretchy=\"false\">(</mo>\\n        <mi>x</mi>\\n        <mo stretchy=\"false\">)</mo>\\n      </mstyle>\\n    </mrow>\\n    <annotation encoding=\"application/x-tex\">{\\\\displaystyle \\\\int \\\\Phi (x)\\\\,dx=x\\\\Phi (x)+\\\\varphi (x)}</annotation>\\n  </semantics>\\n</math></span><img src=\"https://wikimedia.org/api/rest_v1/media/math/render/svg/0e127db4c2f560d50b8e3376dbd3fd649109f5bd\" class=\"mwe-math-fallback-image-inline\" aria-hidden=\"true\" style=\"vertical-align: -2.338ex; width:27.263ex; height:5.843ex;\" alt=\"{\\\\displaystyle \\\\int \\\\Phi (x)\\\\,dx=x\\\\Phi (x)+\\\\varphi (x)}\" /></span>.</p>\\n<ul>\\n<li>The cumulative distribution function (CDF) of the standard normal distribution can be expanded by <a href=\"/wiki/Integration_by_parts\" title=\"Integration by parts\">Integration by parts</a> into a series:</li>\\n</ul>\\n<dl>\\n<dd>\\n<dl>\\n<dd><span class=\"mwe-math-element\"><span class=\"mwe-math-mathml-inline mwe-math-mathml-a11y\" style=\"display: none;\"><math xmlns=\"http://www.w3.org/1998/Math/MathML\" >\\n  <semantics>\\n    <mrow class=\"MJX-TeXAtom-ORD\">\\n      <mstyle displaystyle=\"true\" scriptlevel=\"0\">\\n        <mi mathvariant=\"normal\">&#x03A6;<!-- \\xce\\xa6 --></mi>\\n        <mo stretchy=\"false\">(</mo>\\n        <mi>x</mi>\\n        <mo stretchy=\"false\">)</mo>\\n        <mspace width=\"thickmathspace\" />\\n        <mo>=</mo>\\n        <mspace width=\"thickmathspace\" />\\n        <mn>0.5</mn>\\n        <mo>+</mo>\\n        <mrow class=\"MJX-TeXAtom-ORD\">\\n          <mfrac>\\n            <mn>1</mn>\\n            <msqrt>\\n              <mn>2</mn>\\n              <mi>&#x03C0;<!-- \\xcf\\x80 --></mi>\\n            </msqrt>\\n          </mfrac>\\n        </mrow>\\n        <mo>&#x22C5;<!-- \\xe2\\x8b\\x85 --></mo>\\n        <msup>\\n          <mi>e</mi>\\n          <mrow class=\"MJX-TeXAtom-ORD\">\\n            <mo>&#x2212;<!-- \\xe2\\x88\\x92 --></mo>\\n            <msup>\\n              <mi>x</mi>\\n              <mrow class=\"MJX-TeXAtom-ORD\">\\n                <mn>2</mn>\\n              </mrow>\\n            </msup>\\n            <mrow class=\"MJX-TeXAtom-ORD\">\\n              <mo>/</mo>\\n            </mrow>\\n            <mn>2</mn>\\n          </mrow>\\n        </msup>\\n        <mrow>\\n          <mo>[</mo>\\n          <mi>x</mi>\\n          <mo>+</mo>\\n          <mrow class=\"MJX-TeXAtom-ORD\">\\n            <mfrac>\\n              <msup>\\n                <mi>x</mi>\\n                <mrow class=\"MJX-TeXAtom-ORD\">\\n                  <mn>3</mn>\\n                </mrow>\\n              </msup>\\n              <mn>3</mn>\\n            </mfrac>\\n          </mrow>\\n          <mo>+</mo>\\n          <mrow class=\"MJX-TeXAtom-ORD\">\\n            <mfrac>\\n              <msup>\\n                <mi>x</mi>\\n                <mrow class=\"MJX-TeXAtom-ORD\">\\n                  <mn>5</mn>\\n                </mrow>\\n              </msup>\\n              <mrow>\\n                <mn>3</mn>\\n                <mo>&#x22C5;<!-- \\xe2\\x8b\\x85 --></mo>\\n                <mn>5</mn>\\n              </mrow>\\n            </mfrac>\\n          </mrow>\\n          <mo>+</mo>\\n          <mo>&#x22EF;<!-- \\xe2\\x8b\\xaf --></mo>\\n          <mo>+</mo>\\n          <mrow class=\"MJX-TeXAtom-ORD\">\\n            <mfrac>\\n              <msup>\\n                <mi>x</mi>\\n                <mrow class=\"MJX-TeXAtom-ORD\">\\n                  <mn>2</mn>\\n                  <mi>n</mi>\\n                  <mo>+</mo>\\n                  <mn>1</mn>\\n                </mrow>\\n              </msup>\\n              <mrow>\\n                <mo stretchy=\"false\">(</mo>\\n                <mn>2</mn>\\n                <mi>n</mi>\\n                <mo>+</mo>\\n                <mn>1</mn>\\n                <mo stretchy=\"false\">)</mo>\\n                <mo>!</mo>\\n                <mo>!</mo>\\n              </mrow>\\n            </mfrac>\\n          </mrow>\\n          <mo>+</mo>\\n          <mo>&#x22EF;<!-- \\xe2\\x8b\\xaf --></mo>\\n          <mo>]</mo>\\n        </mrow>\\n      </mstyle>\\n    </mrow>\\n    <annotation encoding=\"application/x-tex\">{\\\\displaystyle \\\\Phi (x)\\\\;=\\\\;0.5+{\\\\frac {1}{\\\\sqrt {2\\\\pi }}}\\\\cdot e^{-x^{2}/2}\\\\left[x+{\\\\frac {x^{3}}{3}}+{\\\\frac {x^{5}}{3\\\\cdot 5}}+\\\\cdots +{\\\\frac {x^{2n+1}}{(2n+1)!!}}+\\\\cdots \\\\right]}</annotation>\\n  </semantics>\\n</math></span><img src=\"https://wikimedia.org/api/rest_v1/media/math/render/svg/8bb9e6285593116d98bd1fb19a24a000980c084c\" class=\"mwe-math-fallback-image-inline\" aria-hidden=\"true\" style=\"vertical-align: -2.838ex; width:70.772ex; height:6.676ex;\" alt=\"\\\\Phi (x)\\\\;=\\\\;0.5+{\\\\frac {1}{\\\\sqrt {2\\\\pi }}}\\\\cdot e^{-x^{2}/2}\\\\left[x+{\\\\frac {x^{3}}{3}}+{\\\\frac {x^{5}}{3\\\\cdot 5}}+\\\\cdots +{\\\\frac {x^{2n+1}}{(2n+1)!!}}+\\\\cdots \\\\right]\" /></span></dd>\\n</dl>\\n</dd>\\n</dl>\\n<p>where <span class=\"mwe-math-element\"><span class=\"mwe-math-mathml-inline mwe-math-mathml-a11y\" style=\"display: none;\"><math xmlns=\"http://www.w3.org/1998/Math/MathML\" >\\n  <semantics>\\n    <mrow class=\"MJX-TeXAtom-ORD\">\\n      <mstyle displaystyle=\"true\" scriptlevel=\"0\">\\n        <mo>!</mo>\\n        <mo>!</mo>\\n      </mstyle>\\n    </mrow>\\n    <annotation encoding=\"application/x-tex\">{\\\\displaystyle !!}</annotation>\\n  </semantics>\\n</math></span><img src=\"https://wikimedia.org/api/rest_v1/media/math/render/svg/1a6e2480ece878ba9a96d09f1fe710c7117f82f8\" class=\"mwe-math-fallback-image-inline\" aria-hidden=\"true\" style=\"vertical-align: -0.338ex; width:1.315ex; height:2.343ex;\" alt=\"!!\" /></span> denotes the <a href=\"/wiki/Double_factorial\" title=\"Double factorial\">double factorial</a>. As an example, the following Pascal function approximates the CDF:</p>\\n<div class=\"mw-highlight mw-content-ltr\" dir=\"ltr\">\\n<pre>\\n<span class=\"k\">function</span> <span class=\"nf\">CDF</span><span class=\"p\">(</span><span class=\"n\">x</span><span class=\"o\">:</span><span class=\"kt\">extended</span><span class=\"p\">)</span><span class=\"o\">:</span><span class=\"kt\">extended</span><span class=\"o\">;</span>\\n<span class=\"k\">var</span> <span class=\"n\">value</span><span class=\"o\">,</span><span class=\"nb\">sum</span><span class=\"o\">:</span><span class=\"kt\">extended</span><span class=\"o\">;</span>\\n    <span class=\"n\">i</span><span class=\"o\">:</span><span class=\"kt\">integer</span><span class=\"o\">;</span>\\n<span class=\"k\">begin</span>\\n  <span class=\"nb\">sum</span><span class=\"o\">:=</span><span class=\"n\">x</span><span class=\"o\">;</span>\\n  <span class=\"n\">value</span><span class=\"o\">:=</span><span class=\"n\">x</span><span class=\"o\">;</span>\\n  <span class=\"k\">for</span> <span class=\"n\">i</span><span class=\"o\">:=</span><span class=\"mi\">1</span> <span class=\"k\">to</span> <span class=\"mi\">100</span> <span class=\"k\">do</span>\\n    <span class=\"k\">begin</span>\\n      <span class=\"n\">value</span><span class=\"o\">:=</span><span class=\"p\">(</span><span class=\"n\">value</span><span class=\"o\">*</span><span class=\"n\">x</span><span class=\"o\">*</span><span class=\"n\">x</span><span class=\"o\">/</span><span class=\"p\">(</span><span class=\"mi\">2</span><span class=\"o\">*</span><span class=\"n\">i</span><span class=\"o\">+</span><span class=\"mi\">1</span><span class=\"p\">))</span><span class=\"o\">;</span>\\n      <span class=\"nb\">sum</span><span class=\"o\">:=</span><span class=\"nb\">sum</span><span class=\"o\">+</span><span class=\"n\">value</span><span class=\"o\">;</span>\\n    <span class=\"k\">end</span><span class=\"o\">;</span>\\n  <span class=\"bp\">result</span><span class=\"o\">:=</span><span class=\"mf\">0.5</span><span class=\"o\">+</span><span class=\"p\">(</span><span class=\"nb\">sum</span><span class=\"o\">/</span><span class=\"nb\">sqrt</span><span class=\"p\">(</span><span class=\"mi\">2</span><span class=\"o\">*</span><span class=\"nb\">pi</span><span class=\"p\">))</span><span class=\"o\">*</span><span class=\"nb\">exp</span><span class=\"p\">(</span><span class=\"o\">-</span><span class=\"p\">(</span><span class=\"n\">x</span><span class=\"o\">*</span><span class=\"n\">x</span><span class=\"p\">)</span><span class=\"o\">/</span><span class=\"mi\">2</span><span class=\"p\">)</span><span class=\"o\">;</span>\\n<span class=\"k\">end</span><span class=\"o\">;</span>\\n</pre></div>\\n<h3><span class=\"mw-headline\" id=\"Standard_deviation_and_coverage\">Standard deviation and coverage</span><span class=\"mw-editsection\"><span class=\"mw-editsection-bracket\">[</span><a href=\"/w/index.php?title=Normal_distribution&amp;action=edit&amp;section=13\" title=\"Edit section: Standard deviation and coverage\">edit</a><span class=\"mw-editsection-bracket\">]</span></span></h3>\\n<div role=\"note\" class=\"hatnote\">Further information: <a href=\"/wiki/Interval_estimation\" title=\"Interval estimation\">Interval estimation</a> and <a href=\"/wiki/Coverage_probability\" title=\"Coverage probability\">Coverage probability</a></div>\\n<div class=\"thumb tright\">\\n<div class=\"thumbinner\" style=\"width:352px;\"><a href=\"/wiki/File:Empirical_Rule.PNG\" class=\"image\"><img alt=\"\" src=\"//upload.wikimedia.org/wikipedia/commons/thumb/a/a9/Empirical_Rule.PNG/350px-Empirical_Rule.PNG\" width=\"350\" height=\"254\" class=\"thumbimage\" srcset=\"//upload.wikimedia.org/wikipedia/commons/thumb/a/a9/Empirical_Rule.PNG/525px-Empirical_Rule.PNG 1.5x, //upload.wikimedia.org/wikipedia/commons/thumb/a/a9/Empirical_Rule.PNG/700px-Empirical_Rule.PNG 2x\" data-file-width=\"769\" data-file-height=\"558\" /></a>\\n<div class=\"thumbcaption\">\\n<div class=\"magnify\"><a href=\"/wiki/File:Empirical_Rule.PNG\" class=\"internal\" title=\"Enlarge\"></a></div>\\nFor the normal distribution, the values less than one standard deviation away from the mean account for 68.27% of the set; while two standard deviations from the mean account for 95.45%; and three standard deviations account for 99.73%.</div>\\n</div>\\n</div>\\n<p>About 68% of values drawn from a normal distribution are within one standard deviation <i>\\xcf\\x83</i> away from the mean; about 95% of the values lie within two standard deviations; and about 99.7% are within three standard deviations. This fact is known as the <a href=\"/wiki/68%E2%80%9395%E2%80%9399.7_rule\" title=\"68\\xe2\\x80\\x9395\\xe2\\x80\\x9399.7 rule\">68-95-99.7 (empirical) rule</a>, or the <i>3-sigma rule</i>.</p>\\n<p>More precisely, the probability that a normal deviate lies in the range <span class=\"nowrap\"><i>\\xce\\xbc</i> \\xe2\\x88\\x92 <i>n\\xcf\\x83</i></span> and <span class=\"nowrap\"><i>\\xce\\xbc</i> + <i>n\\xcf\\x83</i></span> is given by</p>\\n<dl>\\n<dd><span class=\"mwe-math-element\"><span class=\"mwe-math-mathml-inline mwe-math-mathml-a11y\" style=\"display: none;\"><math xmlns=\"http://www.w3.org/1998/Math/MathML\" >\\n  <semantics>\\n    <mrow class=\"MJX-TeXAtom-ORD\">\\n      <mstyle displaystyle=\"true\" scriptlevel=\"0\">\\n        <mi>F</mi>\\n        <mo stretchy=\"false\">(</mo>\\n        <mi>&#x03BC;<!-- \\xce\\xbc --></mi>\\n        <mo>+</mo>\\n        <mi>n</mi>\\n        <mi>&#x03C3;<!-- \\xcf\\x83 --></mi>\\n        <mo stretchy=\"false\">)</mo>\\n        <mo>&#x2212;<!-- \\xe2\\x88\\x92 --></mo>\\n        <mi>F</mi>\\n        <mo stretchy=\"false\">(</mo>\\n        <mi>&#x03BC;<!-- \\xce\\xbc --></mi>\\n        <mo>&#x2212;<!-- \\xe2\\x88\\x92 --></mo>\\n        <mi>n</mi>\\n        <mi>&#x03C3;<!-- \\xcf\\x83 --></mi>\\n        <mo stretchy=\"false\">)</mo>\\n        <mo>=</mo>\\n        <mi mathvariant=\"normal\">&#x03A6;<!-- \\xce\\xa6 --></mi>\\n        <mo stretchy=\"false\">(</mo>\\n        <mi>n</mi>\\n        <mo stretchy=\"false\">)</mo>\\n        <mo>&#x2212;<!-- \\xe2\\x88\\x92 --></mo>\\n        <mi mathvariant=\"normal\">&#x03A6;<!-- \\xce\\xa6 --></mi>\\n        <mo stretchy=\"false\">(</mo>\\n        <mo>&#x2212;<!-- \\xe2\\x88\\x92 --></mo>\\n        <mi>n</mi>\\n        <mo stretchy=\"false\">)</mo>\\n        <mo>=</mo>\\n        <mi>erf</mi>\\n        <mo>&#x2061;<!-- \\xe2\\x81\\xa1 --></mo>\\n        <mrow>\\n          <mo>(</mo>\\n          <mrow class=\"MJX-TeXAtom-ORD\">\\n            <mfrac>\\n              <mi>n</mi>\\n              <msqrt>\\n                <mn>2</mn>\\n              </msqrt>\\n            </mfrac>\\n          </mrow>\\n          <mo>)</mo>\\n        </mrow>\\n        <mo>,</mo>\\n      </mstyle>\\n    </mrow>\\n    <annotation encoding=\"application/x-tex\">{\\\\displaystyle F(\\\\mu +n\\\\sigma )-F(\\\\mu -n\\\\sigma )=\\\\Phi (n)-\\\\Phi (-n)=\\\\operatorname {erf} \\\\left({\\\\frac {n}{\\\\sqrt {2}}}\\\\right),}</annotation>\\n  </semantics>\\n</math></span><img src=\"https://wikimedia.org/api/rest_v1/media/math/render/svg/4367410f1f8d5d919cb1f0038483d1aaea827855\" class=\"mwe-math-fallback-image-inline\" aria-hidden=\"true\" style=\"vertical-align: -3.171ex; width:55.767ex; height:7.509ex;\" alt=\"{\\\\displaystyle F(\\\\mu +n\\\\sigma )-F(\\\\mu -n\\\\sigma )=\\\\Phi (n)-\\\\Phi (-n)=\\\\operatorname {erf} \\\\left({\\\\frac {n}{\\\\sqrt {2}}}\\\\right),}\" /></span></dd>\\n</dl>\\n<p>To 12 significant figures, the values for <i>n</i> = 1, 2, \\xe2\\x80\\xa6, 6 are:<sup id=\"cite_ref-20\" class=\"reference\"><a href=\"#cite_note-20\">[20]</a></sup></p>\\n<table class=\"wikitable\" style=\"text-align:center;margin-left:24pt\">\\n<tr>\\n<th><i>n</i></th>\\n<th><i>F</i>(<i>\\xce\\xbc</i>+<i>n\\xcf\\x83</i>) \\xe2\\x88\\x92 <i>F</i>(<i>\\xce\\xbc</i> \\xe2\\x88\\x92 <i>n\\xcf\\x83</i>)</th>\\n<th>i.e. 1 minus \\xe2\\x80\\xa6</th>\\n<th>or 1 in \\xe2\\x80\\xa6</th>\\n<th><a href=\"/wiki/OEIS\" class=\"mw-redirect\" title=\"OEIS\">OEIS</a></th>\\n</tr>\\n<tr>\\n<td>1</td>\\n<td><span class=\"nowrap\"><span style=\"display:none\" class=\"sortkey\">6999682689492137000\\xe2\\x99\\xa0</span>0.682<span style=\"margin-left:.25em;\">689</span><span style=\"margin-left:.25em;\">492</span><span style=\"margin-left:.25em;\">137</span></span></td>\\n<td><span class=\"nowrap\"><span style=\"display:none\" class=\"sortkey\">6999317310507863000\\xe2\\x99\\xa0</span>0.317<span style=\"margin-left:.25em;\">310</span><span style=\"margin-left:.25em;\">507</span><span style=\"margin-left:.25em;\">863</span></span></td>\\n<td>\\n<table cellpadding=\"0\" cellspacing=\"0\" style=\"width: 16em;\">\\n<tr>\\n<td style=\"text-align: right; width: 7em;\"><span class=\"nowrap\"><span style=\"display:none\" class=\"sortkey\">7000300000000000000\\xe2\\x99\\xa0</span>3</span></td>\\n<td style=\"text-align: left; width: 9em;\"><span style=\"white-space:nowrap\">.151<span style=\"margin-left:.25em\">487</span><span style=\"margin-left:.25em\">187</span><span style=\"margin-left:.25em\">53</span></span></td>\\n</tr>\\n</table>\\n</td>\\n<td><span class=\"nowrap\"><a href=\"/wiki/On-Line_Encyclopedia_of_Integer_Sequences\" title=\"OEIS\"><img alt=\"OEIS\" src=\"//upload.wikimedia.org/wikipedia/commons/thumb/d/d8/OEISicon_light.svg/11px-OEISicon_light.svg.png\" width=\"11\" height=\"15\" srcset=\"//upload.wikimedia.org/wikipedia/commons/thumb/d/d8/OEISicon_light.svg/17px-OEISicon_light.svg.png 1.5x, //upload.wikimedia.org/wikipedia/commons/thumb/d/d8/OEISicon_light.svg/22px-OEISicon_light.svg.png 2x\" data-file-width=\"409\" data-file-height=\"556\" /></a>\\xe2\\x80\\x8a<a href=\"//oeis.org/A178647\" class=\"extiw\" title=\"oeis:A178647\">A178647</a></span></td>\\n</tr>\\n<tr>\\n<td>2</td>\\n<td><span class=\"nowrap\"><span style=\"display:none\" class=\"sortkey\">6999954499736104000\\xe2\\x99\\xa0</span>0.954<span style=\"margin-left:.25em;\">499</span><span style=\"margin-left:.25em;\">736</span><span style=\"margin-left:.25em;\">104</span></span></td>\\n<td><span class=\"nowrap\"><span style=\"display:none\" class=\"sortkey\">6998455002638960000\\xe2\\x99\\xa0</span>0.045<span style=\"margin-left:.25em;\">500</span><span style=\"margin-left:.25em;\">263</span><span style=\"margin-left:.25em;\">896</span></span></td>\\n<td>\\n<table cellpadding=\"0\" cellspacing=\"0\" style=\"width: 16em;\">\\n<tr>\\n<td style=\"text-align: right; width: 7em;\"><span class=\"nowrap\"><span style=\"display:none\" class=\"sortkey\">7001210000000000000\\xe2\\x99\\xa0</span>21</span></td>\\n<td style=\"text-align: left; width: 9em;\"><span style=\"white-space:nowrap\">.977<span style=\"margin-left:.25em\">894</span><span style=\"margin-left:.25em\">5080</span></span></td>\\n</tr>\\n</table>\\n</td>\\n<td><span class=\"nowrap\"><a href=\"/wiki/On-Line_Encyclopedia_of_Integer_Sequences\" title=\"OEIS\"><img alt=\"OEIS\" src=\"//upload.wikimedia.org/wikipedia/commons/thumb/d/d8/OEISicon_light.svg/11px-OEISicon_light.svg.png\" width=\"11\" height=\"15\" srcset=\"//upload.wikimedia.org/wikipedia/commons/thumb/d/d8/OEISicon_light.svg/17px-OEISicon_light.svg.png 1.5x, //upload.wikimedia.org/wikipedia/commons/thumb/d/d8/OEISicon_light.svg/22px-OEISicon_light.svg.png 2x\" data-file-width=\"409\" data-file-height=\"556\" /></a>\\xe2\\x80\\x8a<a href=\"//oeis.org/A110894\" class=\"extiw\" title=\"oeis:A110894\">A110894</a></span></td>\\n</tr>\\n<tr>\\n<td>3</td>\\n<td><span class=\"nowrap\"><span style=\"display:none\" class=\"sortkey\">6999997300203937000\\xe2\\x99\\xa0</span>0.997<span style=\"margin-left:.25em;\">300</span><span style=\"margin-left:.25em;\">203</span><span style=\"margin-left:.25em;\">937</span></span></td>\\n<td><span class=\"nowrap\"><span style=\"display:none\" class=\"sortkey\">6997269979606300000\\xe2\\x99\\xa0</span>0.002<span style=\"margin-left:.25em;\">699</span><span style=\"margin-left:.25em;\">796</span><span style=\"margin-left:.25em;\">063</span></span></td>\\n<td>\\n<table cellpadding=\"0\" cellspacing=\"0\" style=\"width: 16em;\">\\n<tr>\\n<td style=\"text-align: right; width: 7em;\"><span class=\"nowrap\"><span style=\"display:none\" class=\"sortkey\">7002370000000000000\\xe2\\x99\\xa0</span>370</span></td>\\n<td style=\"text-align: left; width: 9em;\"><span style=\"white-space:nowrap\">.398<span style=\"margin-left:.25em\">347</span><span style=\"margin-left:.25em\">345</span></span></td>\\n</tr>\\n</table>\\n</td>\\n<td><span class=\"nowrap\"><a href=\"/wiki/On-Line_Encyclopedia_of_Integer_Sequences\" title=\"OEIS\"><img alt=\"OEIS\" src=\"//upload.wikimedia.org/wikipedia/commons/thumb/d/d8/OEISicon_light.svg/11px-OEISicon_light.svg.png\" width=\"11\" height=\"15\" srcset=\"//upload.wikimedia.org/wikipedia/commons/thumb/d/d8/OEISicon_light.svg/17px-OEISicon_light.svg.png 1.5x, //upload.wikimedia.org/wikipedia/commons/thumb/d/d8/OEISicon_light.svg/22px-OEISicon_light.svg.png 2x\" data-file-width=\"409\" data-file-height=\"556\" /></a>\\xe2\\x80\\x8a<a href=\"//oeis.org/A270712\" class=\"extiw\" title=\"oeis:A270712\">A270712</a></span></td>\\n</tr>\\n<tr>\\n<td>4</td>\\n<td><span class=\"nowrap\"><span style=\"display:none\" class=\"sortkey\">6999999936657516000\\xe2\\x99\\xa0</span>0.999<span style=\"margin-left:.25em;\">936</span><span style=\"margin-left:.25em;\">657</span><span style=\"margin-left:.25em;\">516</span></span></td>\\n<td><span class=\"nowrap\"><span style=\"display:none\" class=\"sortkey\">6995633424840000000\\xe2\\x99\\xa0</span>0.000<span style=\"margin-left:.25em;\">063</span><span style=\"margin-left:.25em;\">342</span><span style=\"margin-left:.25em;\">484</span></span></td>\\n<td>\\n<table cellpadding=\"0\" cellspacing=\"0\" style=\"width: 16em;\">\\n<tr>\\n<td style=\"text-align: right; width: 7em;\"><span class=\"nowrap\"><span style=\"display:none\" class=\"sortkey\">7004157870000000000\\xe2\\x99\\xa0</span>15<span style=\"margin-left:.25em;\">787</span></span></td>\\n<td style=\"text-align: left; width: 9em;\"><span style=\"white-space:nowrap\">.192<span style=\"margin-left:.25em\">7673</span></span></td>\\n</tr>\\n</table>\\n</td>\\n</tr>\\n<tr>\\n<td>5</td>\\n<td><span class=\"nowrap\"><span style=\"display:none\" class=\"sortkey\">6999999999426697000\\xe2\\x99\\xa0</span>0.999<span style=\"margin-left:.25em;\">999</span><span style=\"margin-left:.25em;\">426</span><span style=\"margin-left:.25em;\">697</span></span></td>\\n<td><span class=\"nowrap\"><span style=\"display:none\" class=\"sortkey\">6993573303000000000\\xe2\\x99\\xa0</span>0.000<span style=\"margin-left:.25em;\">000</span><span style=\"margin-left:.25em;\">573</span><span style=\"margin-left:.25em;\">303</span></span></td>\\n<td>\\n<table cellpadding=\"0\" cellspacing=\"0\" style=\"width: 16em;\">\\n<tr>\\n<td style=\"text-align: right; width: 7em;\"><span class=\"nowrap\"><span style=\"display:none\" class=\"sortkey\">7006174427700000000\\xe2\\x99\\xa0</span>1<span style=\"margin-left:.25em;\">744</span><span style=\"margin-left:.25em;\">277</span></span></td>\\n<td style=\"text-align: left; width: 9em;\"><span style=\"white-space:nowrap\">.893<span style=\"margin-left:.25em\">62</span></span></td>\\n</tr>\\n</table>\\n</td>\\n</tr>\\n<tr>\\n<td>6</td>\\n<td><span class=\"nowrap\"><span style=\"display:none\" class=\"sortkey\">6999999999998027000\\xe2\\x99\\xa0</span>0.999<span style=\"margin-left:.25em;\">999</span><span style=\"margin-left:.25em;\">998</span><span style=\"margin-left:.25em;\">027</span></span></td>\\n<td><span class=\"nowrap\"><span style=\"display:none\" class=\"sortkey\">6991197300000000000\\xe2\\x99\\xa0</span>0.000<span style=\"margin-left:.25em;\">000</span><span style=\"margin-left:.25em;\">001</span><span style=\"margin-left:.25em;\">973</span></span></td>\\n<td>\\n<table cellpadding=\"0\" cellspacing=\"0\" style=\"width: 16em;\">\\n<tr>\\n<td style=\"text-align: right; width: 7em;\"><span class=\"nowrap\"><span style=\"display:none\" class=\"sortkey\">7008506797345000000\\xe2\\x99\\xa0</span>506<span style=\"margin-left:.25em;\">797</span><span style=\"margin-left:.25em;\">345</span></span></td>\\n<td style=\"text-align: left; width: 9em;\"><span style=\"white-space:nowrap\">.897</span></td>\\n</tr>\\n</table>\\n</td>\\n</tr>\\n</table>\\n<h3><span class=\"mw-headline\" id=\"Quantile_function\">Quantile function</span><span class=\"mw-editsection\"><span class=\"mw-editsection-bracket\">[</span><a href=\"/w/index.php?title=Normal_distribution&amp;action=edit&amp;section=14\" title=\"Edit section: Quantile function\">edit</a><span class=\"mw-editsection-bracket\">]</span></span></h3>\\n<div role=\"note\" class=\"hatnote\">Further information: <a href=\"/wiki/Quantile_function#Normal_distribution\" title=\"Quantile function\">Quantile function \\xc2\\xa7&#160;Normal distribution</a></div>\\n<p>The <a href=\"/wiki/Quantile_function\" title=\"Quantile function\">quantile function</a> of a distribution is the inverse of the cumulative distribution function. The quantile function of the standard normal distribution is called the <a href=\"/wiki/Probit_function\" class=\"mw-redirect\" title=\"Probit function\">probit function</a>, and can be expressed in terms of the inverse <a href=\"/wiki/Error_function\" title=\"Error function\">error function</a>:</p>\\n<dl>\\n<dd><span class=\"mwe-math-element\"><span class=\"mwe-math-mathml-inline mwe-math-mathml-a11y\" style=\"display: none;\"><math xmlns=\"http://www.w3.org/1998/Math/MathML\" >\\n  <semantics>\\n    <mrow class=\"MJX-TeXAtom-ORD\">\\n      <mstyle displaystyle=\"true\" scriptlevel=\"0\">\\n        <msup>\\n          <mi mathvariant=\"normal\">&#x03A6;<!-- \\xce\\xa6 --></mi>\\n          <mrow class=\"MJX-TeXAtom-ORD\">\\n            <mo>&#x2212;<!-- \\xe2\\x88\\x92 --></mo>\\n            <mn>1</mn>\\n          </mrow>\\n        </msup>\\n        <mo stretchy=\"false\">(</mo>\\n        <mi>p</mi>\\n        <mo stretchy=\"false\">)</mo>\\n        <mspace width=\"thickmathspace\" />\\n        <mo>=</mo>\\n        <mspace width=\"thickmathspace\" />\\n        <mrow class=\"MJX-TeXAtom-ORD\">\\n          <msqrt>\\n            <mn>2</mn>\\n          </msqrt>\\n        </mrow>\\n        <mspace width=\"thickmathspace\" />\\n        <msup>\\n          <mi>erf</mi>\\n          <mrow class=\"MJX-TeXAtom-ORD\">\\n            <mo>&#x2212;<!-- \\xe2\\x88\\x92 --></mo>\\n            <mn>1</mn>\\n          </mrow>\\n        </msup>\\n        <mo>&#x2061;<!-- \\xe2\\x81\\xa1 --></mo>\\n        <mo stretchy=\"false\">(</mo>\\n        <mn>2</mn>\\n        <mi>p</mi>\\n        <mo>&#x2212;<!-- \\xe2\\x88\\x92 --></mo>\\n        <mn>1</mn>\\n        <mo stretchy=\"false\">)</mo>\\n        <mo>,</mo>\\n        <mspace width=\"1em\" />\\n        <mi>p</mi>\\n        <mo>&#x2208;<!-- \\xe2\\x88\\x88 --></mo>\\n        <mo stretchy=\"false\">(</mo>\\n        <mn>0</mn>\\n        <mo>,</mo>\\n        <mn>1</mn>\\n        <mo stretchy=\"false\">)</mo>\\n        <mo>.</mo>\\n      </mstyle>\\n    </mrow>\\n    <annotation encoding=\"application/x-tex\">{\\\\displaystyle \\\\Phi ^{-1}(p)\\\\;=\\\\;{\\\\sqrt {2}}\\\\;\\\\operatorname {erf} ^{-1}(2p-1),\\\\quad p\\\\in (0,1).}</annotation>\\n  </semantics>\\n</math></span><img src=\"https://wikimedia.org/api/rest_v1/media/math/render/svg/e20eea8ea8ada794051de9047b3e2b2a6b2cf11e\" class=\"mwe-math-fallback-image-inline\" aria-hidden=\"true\" style=\"vertical-align: -0.838ex; width:42.114ex; height:3.176ex;\" alt=\"\\\\Phi ^{-1}(p)\\\\;=\\\\;{\\\\sqrt {2}}\\\\;\\\\operatorname {erf} ^{-1}(2p-1),\\\\quad p\\\\in (0,1).\" /></span></dd>\\n</dl>\\n<p>For a normal random variable with mean <i>\\xce\\xbc</i> and variance <i>\\xcf\\x83</i><sup>2</sup>, the quantile function is</p>\\n<dl>\\n<dd><span class=\"mwe-math-element\"><span class=\"mwe-math-mathml-inline mwe-math-mathml-a11y\" style=\"display: none;\"><math xmlns=\"http://www.w3.org/1998/Math/MathML\" >\\n  <semantics>\\n    <mrow class=\"MJX-TeXAtom-ORD\">\\n      <mstyle displaystyle=\"true\" scriptlevel=\"0\">\\n        <msup>\\n          <mi>F</mi>\\n          <mrow class=\"MJX-TeXAtom-ORD\">\\n            <mo>&#x2212;<!-- \\xe2\\x88\\x92 --></mo>\\n            <mn>1</mn>\\n          </mrow>\\n        </msup>\\n        <mo stretchy=\"false\">(</mo>\\n        <mi>p</mi>\\n        <mo stretchy=\"false\">)</mo>\\n        <mo>=</mo>\\n        <mi>&#x03BC;<!-- \\xce\\xbc --></mi>\\n        <mo>+</mo>\\n        <mi>&#x03C3;<!-- \\xcf\\x83 --></mi>\\n        <msup>\\n          <mi mathvariant=\"normal\">&#x03A6;<!-- \\xce\\xa6 --></mi>\\n          <mrow class=\"MJX-TeXAtom-ORD\">\\n            <mo>&#x2212;<!-- \\xe2\\x88\\x92 --></mo>\\n            <mn>1</mn>\\n          </mrow>\\n        </msup>\\n        <mo stretchy=\"false\">(</mo>\\n        <mi>p</mi>\\n        <mo stretchy=\"false\">)</mo>\\n        <mo>=</mo>\\n        <mi>&#x03BC;<!-- \\xce\\xbc --></mi>\\n        <mo>+</mo>\\n        <mi>&#x03C3;<!-- \\xcf\\x83 --></mi>\\n        <mrow class=\"MJX-TeXAtom-ORD\">\\n          <msqrt>\\n            <mn>2</mn>\\n          </msqrt>\\n        </mrow>\\n        <mspace width=\"thinmathspace\" />\\n        <msup>\\n          <mi>erf</mi>\\n          <mrow class=\"MJX-TeXAtom-ORD\">\\n            <mo>&#x2212;<!-- \\xe2\\x88\\x92 --></mo>\\n            <mn>1</mn>\\n          </mrow>\\n        </msup>\\n        <mo>&#x2061;<!-- \\xe2\\x81\\xa1 --></mo>\\n        <mo stretchy=\"false\">(</mo>\\n        <mn>2</mn>\\n        <mi>p</mi>\\n        <mo>&#x2212;<!-- \\xe2\\x88\\x92 --></mo>\\n        <mn>1</mn>\\n        <mo stretchy=\"false\">)</mo>\\n        <mo>,</mo>\\n        <mspace width=\"1em\" />\\n        <mi>p</mi>\\n        <mo>&#x2208;<!-- \\xe2\\x88\\x88 --></mo>\\n        <mo stretchy=\"false\">(</mo>\\n        <mn>0</mn>\\n        <mo>,</mo>\\n        <mn>1</mn>\\n        <mo stretchy=\"false\">)</mo>\\n        <mo>.</mo>\\n      </mstyle>\\n    </mrow>\\n    <annotation encoding=\"application/x-tex\">{\\\\displaystyle F^{-1}(p)=\\\\mu +\\\\sigma \\\\Phi ^{-1}(p)=\\\\mu +\\\\sigma {\\\\sqrt {2}}\\\\,\\\\operatorname {erf} ^{-1}(2p-1),\\\\quad p\\\\in (0,1).}</annotation>\\n  </semantics>\\n</math></span><img src=\"https://wikimedia.org/api/rest_v1/media/math/render/svg/3e2d1841c3670b3f3563703051670819f880a43f\" class=\"mwe-math-fallback-image-inline\" aria-hidden=\"true\" style=\"vertical-align: -0.838ex; width:62.064ex; height:3.176ex;\" alt=\"F^{-1}(p)=\\\\mu +\\\\sigma \\\\Phi ^{-1}(p)=\\\\mu +\\\\sigma {\\\\sqrt {2}}\\\\,\\\\operatorname {erf} ^{-1}(2p-1),\\\\quad p\\\\in (0,1).\" /></span></dd>\\n</dl>\\n<p>The <a href=\"/wiki/Quantile\" title=\"Quantile\">quantile</a> <span class=\"mwe-math-element\"><span class=\"mwe-math-mathml-inline mwe-math-mathml-a11y\" style=\"display: none;\"><math xmlns=\"http://www.w3.org/1998/Math/MathML\" >\\n  <semantics>\\n    <mrow class=\"MJX-TeXAtom-ORD\">\\n      <mstyle displaystyle=\"true\" scriptlevel=\"0\">\\n        <msup>\\n          <mi mathvariant=\"normal\">&#x03A6;<!-- \\xce\\xa6 --></mi>\\n          <mrow class=\"MJX-TeXAtom-ORD\">\\n            <mo>&#x2212;<!-- \\xe2\\x88\\x92 --></mo>\\n            <mn>1</mn>\\n          </mrow>\\n        </msup>\\n        <mo stretchy=\"false\">(</mo>\\n        <mi>p</mi>\\n        <mo stretchy=\"false\">)</mo>\\n      </mstyle>\\n    </mrow>\\n    <annotation encoding=\"application/x-tex\">{\\\\displaystyle \\\\Phi ^{-1}(p)}</annotation>\\n  </semantics>\\n</math></span><img src=\"https://wikimedia.org/api/rest_v1/media/math/render/svg/7b7f80c7666db21c1f67f44d750e2f39e58efbff\" class=\"mwe-math-fallback-image-inline\" aria-hidden=\"true\" style=\"vertical-align: -0.838ex; width:7.046ex; height:3.176ex;\" alt=\"\\\\Phi ^{-1}(p)\" /></span> of the standard normal distribution is commonly denoted as <i>z<sub>p</sub></i>. These values are used in <a href=\"/wiki/Hypothesis_testing\" class=\"mw-redirect\" title=\"Hypothesis testing\">hypothesis testing</a>, construction of <a href=\"/wiki/Confidence_interval\" title=\"Confidence interval\">confidence intervals</a> and <a href=\"/wiki/Q-Q_plot\" class=\"mw-redirect\" title=\"Q-Q plot\">Q-Q plots</a>. A normal random variable <i>X</i> will exceed <i>\\xce\\xbc</i> + <i>\\xcf\\x83z<sub>p</sub></i> with probability 1 \\xe2\\x88\\x92 <i>p</i>; and will lie outside the interval <i>\\xce\\xbc</i> \\xc2\\xb1 <i>\\xcf\\x83z<sub>p</sub></i> with probability 2(1 \\xe2\\x88\\x92 <i>p</i>). In particular, the quantile <i>z</i><sub>0.975</sub> is <a href=\"/wiki/1.96\" title=\"1.96\">1.96</a>; therefore a normal random variable will lie outside the interval <i>\\xce\\xbc</i> \\xc2\\xb1 1.96<i>\\xcf\\x83</i> in only 5% of cases.</p>\\n<p>The following table gives the multiple <i>n</i> of <i>\\xcf\\x83</i> such that <i>X</i> will lie in the range <span class=\"nowrap\"><i>\\xce\\xbc</i> \\xc2\\xb1 <i>n\\xcf\\x83</i></span> with a specified probability <i>p</i>. These values are useful to determine <a href=\"/wiki/Tolerance_interval\" title=\"Tolerance interval\">tolerance interval</a> for <a href=\"/wiki/Sample_mean_and_sample_covariance#Sample_mean\" class=\"mw-redirect\" title=\"Sample mean and sample covariance\">sample averages</a> and other statistical <a href=\"/wiki/Estimator\" title=\"Estimator\">estimators</a> with normal (or <a href=\"/wiki/Asymptotic\" class=\"mw-redirect\" title=\"Asymptotic\">asymptotically</a> normal) distributions:<sup id=\"cite_ref-21\" class=\"reference\"><a href=\"#cite_note-21\">[21]</a></sup><sup id=\"cite_ref-22\" class=\"reference\"><a href=\"#cite_note-22\">[22]</a></sup></p>\\n<table class=\"wikitable\" style=\"text-align:left;margin-left:24pt;border:none;background:none;\">\\n<tr>\\n<th><i>F</i>(<i>\\xce\\xbc</i> + <i>n\\xcf\\x83</i>) \\xe2\\x88\\x92 <i>F</i>(<i>\\xce\\xbc</i> \\xe2\\x88\\x92 <i>n\\xcf\\x83</i>)</th>\\n<th><i>n</i></th>\\n<td rowspan=\"8\" style=\"border:none;background:none;\">&#160;</td>\\n<th><i>F</i>(<i>\\xce\\xbc</i> + <i>n\\xcf\\x83</i>) \\xe2\\x88\\x92 <i>F</i>(<i>\\xce\\xbc</i> \\xe2\\x88\\x92 <i>n\\xcf\\x83</i>)</th>\\n<th><i>n</i></th>\\n</tr>\\n<tr>\\n<td>0.80</td>\\n<td><span class=\"nowrap\"><span style=\"display:none\" class=\"sortkey\">7000128155156554500\\xe2\\x99\\xa0</span>1.281<span style=\"margin-left:.25em;\">551</span><span style=\"margin-left:.25em;\">565</span><span style=\"margin-left:.25em;\">545</span></span></td>\\n<td>0.999</td>\\n<td><span class=\"nowrap\"><span style=\"display:none\" class=\"sortkey\">7000329052673149200\\xe2\\x99\\xa0</span>3.290<span style=\"margin-left:.25em;\">526</span><span style=\"margin-left:.25em;\">731</span><span style=\"margin-left:.25em;\">492</span></span></td>\\n</tr>\\n<tr>\\n<td>0.90</td>\\n<td><span class=\"nowrap\"><span style=\"display:none\" class=\"sortkey\">7000164485362695100\\xe2\\x99\\xa0</span>1.644<span style=\"margin-left:.25em;\">853</span><span style=\"margin-left:.25em;\">626</span><span style=\"margin-left:.25em;\">951</span></span></td>\\n<td>0.9999</td>\\n<td><span class=\"nowrap\"><span style=\"display:none\" class=\"sortkey\">7000389059188641300\\xe2\\x99\\xa0</span>3.890<span style=\"margin-left:.25em;\">591</span><span style=\"margin-left:.25em;\">886</span><span style=\"margin-left:.25em;\">413</span></span></td>\\n</tr>\\n<tr>\\n<td>0.95</td>\\n<td><span class=\"nowrap\"><span style=\"display:none\" class=\"sortkey\">7000195996398454000\\xe2\\x99\\xa0</span>1.959<span style=\"margin-left:.25em;\">963</span><span style=\"margin-left:.25em;\">984</span><span style=\"margin-left:.25em;\">540</span></span></td>\\n<td>0.99999</td>\\n<td><span class=\"nowrap\"><span style=\"display:none\" class=\"sortkey\">7000441717341346900\\xe2\\x99\\xa0</span>4.417<span style=\"margin-left:.25em;\">173</span><span style=\"margin-left:.25em;\">413</span><span style=\"margin-left:.25em;\">469</span></span></td>\\n</tr>\\n<tr>\\n<td>0.98</td>\\n<td><span class=\"nowrap\"><span style=\"display:none\" class=\"sortkey\">7000232634787404100\\xe2\\x99\\xa0</span>2.326<span style=\"margin-left:.25em;\">347</span><span style=\"margin-left:.25em;\">874</span><span style=\"margin-left:.25em;\">041</span></span></td>\\n<td>0.999999</td>\\n<td><span class=\"nowrap\"><span style=\"display:none\" class=\"sortkey\">7000489163847569899\\xe2\\x99\\xa0</span>4.891<span style=\"margin-left:.25em;\">638</span><span style=\"margin-left:.25em;\">475</span><span style=\"margin-left:.25em;\">699</span></span></td>\\n</tr>\\n<tr>\\n<td>0.99</td>\\n<td><span class=\"nowrap\"><span style=\"display:none\" class=\"sortkey\">7000257582930354900\\xe2\\x99\\xa0</span>2.575<span style=\"margin-left:.25em;\">829</span><span style=\"margin-left:.25em;\">303</span><span style=\"margin-left:.25em;\">549</span></span></td>\\n<td>0.9999999</td>\\n<td><span class=\"nowrap\"><span style=\"display:none\" class=\"sortkey\">7000532672388638400\\xe2\\x99\\xa0</span>5.326<span style=\"margin-left:.25em;\">723</span><span style=\"margin-left:.25em;\">886</span><span style=\"margin-left:.25em;\">384</span></span></td>\\n</tr>\\n<tr>\\n<td>0.995</td>\\n<td><span class=\"nowrap\"><span style=\"display:none\" class=\"sortkey\">7000280703376834400\\xe2\\x99\\xa0</span>2.807<span style=\"margin-left:.25em;\">033</span><span style=\"margin-left:.25em;\">768</span><span style=\"margin-left:.25em;\">344</span></span></td>\\n<td>0.99999999</td>\\n<td><span class=\"nowrap\"><span style=\"display:none\" class=\"sortkey\">7000573072886823600\\xe2\\x99\\xa0</span>5.730<span style=\"margin-left:.25em;\">728</span><span style=\"margin-left:.25em;\">868</span><span style=\"margin-left:.25em;\">236</span></span></td>\\n</tr>\\n<tr>\\n<td>0.998</td>\\n<td><span class=\"nowrap\"><span style=\"display:none\" class=\"sortkey\">7000309023230616800\\xe2\\x99\\xa0</span>3.090<span style=\"margin-left:.25em;\">232</span><span style=\"margin-left:.25em;\">306</span><span style=\"margin-left:.25em;\">168</span></span></td>\\n<td>0.999999999</td>\\n<td><span class=\"nowrap\"><span style=\"display:none\" class=\"sortkey\">7000610941020486900\\xe2\\x99\\xa0</span>6.109<span style=\"margin-left:.25em;\">410</span><span style=\"margin-left:.25em;\">204</span><span style=\"margin-left:.25em;\">869</span></span></td>\\n</tr>\\n</table>\\n<h2><span class=\"mw-headline\" id=\"Zero-variance_limit\">Zero-variance limit</span><span class=\"mw-editsection\"><span class=\"mw-editsection-bracket\">[</span><a href=\"/w/index.php?title=Normal_distribution&amp;action=edit&amp;section=15\" title=\"Edit section: Zero-variance limit\">edit</a><span class=\"mw-editsection-bracket\">]</span></span></h2>\\n<p>In the <a href=\"/wiki/Limit_(mathematics)\" title=\"Limit (mathematics)\">limit</a> when <i>\\xcf\\x83</i> tends to zero, the probability density <i>f</i>(<i>x</i>) eventually tends to zero at any <span class=\"nowrap\"><i>x</i> \\xe2\\x89\\xa0 <i>\\xce\\xbc</i></span>, but grows without limit if <span class=\"nowrap\"><i>x</i> = <i>\\xce\\xbc</i></span>, while its integral remains equal to 1. Therefore, the normal distribution cannot be defined as an ordinary <a href=\"/wiki/Function_(mathematics)\" title=\"Function (mathematics)\">function</a> when <span class=\"nowrap\"><i>\\xcf\\x83</i> = 0</span>.</p>\\n<p>However, one can define the normal distribution with zero variance as a <a href=\"/wiki/Generalized_function\" title=\"Generalized function\">generalized function</a>; specifically, as <a href=\"/wiki/Dirac_delta_function\" title=\"Dirac delta function\">Dirac\\'s \"delta function\"</a> <i>\\xce\\xb4</i> translated by the mean <i>\\xce\\xbc</i>, that is <i>f</i>(<i>x</i>) = <i>\\xce\\xb4</i>(<i>x</i>\\xe2\\x88\\x92<i>\\xce\\xbc</i>). Its CDF is then the <a href=\"/wiki/Heaviside_step_function\" title=\"Heaviside step function\">Heaviside step function</a> translated by the mean <i>\\xce\\xbc</i>, namely</p>\\n<dl>\\n<dd><span class=\"mwe-math-element\"><span class=\"mwe-math-mathml-inline mwe-math-mathml-a11y\" style=\"display: none;\"><math xmlns=\"http://www.w3.org/1998/Math/MathML\" >\\n  <semantics>\\n    <mrow class=\"MJX-TeXAtom-ORD\">\\n      <mstyle displaystyle=\"true\" scriptlevel=\"0\">\\n        <mi>F</mi>\\n        <mo stretchy=\"false\">(</mo>\\n        <mi>x</mi>\\n        <mo stretchy=\"false\">)</mo>\\n        <mo>=</mo>\\n        <mrow class=\"MJX-TeXAtom-ORD\">\\n          <mrow>\\n            <mo>{</mo>\\n            <mtable columnalign=\"left left\" rowspacing=\".2em\" columnspacing=\"1em\" displaystyle=\"false\">\\n              <mtr>\\n                <mtd>\\n                  <mn>0</mn>\\n                </mtd>\\n                <mtd>\\n                  <mrow class=\"MJX-TeXAtom-ORD\">\\n                    <mtext>if&#xA0;</mtext>\\n                  </mrow>\\n                  <mi>x</mi>\\n                  <mo>&lt;</mo>\\n                  <mi>&#x03BC;<!-- \\xce\\xbc --></mi>\\n                </mtd>\\n              </mtr>\\n              <mtr>\\n                <mtd>\\n                  <mn>1</mn>\\n                </mtd>\\n                <mtd>\\n                  <mrow class=\"MJX-TeXAtom-ORD\">\\n                    <mtext>if&#xA0;</mtext>\\n                  </mrow>\\n                  <mi>x</mi>\\n                  <mo>&#x2265;<!-- \\xe2\\x89\\xa5 --></mo>\\n                  <mi>&#x03BC;<!-- \\xce\\xbc --></mi>\\n                </mtd>\\n              </mtr>\\n            </mtable>\\n            <mo fence=\"true\" stretchy=\"true\"></mo>\\n          </mrow>\\n        </mrow>\\n      </mstyle>\\n    </mrow>\\n    <annotation encoding=\"application/x-tex\">{\\\\displaystyle F(x)={\\\\begin{cases}0&amp;{\\\\text{if }}x&lt;\\\\mu \\\\\\\\1&amp;{\\\\text{if }}x\\\\geq \\\\mu \\\\end{cases}}}</annotation>\\n  </semantics>\\n</math></span><img src=\"https://wikimedia.org/api/rest_v1/media/math/render/svg/90400cbbc8895d9f3c9a62d7502ed0f077c6ee3b\" class=\"mwe-math-fallback-image-inline\" aria-hidden=\"true\" style=\"vertical-align: -2.505ex; width:21.852ex; height:6.176ex;\" alt=\"F(x)={\\\\begin{cases}0&amp;{\\\\text{if }}x&lt;\\\\mu \\\\\\\\1&amp;{\\\\text{if }}x\\\\geq \\\\mu \\\\end{cases}}\" /></span></dd>\\n</dl>\\n<h2><span class=\"mw-headline\" id=\"Central_limit_theorem\">Central limit theorem</span><span class=\"mw-editsection\"><span class=\"mw-editsection-bracket\">[</span><a href=\"/w/index.php?title=Normal_distribution&amp;action=edit&amp;section=16\" title=\"Edit section: Central limit theorem\">edit</a><span class=\"mw-editsection-bracket\">]</span></span></h2>\\n<div class=\"thumb tright\">\\n<div class=\"thumbinner\" style=\"width:252px;\"><a href=\"/wiki/File:De_moivre-laplace.gif\" class=\"image\"><img alt=\"\" src=\"//upload.wikimedia.org/wikipedia/commons/0/06/De_moivre-laplace.gif\" width=\"250\" height=\"155\" class=\"thumbimage\" data-file-width=\"250\" data-file-height=\"155\" /></a>\\n<div class=\"thumbcaption\">\\n<div class=\"magnify\"><a href=\"/wiki/File:De_moivre-laplace.gif\" class=\"internal\" title=\"Enlarge\"></a></div>\\nAs the number of discrete events increases, the function begins to resemble a normal distribution</div>\\n</div>\\n</div>\\n<div class=\"thumb tright\">\\n<div class=\"thumbinner\" style=\"width:252px;\"><a href=\"/wiki/File:Dice_sum_central_limit_theorem.svg\" class=\"image\"><img alt=\"\" src=\"//upload.wikimedia.org/wikipedia/commons/thumb/8/8c/Dice_sum_central_limit_theorem.svg/250px-Dice_sum_central_limit_theorem.svg.png\" width=\"250\" height=\"300\" class=\"thumbimage\" srcset=\"//upload.wikimedia.org/wikipedia/commons/thumb/8/8c/Dice_sum_central_limit_theorem.svg/375px-Dice_sum_central_limit_theorem.svg.png 1.5x, //upload.wikimedia.org/wikipedia/commons/thumb/8/8c/Dice_sum_central_limit_theorem.svg/500px-Dice_sum_central_limit_theorem.svg.png 2x\" data-file-width=\"512\" data-file-height=\"614\" /></a>\\n<div class=\"thumbcaption\">\\n<div class=\"magnify\"><a href=\"/wiki/File:Dice_sum_central_limit_theorem.svg\" class=\"internal\" title=\"Enlarge\"></a></div>\\nComparison of probability density functions, <i>p</i>(<i>k</i>) for the sum of <i>n</i> fair 6-sided dice to show their convergence to a normal distribution with increasing <i>n</i>, in accordance to the central limit theorem. In the bottom-right graph, smoothed profiles of the previous graphs are rescaled, superimposed and compared with a normal distribution (black curve).</div>\\n</div>\\n</div>\\n<div role=\"note\" class=\"hatnote\">Main article: <a href=\"/wiki/Central_limit_theorem\" title=\"Central limit theorem\">Central limit theorem</a></div>\\n<p>The central limit theorem states that under certain (fairly common) conditions, the sum of many random variables will have an approximately normal distribution. More specifically, where <i>X</i><sub>1</sub>, \\xe2\\x80\\xa6, <i>X<sub>n</sub></i> are <a href=\"/wiki/Independent_and_identically_distributed\" class=\"mw-redirect\" title=\"Independent and identically distributed\">independent and identically distributed</a> random variables with the same arbitrary distribution, zero mean, and variance <i>\\xcf\\x83</i><sup>2</sup>; and <i>Z</i> is their mean scaled by <span class=\"mwe-math-element\"><span class=\"mwe-math-mathml-inline mwe-math-mathml-a11y\" style=\"display: none;\"><math xmlns=\"http://www.w3.org/1998/Math/MathML\" >\\n  <semantics>\\n    <mrow class=\"MJX-TeXAtom-ORD\">\\n      <mstyle displaystyle=\"true\" scriptlevel=\"0\">\\n        <mrow class=\"MJX-TeXAtom-ORD\">\\n          <msqrt>\\n            <mi>n</mi>\\n          </msqrt>\\n        </mrow>\\n      </mstyle>\\n    </mrow>\\n    <annotation encoding=\"application/x-tex\">{\\\\displaystyle {\\\\sqrt {n}}}</annotation>\\n  </semantics>\\n</math></span><img src=\"https://wikimedia.org/api/rest_v1/media/math/render/svg/2a2994734eae382ce30100fb17b9447fd8e99f81\" class=\"mwe-math-fallback-image-inline\" aria-hidden=\"true\" style=\"vertical-align: -1.005ex; width:3.351ex; height:3.009ex;\" alt=\"{\\\\sqrt {n}}\" /></span></p>\\n<dl>\\n<dd><span class=\"mwe-math-element\"><span class=\"mwe-math-mathml-inline mwe-math-mathml-a11y\" style=\"display: none;\"><math xmlns=\"http://www.w3.org/1998/Math/MathML\" >\\n  <semantics>\\n    <mrow class=\"MJX-TeXAtom-ORD\">\\n      <mstyle displaystyle=\"true\" scriptlevel=\"0\">\\n        <mi>Z</mi>\\n        <mo>=</mo>\\n        <mrow class=\"MJX-TeXAtom-ORD\">\\n          <msqrt>\\n            <mi>n</mi>\\n          </msqrt>\\n        </mrow>\\n        <mrow>\\n          <mo>(</mo>\\n          <mrow class=\"MJX-TeXAtom-ORD\">\\n            <mfrac>\\n              <mn>1</mn>\\n              <mi>n</mi>\\n            </mfrac>\\n          </mrow>\\n          <munderover>\\n            <mo>&#x2211;<!-- \\xe2\\x88\\x91 --></mo>\\n            <mrow class=\"MJX-TeXAtom-ORD\">\\n              <mi>i</mi>\\n              <mo>=</mo>\\n              <mn>1</mn>\\n            </mrow>\\n            <mrow class=\"MJX-TeXAtom-ORD\">\\n              <mi>n</mi>\\n            </mrow>\\n          </munderover>\\n          <msub>\\n            <mi>X</mi>\\n            <mrow class=\"MJX-TeXAtom-ORD\">\\n              <mi>i</mi>\\n            </mrow>\\n          </msub>\\n          <mo>)</mo>\\n        </mrow>\\n      </mstyle>\\n    </mrow>\\n    <annotation encoding=\"application/x-tex\">{\\\\displaystyle Z={\\\\sqrt {n}}\\\\left({\\\\frac {1}{n}}\\\\sum _{i=1}^{n}X_{i}\\\\right)}</annotation>\\n  </semantics>\\n</math></span><img src=\"https://wikimedia.org/api/rest_v1/media/math/render/svg/829b9ed598d6709ac090714bffab0cc7625507a8\" class=\"mwe-math-fallback-image-inline\" aria-hidden=\"true\" style=\"vertical-align: -3.171ex; width:21.363ex; height:7.509ex;\" alt=\"Z={\\\\sqrt {n}}\\\\left({\\\\frac {1}{n}}\\\\sum _{i=1}^{n}X_{i}\\\\right)\" /></span></dd>\\n</dl>\\n<p>Then, as <i>n</i> increases, the probability distribution of <i>Z</i> will tend to the normal distribution with zero mean and variance <i>\\xcf\\x83</i><sup>2</sup>.</p>\\n<p>The theorem can be extended to variables <i>X<sub>i</sub></i> that are not independent and/or not identically distributed if certain constraints are placed on the degree of dependence and the moments of the distributions.</p>\\n<p>Many <a href=\"/wiki/Test_statistic\" title=\"Test statistic\">test statistics</a>, <a href=\"/wiki/Score_(statistics)\" title=\"Score (statistics)\">scores</a>, and <a href=\"/wiki/Estimator\" title=\"Estimator\">estimators</a> encountered in practice contain sums of certain random variables in them, and even more estimators can be represented as sums of random variables through the use of <a href=\"/wiki/Influence_function_(statistics)\" class=\"mw-redirect\" title=\"Influence function (statistics)\">influence functions</a>. The central limit theorem implies that those statistical parameters will have asymptotically normal distributions.</p>\\n<p>The central limit theorem also implies that certain distributions can be approximated by the normal distribution, for example:</p>\\n<ul>\\n<li>The <a href=\"/wiki/Binomial_distribution\" title=\"Binomial distribution\">binomial distribution</a> <i>B</i>(<i>n</i>, <i>p</i>) is <a href=\"/wiki/De_Moivre%E2%80%93Laplace_theorem\" title=\"De Moivre\\xe2\\x80\\x93Laplace theorem\">approximately normal</a> with mean <i>np</i> and variance <i>np</i>(1&#160;\\xe2\\x88\\x92&#160;<i>p</i>) for large <i>n</i> and for <i>p</i> not too close to zero or one.</li>\\n<li>The <a href=\"/wiki/Poisson_distribution\" title=\"Poisson distribution\">Poisson distribution</a> with parameter <i>\\xce\\xbb</i> is approximately normal with mean <i>\\xce\\xbb</i> and variance <i>\\xce\\xbb</i>, for large values of <i>\\xce\\xbb</i>.<sup id=\"cite_ref-23\" class=\"reference\"><a href=\"#cite_note-23\">[23]</a></sup></li>\\n<li>The <a href=\"/wiki/Chi-squared_distribution\" title=\"Chi-squared distribution\">chi-squared distribution</a> <i>\\xcf\\x87</i><sup>2</sup>(<i>k</i>) is approximately normal with mean <i>k</i> and variance 2<i>k</i>, for large <i>k</i>.</li>\\n<li>The <a href=\"/wiki/Student%27s_t-distribution\" title=\"Student\\'s t-distribution\">Student\\'s t-distribution</a> <i>t</i>(<i>\\xce\\xbd</i>) is approximately normal with mean 0 and variance 1 when <i>\\xce\\xbd</i> is large.</li>\\n</ul>\\n<p>Whether these approximations are sufficiently accurate depends on the purpose for which they are needed, and the rate of convergence to the normal distribution. It is typically the case that such approximations are less accurate in the tails of the distribution.</p>\\n<p>A general upper bound for the approximation error in the central limit theorem is given by the <a href=\"/wiki/Berry%E2%80%93Esseen_theorem\" title=\"Berry\\xe2\\x80\\x93Esseen theorem\">Berry\\xe2\\x80\\x93Esseen theorem</a>, improvements of the approximation are given by the <a href=\"/wiki/Edgeworth_expansion\" class=\"mw-redirect\" title=\"Edgeworth expansion\">Edgeworth expansions</a>.</p>\\n<h2><span class=\"mw-headline\" id=\"Maximum_entropy\">Maximum entropy</span><span class=\"mw-editsection\"><span class=\"mw-editsection-bracket\">[</span><a href=\"/w/index.php?title=Normal_distribution&amp;action=edit&amp;section=17\" title=\"Edit section: Maximum entropy\">edit</a><span class=\"mw-editsection-bracket\">]</span></span></h2>\\n<p>Of all probability distributions over the reals with a specified mean&#160;<i>\\xce\\xbc</i> and variance&#160;<i>\\xcf\\x83</i><sup>2</sup>, the normal distribution <span class=\"nowrap\"><i>N</i>(<i>\\xce\\xbc</i>, <i>\\xcf\\x83</i><sup>2</sup>)</span> is the one with <a href=\"/wiki/Maximum_entropy_probability_distribution\" title=\"Maximum entropy probability distribution\">maximum entropy</a>.<sup id=\"cite_ref-24\" class=\"reference\"><a href=\"#cite_note-24\">[24]</a></sup> If <i>X</i> is a <a href=\"/wiki/Continuous_random_variable\" class=\"mw-redirect\" title=\"Continuous random variable\">continuous random variable</a> with <a href=\"/wiki/Probability_density_function\" title=\"Probability density function\">probability density</a> <i>f</i>(<i>x</i>), then the entropy of <i>X</i> is defined as<sup id=\"cite_ref-25\" class=\"reference\"><a href=\"#cite_note-25\">[25]</a></sup><sup id=\"cite_ref-26\" class=\"reference\"><a href=\"#cite_note-26\">[26]</a></sup><sup id=\"cite_ref-27\" class=\"reference\"><a href=\"#cite_note-27\">[27]</a></sup></p>\\n<dl>\\n<dd><span class=\"mwe-math-element\"><span class=\"mwe-math-mathml-inline mwe-math-mathml-a11y\" style=\"display: none;\"><math xmlns=\"http://www.w3.org/1998/Math/MathML\" >\\n  <semantics>\\n    <mrow class=\"MJX-TeXAtom-ORD\">\\n      <mstyle displaystyle=\"true\" scriptlevel=\"0\">\\n        <mi>H</mi>\\n        <mo stretchy=\"false\">(</mo>\\n        <mi>X</mi>\\n        <mo stretchy=\"false\">)</mo>\\n        <mo>=</mo>\\n        <mo>&#x2212;<!-- \\xe2\\x88\\x92 --></mo>\\n        <msubsup>\\n          <mo>&#x222B;<!-- \\xe2\\x88\\xab --></mo>\\n          <mrow class=\"MJX-TeXAtom-ORD\">\\n            <mo>&#x2212;<!-- \\xe2\\x88\\x92 --></mo>\\n            <mi mathvariant=\"normal\">&#x221E;<!-- \\xe2\\x88\\x9e --></mi>\\n          </mrow>\\n          <mrow class=\"MJX-TeXAtom-ORD\">\\n            <mi mathvariant=\"normal\">&#x221E;<!-- \\xe2\\x88\\x9e --></mi>\\n          </mrow>\\n        </msubsup>\\n        <mi>f</mi>\\n        <mo stretchy=\"false\">(</mo>\\n        <mi>x</mi>\\n        <mo stretchy=\"false\">)</mo>\\n        <mi>log</mi>\\n        <mo>&#x2061;<!-- \\xe2\\x81\\xa1 --></mo>\\n        <mi>f</mi>\\n        <mo stretchy=\"false\">(</mo>\\n        <mi>x</mi>\\n        <mo stretchy=\"false\">)</mo>\\n        <mi>d</mi>\\n        <mi>x</mi>\\n        <mo>=</mo>\\n        <mrow class=\"MJX-TeXAtom-ORD\">\\n          <mstyle displaystyle=\"false\" scriptlevel=\"0\">\\n            <mfrac>\\n              <mn>1</mn>\\n              <mn>2</mn>\\n            </mfrac>\\n          </mstyle>\\n        </mrow>\\n        <mo stretchy=\"false\">(</mo>\\n        <mn>1</mn>\\n        <mo>+</mo>\\n        <mi>log</mi>\\n        <mo>&#x2061;<!-- \\xe2\\x81\\xa1 --></mo>\\n        <mo stretchy=\"false\">(</mo>\\n        <mn>2</mn>\\n        <msup>\\n          <mi>&#x03C3;<!-- \\xcf\\x83 --></mi>\\n          <mrow class=\"MJX-TeXAtom-ORD\">\\n            <mn>2</mn>\\n          </mrow>\\n        </msup>\\n        <mi>&#x03C0;<!-- \\xcf\\x80 --></mi>\\n        <mo stretchy=\"false\">)</mo>\\n        <mo stretchy=\"false\">)</mo>\\n      </mstyle>\\n    </mrow>\\n    <annotation encoding=\"application/x-tex\">{\\\\displaystyle H(X)=-\\\\int _{-\\\\infty }^{\\\\infty }f(x)\\\\log f(x)dx={\\\\tfrac {1}{2}}(1+\\\\log(2\\\\sigma ^{2}\\\\pi ))}</annotation>\\n  </semantics>\\n</math></span><img src=\"https://wikimedia.org/api/rest_v1/media/math/render/svg/6ced6a5a476be4534500f499afcaddc47eee99dc\" class=\"mwe-math-fallback-image-inline\" aria-hidden=\"true\" style=\"vertical-align: -2.338ex; width:51.71ex; height:5.843ex;\" alt=\"{\\\\displaystyle H(X)=-\\\\int _{-\\\\infty }^{\\\\infty }f(x)\\\\log f(x)dx={\\\\tfrac {1}{2}}(1+\\\\log(2\\\\sigma ^{2}\\\\pi ))}\" /></span></dd>\\n</dl>\\n<p>where <i>f</i>(<i>x</i>) log <i>f</i>(<i>x</i>) is understood to be zero whenever <i>f</i>(<i>x</i>) = 0. This functional can be maximized, subject to the constraints that the distribution is properly normalized and has a specified variance, by using <a href=\"/wiki/Variational_calculus\" class=\"mw-redirect\" title=\"Variational calculus\">variational calculus</a>. A function with two <a href=\"/wiki/Lagrange_multipliers\" class=\"mw-redirect\" title=\"Lagrange multipliers\">Lagrange multipliers</a> is defined:</p>\\n<dl>\\n<dd><span class=\"mwe-math-element\"><span class=\"mwe-math-mathml-inline mwe-math-mathml-a11y\" style=\"display: none;\"><math xmlns=\"http://www.w3.org/1998/Math/MathML\" >\\n  <semantics>\\n    <mrow class=\"MJX-TeXAtom-ORD\">\\n      <mstyle displaystyle=\"true\" scriptlevel=\"0\">\\n        <mi>L</mi>\\n        <mo>=</mo>\\n        <msubsup>\\n          <mo>&#x222B;<!-- \\xe2\\x88\\xab --></mo>\\n          <mrow class=\"MJX-TeXAtom-ORD\">\\n            <mo>&#x2212;<!-- \\xe2\\x88\\x92 --></mo>\\n            <mi mathvariant=\"normal\">&#x221E;<!-- \\xe2\\x88\\x9e --></mi>\\n          </mrow>\\n          <mrow class=\"MJX-TeXAtom-ORD\">\\n            <mi mathvariant=\"normal\">&#x221E;<!-- \\xe2\\x88\\x9e --></mi>\\n          </mrow>\\n        </msubsup>\\n        <mi>f</mi>\\n        <mo stretchy=\"false\">(</mo>\\n        <mi>x</mi>\\n        <mo stretchy=\"false\">)</mo>\\n        <mi>ln</mi>\\n        <mo>&#x2061;<!-- \\xe2\\x81\\xa1 --></mo>\\n        <mo stretchy=\"false\">(</mo>\\n        <mi>f</mi>\\n        <mo stretchy=\"false\">(</mo>\\n        <mi>x</mi>\\n        <mo stretchy=\"false\">)</mo>\\n        <mo stretchy=\"false\">)</mo>\\n        <mspace width=\"thinmathspace\" />\\n        <mi>d</mi>\\n        <mi>x</mi>\\n        <mo>&#x2212;<!-- \\xe2\\x88\\x92 --></mo>\\n        <msub>\\n          <mi>&#x03BB;<!-- \\xce\\xbb --></mi>\\n          <mrow class=\"MJX-TeXAtom-ORD\">\\n            <mn>0</mn>\\n          </mrow>\\n        </msub>\\n        <mrow>\\n          <mo>(</mo>\\n          <mn>1</mn>\\n          <mo>&#x2212;<!-- \\xe2\\x88\\x92 --></mo>\\n          <msubsup>\\n            <mo>&#x222B;<!-- \\xe2\\x88\\xab --></mo>\\n            <mrow class=\"MJX-TeXAtom-ORD\">\\n              <mo>&#x2212;<!-- \\xe2\\x88\\x92 --></mo>\\n              <mi mathvariant=\"normal\">&#x221E;<!-- \\xe2\\x88\\x9e --></mi>\\n            </mrow>\\n            <mrow class=\"MJX-TeXAtom-ORD\">\\n              <mi mathvariant=\"normal\">&#x221E;<!-- \\xe2\\x88\\x9e --></mi>\\n            </mrow>\\n          </msubsup>\\n          <mi>f</mi>\\n          <mo stretchy=\"false\">(</mo>\\n          <mi>x</mi>\\n          <mo stretchy=\"false\">)</mo>\\n          <mspace width=\"thinmathspace\" />\\n          <mi>d</mi>\\n          <mi>x</mi>\\n          <mo>)</mo>\\n        </mrow>\\n        <mo>&#x2212;<!-- \\xe2\\x88\\x92 --></mo>\\n        <mi>&#x03BB;<!-- \\xce\\xbb --></mi>\\n        <mrow>\\n          <mo>(</mo>\\n          <msup>\\n            <mi>&#x03C3;<!-- \\xcf\\x83 --></mi>\\n            <mrow class=\"MJX-TeXAtom-ORD\">\\n              <mn>2</mn>\\n            </mrow>\\n          </msup>\\n          <mo>&#x2212;<!-- \\xe2\\x88\\x92 --></mo>\\n          <msubsup>\\n            <mo>&#x222B;<!-- \\xe2\\x88\\xab --></mo>\\n            <mrow class=\"MJX-TeXAtom-ORD\">\\n              <mo>&#x2212;<!-- \\xe2\\x88\\x92 --></mo>\\n              <mi mathvariant=\"normal\">&#x221E;<!-- \\xe2\\x88\\x9e --></mi>\\n            </mrow>\\n            <mrow class=\"MJX-TeXAtom-ORD\">\\n              <mi mathvariant=\"normal\">&#x221E;<!-- \\xe2\\x88\\x9e --></mi>\\n            </mrow>\\n          </msubsup>\\n          <mi>f</mi>\\n          <mo stretchy=\"false\">(</mo>\\n          <mi>x</mi>\\n          <mo stretchy=\"false\">)</mo>\\n          <mo stretchy=\"false\">(</mo>\\n          <mi>x</mi>\\n          <mo>&#x2212;<!-- \\xe2\\x88\\x92 --></mo>\\n          <mi>&#x03BC;<!-- \\xce\\xbc --></mi>\\n          <msup>\\n            <mo stretchy=\"false\">)</mo>\\n            <mrow class=\"MJX-TeXAtom-ORD\">\\n              <mn>2</mn>\\n            </mrow>\\n          </msup>\\n          <mspace width=\"thinmathspace\" />\\n          <mi>d</mi>\\n          <mi>x</mi>\\n          <mo>)</mo>\\n        </mrow>\\n      </mstyle>\\n    </mrow>\\n    <annotation encoding=\"application/x-tex\">{\\\\displaystyle L=\\\\int _{-\\\\infty }^{\\\\infty }f(x)\\\\ln(f(x))\\\\,dx-\\\\lambda _{0}\\\\left(1-\\\\int _{-\\\\infty }^{\\\\infty }f(x)\\\\,dx\\\\right)-\\\\lambda \\\\left(\\\\sigma ^{2}-\\\\int _{-\\\\infty }^{\\\\infty }f(x)(x-\\\\mu )^{2}\\\\,dx\\\\right)}</annotation>\\n  </semantics>\\n</math></span><img src=\"https://wikimedia.org/api/rest_v1/media/math/render/svg/9ef28a7c925af29f96bde5fbb2dd80801257b5d2\" class=\"mwe-math-fallback-image-inline\" aria-hidden=\"true\" style=\"vertical-align: -2.505ex; width:85.079ex; height:6.176ex;\" alt=\"L=\\\\int _{-\\\\infty }^{\\\\infty }f(x)\\\\ln(f(x))\\\\,dx-\\\\lambda _{0}\\\\left(1-\\\\int _{-\\\\infty }^{\\\\infty }f(x)\\\\,dx\\\\right)-\\\\lambda \\\\left(\\\\sigma ^{2}-\\\\int _{-\\\\infty }^{\\\\infty }f(x)(x-\\\\mu )^{2}\\\\,dx\\\\right)\" /></span></dd>\\n</dl>\\n<p>where <i>f(x)</i> is, for now, regarded as some function with mean \\xce\\xbc and standard deviation <span class=\"mwe-math-element\"><span class=\"mwe-math-mathml-inline mwe-math-mathml-a11y\" style=\"display: none;\"><math xmlns=\"http://www.w3.org/1998/Math/MathML\" >\\n  <semantics>\\n    <mrow class=\"MJX-TeXAtom-ORD\">\\n      <mstyle displaystyle=\"true\" scriptlevel=\"0\">\\n        <mi>&#x03C3;<!-- \\xcf\\x83 --></mi>\\n      </mstyle>\\n    </mrow>\\n    <annotation encoding=\"application/x-tex\">{\\\\displaystyle \\\\sigma }</annotation>\\n  </semantics>\\n</math></span><img src=\"https://wikimedia.org/api/rest_v1/media/math/render/svg/59f59b7c3e6fdb1d0365a494b81fb9a696138c36\" class=\"mwe-math-fallback-image-inline\" aria-hidden=\"true\" style=\"vertical-align: -0.338ex; width:1.34ex; height:1.676ex;\" alt=\"\\\\sigma \" /></span>. At maximum entropy, a small variation \\xce\\xb4<i>f</i>(<i>x</i>) about <i>f(x)</i> will produce a variation \\xce\\xb4<i>L</i> about <i>L</i> which is equal to zero:</p>\\n<dl>\\n<dd><span class=\"mwe-math-element\"><span class=\"mwe-math-mathml-inline mwe-math-mathml-a11y\" style=\"display: none;\"><math xmlns=\"http://www.w3.org/1998/Math/MathML\" >\\n  <semantics>\\n    <mrow class=\"MJX-TeXAtom-ORD\">\\n      <mstyle displaystyle=\"true\" scriptlevel=\"0\">\\n        <mn>0</mn>\\n        <mo>=</mo>\\n        <mi>&#x03B4;<!-- \\xce\\xb4 --></mi>\\n        <mi>L</mi>\\n        <mo>=</mo>\\n        <msubsup>\\n          <mo>&#x222B;<!-- \\xe2\\x88\\xab --></mo>\\n          <mrow class=\"MJX-TeXAtom-ORD\">\\n            <mo>&#x2212;<!-- \\xe2\\x88\\x92 --></mo>\\n            <mi mathvariant=\"normal\">&#x221E;<!-- \\xe2\\x88\\x9e --></mi>\\n          </mrow>\\n          <mrow class=\"MJX-TeXAtom-ORD\">\\n            <mi mathvariant=\"normal\">&#x221E;<!-- \\xe2\\x88\\x9e --></mi>\\n          </mrow>\\n        </msubsup>\\n        <mi>&#x03B4;<!-- \\xce\\xb4 --></mi>\\n        <mi>f</mi>\\n        <mo stretchy=\"false\">(</mo>\\n        <mi>x</mi>\\n        <mo stretchy=\"false\">)</mo>\\n        <mrow>\\n          <mo>(</mo>\\n          <mi>ln</mi>\\n          <mo>&#x2061;<!-- \\xe2\\x81\\xa1 --></mo>\\n          <mo stretchy=\"false\">(</mo>\\n          <mi>f</mi>\\n          <mo stretchy=\"false\">(</mo>\\n          <mi>x</mi>\\n          <mo stretchy=\"false\">)</mo>\\n          <mo stretchy=\"false\">)</mo>\\n          <mo>+</mo>\\n          <mn>1</mn>\\n          <mo>+</mo>\\n          <msub>\\n            <mi>&#x03BB;<!-- \\xce\\xbb --></mi>\\n            <mrow class=\"MJX-TeXAtom-ORD\">\\n              <mn>0</mn>\\n            </mrow>\\n          </msub>\\n          <mo>+</mo>\\n          <mi>&#x03BB;<!-- \\xce\\xbb --></mi>\\n          <mo stretchy=\"false\">(</mo>\\n          <mi>x</mi>\\n          <mo>&#x2212;<!-- \\xe2\\x88\\x92 --></mo>\\n          <mi>&#x03BC;<!-- \\xce\\xbc --></mi>\\n          <msup>\\n            <mo stretchy=\"false\">)</mo>\\n            <mrow class=\"MJX-TeXAtom-ORD\">\\n              <mn>2</mn>\\n            </mrow>\\n          </msup>\\n          <mo>)</mo>\\n        </mrow>\\n        <mspace width=\"thinmathspace\" />\\n        <mi>d</mi>\\n        <mi>x</mi>\\n      </mstyle>\\n    </mrow>\\n    <annotation encoding=\"application/x-tex\">{\\\\displaystyle 0=\\\\delta L=\\\\int _{-\\\\infty }^{\\\\infty }\\\\delta f(x)\\\\left(\\\\ln(f(x))+1+\\\\lambda _{0}+\\\\lambda (x-\\\\mu )^{2}\\\\right)\\\\,dx}</annotation>\\n  </semantics>\\n</math></span><img src=\"https://wikimedia.org/api/rest_v1/media/math/render/svg/bc31bcdb54ebb192657c9aa7bc6b68fe11d1ad03\" class=\"mwe-math-fallback-image-inline\" aria-hidden=\"true\" style=\"vertical-align: -2.338ex; width:56.'"
      ]
     },
     "execution_count": 385,
     "metadata": {},
     "output_type": "execute_result"
    }
   ],
   "source": [
    "data[100000:200000]"
   ]
  },
  {
   "cell_type": "code",
   "execution_count": 386,
   "metadata": {},
   "outputs": [
    {
     "ename": "ParseError",
     "evalue": "not well-formed (invalid token): line 66, column 94 (<string>)",
     "output_type": "error",
     "traceback": [
      "\u001b[0;36m  File \u001b[0;32m\"<string>\"\u001b[0;36m, line \u001b[0;32munknown\u001b[0m\n\u001b[0;31mParseError\u001b[0m\u001b[0;31m:\u001b[0m not well-formed (invalid token): line 66, column 94\n"
     ]
    }
   ],
   "source": [
    "import xml.etree.ElementTree as ET\n",
    "tree = ET.parse('prsed.html')\n",
    "root = tree.getroot()"
   ]
  },
  {
   "cell_type": "code",
   "execution_count": 171,
   "metadata": {
    "collapsed": true
   },
   "outputs": [],
   "source": [
    "dwnldd = list(re.findall(r'content=\\'.+\\'', data))"
   ]
  },
  {
   "cell_type": "code",
   "execution_count": 179,
   "metadata": {
    "collapsed": true
   },
   "outputs": [
    {
     "data": {
      "text/plain": [
       "['DOCTYPE',\n",
       " 'html',\n",
       " 'if',\n",
       " 'lt',\n",
       " 'IE',\n",
       " '7',\n",
       " 'html',\n",
       " 'class',\n",
       " 'no',\n",
       " 'js',\n",
       " 'lt',\n",
       " 'ie7',\n",
       " 'endif',\n",
       " 'if',\n",
       " 'IE',\n",
       " '7',\n",
       " 'html',\n",
       " 'class',\n",
       " 'no',\n",
       " 'js',\n",
       " 'ie7',\n",
       " 'endif',\n",
       " 'if',\n",
       " 'IE',\n",
       " '8',\n",
       " 'html',\n",
       " 'class',\n",
       " 'no',\n",
       " 'js',\n",
       " 'ie8',\n",
       " 'endif',\n",
       " 'if',\n",
       " 'IE',\n",
       " '9',\n",
       " 'html',\n",
       " 'class',\n",
       " 'no',\n",
       " 'js',\n",
       " 'ie9',\n",
       " 'endif',\n",
       " 'if',\n",
       " 'gt',\n",
       " 'IE',\n",
       " '9',\n",
       " 'html',\n",
       " 'class',\n",
       " 'no',\n",
       " 'js',\n",
       " 'endif',\n",
       " 'head',\n",
       " 'meta',\n",
       " 'http',\n",
       " 'equiv',\n",
       " 'Content',\n",
       " 'Type',\n",
       " 'content',\n",
       " 'text',\n",
       " 'html',\n",
       " 'charset',\n",
       " 'utf',\n",
       " '8',\n",
       " 'meta',\n",
       " 'http',\n",
       " 'equiv',\n",
       " 'X',\n",
       " 'UA',\n",
       " 'Compatible',\n",
       " 'content',\n",
       " 'IE',\n",
       " 'edge',\n",
       " 'chrome',\n",
       " '1',\n",
       " 'script',\n",
       " 'type',\n",
       " 'text',\n",
       " 'javascript',\n",
       " 'window',\n",
       " 'NREUM',\n",
       " 'NREUM',\n",
       " '__nr_require',\n",
       " 'function',\n",
       " 'e',\n",
       " 't',\n",
       " 'n',\n",
       " 'function',\n",
       " 'r',\n",
       " 'n',\n",
       " 'if',\n",
       " 't',\n",
       " 'n',\n",
       " 'var',\n",
       " 'o',\n",
       " 't',\n",
       " 'n',\n",
       " 'exports',\n",
       " 'e',\n",
       " 'n',\n",
       " '0',\n",
       " 'call',\n",
       " 'o',\n",
       " 'exports',\n",
       " 'function',\n",
       " 't',\n",
       " 'var',\n",
       " 'o',\n",
       " 'e',\n",
       " 'n',\n",
       " '1',\n",
       " 't',\n",
       " 'return',\n",
       " 'r',\n",
       " 'o',\n",
       " 't',\n",
       " 'o',\n",
       " 'o',\n",
       " 'exports',\n",
       " 'return',\n",
       " 't',\n",
       " 'n',\n",
       " 'exports',\n",
       " 'if',\n",
       " 'function',\n",
       " 'typeof',\n",
       " '__nr_require',\n",
       " 'return',\n",
       " '__nr_require',\n",
       " 'for',\n",
       " 'var',\n",
       " 'o',\n",
       " '0',\n",
       " 'o',\n",
       " 'n',\n",
       " 'length',\n",
       " 'o',\n",
       " 'r',\n",
       " 'n',\n",
       " 'o',\n",
       " 'return',\n",
       " 'r',\n",
       " '1',\n",
       " 'function',\n",
       " 'e',\n",
       " 't',\n",
       " 'n',\n",
       " 'function',\n",
       " 'r',\n",
       " 'function',\n",
       " 'o',\n",
       " 'e',\n",
       " 't',\n",
       " 'n',\n",
       " 'return',\n",
       " 'function',\n",
       " 'return',\n",
       " 'i',\n",
       " 'e',\n",
       " 'new',\n",
       " 'Date',\n",
       " 'getTime',\n",
       " 'concat',\n",
       " 'u',\n",
       " 'arguments',\n",
       " 't',\n",
       " 'null',\n",
       " 'this',\n",
       " 'n',\n",
       " 't',\n",
       " 'void',\n",
       " '0',\n",
       " 'this',\n",
       " 'var',\n",
       " 'i',\n",
       " 'e',\n",
       " 'handle',\n",
       " 'a',\n",
       " 'e',\n",
       " '2',\n",
       " 'u',\n",
       " 'e',\n",
       " '3',\n",
       " 'c',\n",
       " 'e',\n",
       " 'ee',\n",
       " 'get',\n",
       " 'tracer',\n",
       " 'f',\n",
       " 'NREUM',\n",
       " 'undefined',\n",
       " 'typeof',\n",
       " 'window',\n",
       " 'newrelic',\n",
       " 'newrelic',\n",
       " 'f',\n",
       " 'var',\n",
       " 's',\n",
       " 'setPageViewName',\n",
       " 'setCustomAttribute',\n",
       " 'setErrorHandler',\n",
       " 'finished',\n",
       " 'addToTrace',\n",
       " 'inlineHit',\n",
       " 'addRelease',\n",
       " 'l',\n",
       " 'api',\n",
       " 'p',\n",
       " 'l',\n",
       " 'ixn',\n",
       " 'a',\n",
       " 's',\n",
       " 'function',\n",
       " 'e',\n",
       " 't',\n",
       " 'f',\n",
       " 't',\n",
       " 'o',\n",
       " 'l',\n",
       " 't',\n",
       " '0',\n",
       " 'api',\n",
       " 'f',\n",
       " 'addPageAction',\n",
       " 'o',\n",
       " 'l',\n",
       " 'addPageAction',\n",
       " '0',\n",
       " 'f',\n",
       " 'setCurrentRouteName',\n",
       " 'o',\n",
       " 'l',\n",
       " 'routeName',\n",
       " '0',\n",
       " 't',\n",
       " 'exports',\n",
       " 'newrelic',\n",
       " 'f',\n",
       " 'interaction',\n",
       " 'function',\n",
       " 'return',\n",
       " 'new',\n",
       " 'r',\n",
       " 'get',\n",
       " 'var',\n",
       " 'd',\n",
       " 'r',\n",
       " 'prototype',\n",
       " 'createTracer',\n",
       " 'function',\n",
       " 'e',\n",
       " 't',\n",
       " 'var',\n",
       " 'n',\n",
       " 'r',\n",
       " 'this',\n",
       " 'o',\n",
       " 'function',\n",
       " 'typeof',\n",
       " 't',\n",
       " 'return',\n",
       " 'i',\n",
       " 'p',\n",
       " 'tracer',\n",
       " 'Date',\n",
       " 'now',\n",
       " 'e',\n",
       " 'n',\n",
       " 'r',\n",
       " 'function',\n",
       " 'if',\n",
       " 'c',\n",
       " 'emit',\n",
       " 'o',\n",
       " 'no',\n",
       " 'fn',\n",
       " 'start',\n",
       " 'Date',\n",
       " 'now',\n",
       " 'r',\n",
       " 'o',\n",
       " 'n',\n",
       " 'o',\n",
       " 'try',\n",
       " 'return',\n",
       " 't',\n",
       " 'apply',\n",
       " 'this',\n",
       " 'arguments',\n",
       " 'finally',\n",
       " 'c',\n",
       " 'emit',\n",
       " 'fn',\n",
       " 'end',\n",
       " 'Date',\n",
       " 'now',\n",
       " 'n',\n",
       " 'a',\n",
       " 'setName',\n",
       " 'setAttribute',\n",
       " 'save',\n",
       " 'ignore',\n",
       " 'onEnd',\n",
       " 'getContext',\n",
       " 'end',\n",
       " 'get',\n",
       " 'split',\n",
       " 'function',\n",
       " 'e',\n",
       " 't',\n",
       " 'd',\n",
       " 't',\n",
       " 'o',\n",
       " 'p',\n",
       " 't',\n",
       " 'newrelic',\n",
       " 'noticeError',\n",
       " 'function',\n",
       " 'e',\n",
       " 'string',\n",
       " 'typeof',\n",
       " 'e',\n",
       " 'e',\n",
       " 'new',\n",
       " 'Error',\n",
       " 'e',\n",
       " 'i',\n",
       " 'err',\n",
       " 'e',\n",
       " 'new',\n",
       " 'Date',\n",
       " 'getTime',\n",
       " '2',\n",
       " 'function',\n",
       " 'e',\n",
       " 't',\n",
       " 'n',\n",
       " 'function',\n",
       " 'r',\n",
       " 'e',\n",
       " 't',\n",
       " 'var',\n",
       " 'n',\n",
       " 'r',\n",
       " 'i',\n",
       " '0',\n",
       " 'for',\n",
       " 'r',\n",
       " 'in',\n",
       " 'e',\n",
       " 'o',\n",
       " 'call',\n",
       " 'e',\n",
       " 'r',\n",
       " 'n',\n",
       " 'i',\n",
       " 't',\n",
       " 'r',\n",
       " 'e',\n",
       " 'r',\n",
       " 'i',\n",
       " '1',\n",
       " 'return',\n",
       " 'n',\n",
       " 'var',\n",
       " 'o',\n",
       " 'Object',\n",
       " 'prototype',\n",
       " 'hasOwnProperty',\n",
       " 't',\n",
       " 'exports',\n",
       " 'r',\n",
       " '3',\n",
       " 'function',\n",
       " 'e',\n",
       " 't',\n",
       " 'n',\n",
       " 'function',\n",
       " 'r',\n",
       " 'e',\n",
       " 't',\n",
       " 'n',\n",
       " 't',\n",
       " 't',\n",
       " '0',\n",
       " 'undefined',\n",
       " 'typeof',\n",
       " 'n',\n",
       " 'n',\n",
       " 'e',\n",
       " 'e',\n",
       " 'length',\n",
       " '0',\n",
       " 'for',\n",
       " 'var',\n",
       " 'r',\n",
       " '1',\n",
       " 'o',\n",
       " 'n',\n",
       " 't',\n",
       " '0',\n",
       " 'i',\n",
       " 'Array',\n",
       " 'o',\n",
       " '0',\n",
       " '0',\n",
       " 'o',\n",
       " 'r',\n",
       " 'o',\n",
       " 'i',\n",
       " 'r',\n",
       " 'e',\n",
       " 't',\n",
       " 'r',\n",
       " 'return',\n",
       " 'i',\n",
       " 't',\n",
       " 'exports',\n",
       " 'r',\n",
       " 'ee',\n",
       " 'function',\n",
       " 'e',\n",
       " 't',\n",
       " 'n',\n",
       " 'function',\n",
       " 'r',\n",
       " 'function',\n",
       " 'o',\n",
       " 'e',\n",
       " 'function',\n",
       " 't',\n",
       " 'e',\n",
       " 'return',\n",
       " 'e',\n",
       " 'e',\n",
       " 'instanceof',\n",
       " 'r',\n",
       " 'e',\n",
       " 'e',\n",
       " 'c',\n",
       " 'e',\n",
       " 'u',\n",
       " 'i',\n",
       " 'i',\n",
       " 'function',\n",
       " 'n',\n",
       " 'n',\n",
       " 'r',\n",
       " 'o',\n",
       " 'if',\n",
       " 'p',\n",
       " 'aborted',\n",
       " 'e',\n",
       " 'e',\n",
       " 'n',\n",
       " 'r',\n",
       " 'o',\n",
       " 'for',\n",
       " 'var',\n",
       " 'i',\n",
       " 't',\n",
       " 'o',\n",
       " 'a',\n",
       " 'v',\n",
       " 'n',\n",
       " 'u',\n",
       " 'a',\n",
       " 'length',\n",
       " 'c',\n",
       " '0',\n",
       " 'c',\n",
       " 'u',\n",
       " 'c',\n",
       " 'a',\n",
       " 'c',\n",
       " 'apply',\n",
       " 'i',\n",
       " 'r',\n",
       " 'var',\n",
       " 'f',\n",
       " 's',\n",
       " 'w',\n",
       " 'n',\n",
       " 'return',\n",
       " 'f',\n",
       " 'f',\n",
       " 'push',\n",
       " 'y',\n",
       " 'n',\n",
       " 'r',\n",
       " 'i',\n",
       " 'i',\n",
       " 'function',\n",
       " 'd',\n",
       " 'e',\n",
       " 't',\n",
       " 'b',\n",
       " 'e',\n",
       " 'v',\n",
       " 'e',\n",
       " 'concat',\n",
       " 't',\n",
       " 'function',\n",
       " 'v',\n",
       " 'e',\n",
       " 'return',\n",
       " 'b',\n",
       " 'e',\n",
       " 'function',\n",
       " 'g',\n",
       " 'e',\n",
       " 'return',\n",
       " 'l',\n",
       " 'e',\n",
       " 'l',\n",
       " 'e',\n",
       " 'o',\n",
       " 'n',\n",
       " 'function',\n",
       " 'm',\n",
       " 'e',\n",
       " 't',\n",
       " 'f',\n",
       " 'e',\n",
       " 'function',\n",
       " 'e',\n",
       " 'n',\n",
       " 't',\n",
       " 't',\n",
       " 'feature',\n",
       " 'w',\n",
       " 'n',\n",
       " 't',\n",
       " 't',\n",
       " 'in',\n",
       " 's',\n",
       " 's',\n",
       " 't',\n",
       " 'var',\n",
       " 'b',\n",
       " 'w',\n",
       " 'y',\n",
       " 'on',\n",
       " 'd',\n",
       " 'emit',\n",
       " 'n',\n",
       " 'get',\n",
       " 'g',\n",
       " 'listeners',\n",
       " 'v',\n",
       " 'context',\n",
       " 't',\n",
       " 'buffer',\n",
       " 'm',\n",
       " 'abort',\n",
       " 'a',\n",
       " 'aborted',\n",
       " '1',\n",
       " 'return',\n",
       " 'y',\n",
       " 'function',\n",
       " 'i',\n",
       " 'return',\n",
       " 'new',\n",
       " 'r',\n",
       " 'function',\n",
       " 'a',\n",
       " 's',\n",
       " 'api',\n",
       " 's',\n",
       " 'feature',\n",
       " 'p',\n",
       " 'aborted',\n",
       " '0',\n",
       " 's',\n",
       " 'p',\n",
       " 'backlog',\n",
       " 'var',\n",
       " 'u',\n",
       " 'nr',\n",
       " 'context',\n",
       " 'c',\n",
       " 'e',\n",
       " 'gos',\n",
       " 'f',\n",
       " 'e',\n",
       " '2',\n",
       " 's',\n",
       " 'l',\n",
       " 'p',\n",
       " 't',\n",
       " 'exports',\n",
       " 'o',\n",
       " 'p',\n",
       " 'backlog',\n",
       " 's',\n",
       " 'gos',\n",
       " 'function',\n",
       " 'e',\n",
       " 't',\n",
       " 'n',\n",
       " 'function',\n",
       " 'r',\n",
       " 'e',\n",
       " 't',\n",
       " 'n',\n",
       " 'if',\n",
       " 'o',\n",
       " 'call',\n",
       " 'e',\n",
       " 't',\n",
       " 'return',\n",
       " 'e',\n",
       " 't',\n",
       " 'var',\n",
       " 'r',\n",
       " 'n',\n",
       " 'if',\n",
       " 'Object',\n",
       " 'defineProperty',\n",
       " 'Object',\n",
       " 'keys',\n",
       " 'try',\n",
       " 'return',\n",
       " 'Object',\n",
       " 'defineProperty',\n",
       " 'e',\n",
       " 't',\n",
       " 'value',\n",
       " 'r',\n",
       " 'writable',\n",
       " '0',\n",
       " 'enumerable',\n",
       " '1',\n",
       " 'r',\n",
       " 'catch',\n",
       " 'i',\n",
       " 'return',\n",
       " 'e',\n",
       " 't',\n",
       " 'r',\n",
       " 'r',\n",
       " 'var',\n",
       " 'o',\n",
       " 'Object',\n",
       " 'prototype',\n",
       " 'hasOwnProperty',\n",
       " 't',\n",
       " 'exports',\n",
       " 'r',\n",
       " 'handle',\n",
       " 'function',\n",
       " 'e',\n",
       " 't',\n",
       " 'n',\n",
       " 'function',\n",
       " 'r',\n",
       " 'e',\n",
       " 't',\n",
       " 'n',\n",
       " 'r',\n",
       " 'o',\n",
       " 'buffer',\n",
       " 'e',\n",
       " 'r',\n",
       " 'o',\n",
       " 'emit',\n",
       " 'e',\n",
       " 't',\n",
       " 'n',\n",
       " 'var',\n",
       " 'o',\n",
       " 'e',\n",
       " 'ee',\n",
       " 'get',\n",
       " 'handle',\n",
       " 't',\n",
       " 'exports',\n",
       " 'r',\n",
       " 'r',\n",
       " 'ee',\n",
       " 'o',\n",
       " 'id',\n",
       " 'function',\n",
       " 'e',\n",
       " 't',\n",
       " 'n',\n",
       " 'function',\n",
       " 'r',\n",
       " 'e',\n",
       " 'var',\n",
       " 't',\n",
       " 'typeof',\n",
       " 'e',\n",
       " 'return',\n",
       " 'e',\n",
       " 'object',\n",
       " 't',\n",
       " 'function',\n",
       " 't',\n",
       " '1',\n",
       " 'e',\n",
       " 'window',\n",
       " '0',\n",
       " 'a',\n",
       " 'e',\n",
       " 'i',\n",
       " 'function',\n",
       " 'return',\n",
       " 'o',\n",
       " 'var',\n",
       " 'o',\n",
       " '1',\n",
       " 'i',\n",
       " 'nr',\n",
       " 'id',\n",
       " 'a',\n",
       " 'e',\n",
       " 'gos',\n",
       " 't',\n",
       " 'exports',\n",
       " 'r',\n",
       " 'loader',\n",
       " 'function',\n",
       " 'e',\n",
       " 't',\n",
       " 'n',\n",
       " 'function',\n",
       " 'r',\n",
       " 'if',\n",
       " 'h',\n",
       " 'var',\n",
       " 'e',\n",
       " 'y',\n",
       " 'info',\n",
       " 'NREUM',\n",
       " 'info',\n",
       " 't',\n",
       " 'l',\n",
       " 'getElementsByTagName',\n",
       " 'script',\n",
       " '0',\n",
       " 'if',\n",
       " 'setTimeout',\n",
       " 'f',\n",
       " 'abort',\n",
       " '3e4',\n",
       " 'e',\n",
       " 'e',\n",
       " 'licenseKey',\n",
       " 'e',\n",
       " 'applicationID',\n",
       " 't',\n",
       " 'return',\n",
       " 'f',\n",
       " 'abort',\n",
       " 'c',\n",
       " 'b',\n",
       " 'function',\n",
       " 't',\n",
       " 'n',\n",
       " 'e',\n",
       " 't',\n",
       " 'e',\n",
       " 't',\n",
       " 'n',\n",
       " 'u',\n",
       " 'mark',\n",
       " 'onload',\n",
       " 'a',\n",
       " 'null',\n",
       " 'api',\n",
       " 'var',\n",
       " 'n',\n",
       " 'l',\n",
       " 'createElement',\n",
       " 'script',\n",
       " 'n',\n",
       " 'src',\n",
       " 'https',\n",
       " 'e',\n",
       " 'agent',\n",
       " 't',\n",
       " 'parentNode',\n",
       " 'insertBefore',\n",
       " 'n',\n",
       " 't',\n",
       " 'function',\n",
       " 'o',\n",
       " 'complete',\n",
       " 'l',\n",
       " 'readyState',\n",
       " 'i',\n",
       " 'function',\n",
       " 'i',\n",
       " 'u',\n",
       " 'mark',\n",
       " 'domContent',\n",
       " 'a',\n",
       " 'null',\n",
       " 'api',\n",
       " 'function',\n",
       " 'a',\n",
       " 'return',\n",
       " 'new',\n",
       " 'Date',\n",
       " 'getTime',\n",
       " 'var',\n",
       " 'u',\n",
       " 'e',\n",
       " 'handle',\n",
       " 'c',\n",
       " 'e',\n",
       " '2',\n",
       " 'f',\n",
       " 'e',\n",
       " 'ee',\n",
       " 's',\n",
       " 'window',\n",
       " 'l',\n",
       " 's',\n",
       " 'document',\n",
       " 'p',\n",
       " 'addEventListener',\n",
       " 'd',\n",
       " 'attachEvent',\n",
       " 'v',\n",
       " 's',\n",
       " 'XMLHttpRequest',\n",
       " 'g',\n",
       " 'v',\n",
       " 'v',\n",
       " 'prototype',\n",
       " 'NREUM',\n",
       " 'o',\n",
       " 'ST',\n",
       " 'setTimeout',\n",
       " 'CT',\n",
       " 'clearTimeout',\n",
       " 'XHR',\n",
       " 'v',\n",
       " 'REQ',\n",
       " 's',\n",
       " 'Request',\n",
       " 'EV',\n",
       " 's',\n",
       " 'Event',\n",
       " 'PR',\n",
       " 's',\n",
       " 'Promise',\n",
       " 'MO',\n",
       " 's',\n",
       " 'MutationObserver',\n",
       " 'e',\n",
       " '1',\n",
       " 'var',\n",
       " 'm',\n",
       " 'location',\n",
       " 'b',\n",
       " 'beacon',\n",
       " 'bam',\n",
       " 'nr',\n",
       " 'data',\n",
       " 'net',\n",
       " 'errorBeacon',\n",
       " 'bam',\n",
       " 'nr',\n",
       " 'data',\n",
       " 'net',\n",
       " 'agent',\n",
       " 'js',\n",
       " 'agent',\n",
       " 'newrelic',\n",
       " 'com',\n",
       " 'nr',\n",
       " '1016',\n",
       " 'min',\n",
       " 'js',\n",
       " 'w',\n",
       " 'v',\n",
       " 'g',\n",
       " 'g',\n",
       " 'p',\n",
       " 'CriOS',\n",
       " 'test',\n",
       " 'navigator',\n",
       " 'userAgent',\n",
       " 'y',\n",
       " 't',\n",
       " 'exports',\n",
       " 'offset',\n",
       " 'a',\n",
       " 'origin',\n",
       " 'm',\n",
       " 'features',\n",
       " 'xhrWrappable',\n",
       " 'w',\n",
       " 'l',\n",
       " 'p',\n",
       " 'l',\n",
       " 'p',\n",
       " 'DOMContentLoaded',\n",
       " 'i',\n",
       " '1',\n",
       " 's',\n",
       " 'p',\n",
       " 'load',\n",
       " 'r',\n",
       " '1',\n",
       " 'l',\n",
       " 'd',\n",
       " 'onreadystatechange',\n",
       " 'o',\n",
       " 's',\n",
       " 'd',\n",
       " 'onload',\n",
       " 'r',\n",
       " 'u',\n",
       " 'mark',\n",
       " 'firstbyte',\n",
       " 'a',\n",
       " 'null',\n",
       " 'api',\n",
       " 'var',\n",
       " 'h',\n",
       " '0',\n",
       " 'loader',\n",
       " 'script',\n",
       " 'meta',\n",
       " 'http',\n",
       " 'equiv',\n",
       " 'Cache',\n",
       " 'Control',\n",
       " 'content',\n",
       " 'no',\n",
       " 'cache',\n",
       " 'no',\n",
       " 'store',\n",
       " 'must',\n",
       " 'revalidate',\n",
       " 'meta',\n",
       " 'http',\n",
       " 'equiv',\n",
       " 'Pragma',\n",
       " 'content',\n",
       " 'no',\n",
       " 'cache',\n",
       " 'meta',\n",
       " 'http',\n",
       " 'equiv',\n",
       " 'Expires',\n",
       " 'content',\n",
       " '0',\n",
       " 'link',\n",
       " 'rel',\n",
       " 'apple',\n",
       " 'touch',\n",
       " 'icon',\n",
       " 'href',\n",
       " 'http',\n",
       " 's',\n",
       " 'rbk',\n",
       " 'ru',\n",
       " 'v4_sport_static',\n",
       " 'common',\n",
       " 'common',\n",
       " '7',\n",
       " '1',\n",
       " '32',\n",
       " 'images',\n",
       " 'apple',\n",
       " 'touch',\n",
       " 'icon',\n",
       " 'png',\n",
       " 'link',\n",
       " 'rel',\n",
       " 'apple',\n",
       " 'touch',\n",
       " 'icon',\n",
       " 'sizes',\n",
       " '40x40',\n",
       " 'href',\n",
       " 'http',\n",
       " 's',\n",
       " 'rbk',\n",
       " 'ru',\n",
       " 'v4_sport_static',\n",
       " 'common',\n",
       " 'common',\n",
       " '7',\n",
       " '1',\n",
       " '32',\n",
       " 'images',\n",
       " 'apple',\n",
       " 'touch',\n",
       " 'icon',\n",
       " '40x40',\n",
       " 'png',\n",
       " 'link',\n",
       " 'rel',\n",
       " 'apple',\n",
       " 'touch',\n",
       " 'icon',\n",
       " ...]"
      ]
     },
     "execution_count": 179,
     "metadata": {},
     "output_type": "execute_result"
    }
   ],
   "source": [
    "list(re.findall(r'\\w+', data))"
   ]
  },
  {
   "cell_type": "code",
   "execution_count": 172,
   "metadata": {},
   "outputs": [
    {
     "data": {
      "text/plain": [
       "[]"
      ]
     },
     "execution_count": 172,
     "metadata": {},
     "output_type": "execute_result"
    }
   ],
   "source": [
    "dwnldd"
   ]
  },
  {
   "cell_type": "code",
   "execution_count": 37,
   "metadata": {},
   "outputs": [
    {
     "ename": "OSError",
     "evalue": "Error reading file 'https://en.wikipedia.org/wiki/Normal_distribution': failed to load external entity \"https://en.wikipedia.org/wiki/Normal_distribution\"",
     "output_type": "error",
     "traceback": [
      "\u001b[0;31m---------------------------------------------------------------------------\u001b[0m",
      "\u001b[0;31mOSError\u001b[0m                                   Traceback (most recent call last)",
      "\u001b[0;32m<ipython-input-37-82f5c5805999>\u001b[0m in \u001b[0;36m<module>\u001b[0;34m()\u001b[0m\n\u001b[0;32m----> 1\u001b[0;31m \u001b[0mqweqwe\u001b[0m \u001b[0;34m=\u001b[0m \u001b[0mhtml\u001b[0m\u001b[0;34m.\u001b[0m\u001b[0mparse\u001b[0m\u001b[0;34m(\u001b[0m\u001b[0;34m'https://en.wikipedia.org/wiki/Normal_distribution'\u001b[0m\u001b[0;34m)\u001b[0m\u001b[0;34m\u001b[0m\u001b[0m\n\u001b[0m",
      "\u001b[0;32m/usr/local/lib/python3.6/site-packages/lxml/html/__init__.py\u001b[0m in \u001b[0;36mparse\u001b[0;34m(filename_or_url, parser, base_url, **kw)\u001b[0m\n\u001b[1;32m    938\u001b[0m     \u001b[0;32mif\u001b[0m \u001b[0mparser\u001b[0m \u001b[0;32mis\u001b[0m \u001b[0;32mNone\u001b[0m\u001b[0;34m:\u001b[0m\u001b[0;34m\u001b[0m\u001b[0m\n\u001b[1;32m    939\u001b[0m         \u001b[0mparser\u001b[0m \u001b[0;34m=\u001b[0m \u001b[0mhtml_parser\u001b[0m\u001b[0;34m\u001b[0m\u001b[0m\n\u001b[0;32m--> 940\u001b[0;31m     \u001b[0;32mreturn\u001b[0m \u001b[0metree\u001b[0m\u001b[0;34m.\u001b[0m\u001b[0mparse\u001b[0m\u001b[0;34m(\u001b[0m\u001b[0mfilename_or_url\u001b[0m\u001b[0;34m,\u001b[0m \u001b[0mparser\u001b[0m\u001b[0;34m,\u001b[0m \u001b[0mbase_url\u001b[0m\u001b[0;34m=\u001b[0m\u001b[0mbase_url\u001b[0m\u001b[0;34m,\u001b[0m \u001b[0;34m**\u001b[0m\u001b[0mkw\u001b[0m\u001b[0;34m)\u001b[0m\u001b[0;34m\u001b[0m\u001b[0m\n\u001b[0m\u001b[1;32m    941\u001b[0m \u001b[0;34m\u001b[0m\u001b[0m\n\u001b[1;32m    942\u001b[0m \u001b[0;34m\u001b[0m\u001b[0m\n",
      "\u001b[0;32msrc/lxml/lxml.etree.pyx\u001b[0m in \u001b[0;36mlxml.etree.parse (src/lxml/lxml.etree.c:81117)\u001b[0;34m()\u001b[0m\n",
      "\u001b[0;32msrc/lxml/parser.pxi\u001b[0m in \u001b[0;36mlxml.etree._parseDocument (src/lxml/lxml.etree.c:117848)\u001b[0;34m()\u001b[0m\n",
      "\u001b[0;32msrc/lxml/parser.pxi\u001b[0m in \u001b[0;36mlxml.etree._parseDocumentFromURL (src/lxml/lxml.etree.c:118195)\u001b[0;34m()\u001b[0m\n",
      "\u001b[0;32msrc/lxml/parser.pxi\u001b[0m in \u001b[0;36mlxml.etree._parseDocFromFile (src/lxml/lxml.etree.c:117107)\u001b[0;34m()\u001b[0m\n",
      "\u001b[0;32msrc/lxml/parser.pxi\u001b[0m in \u001b[0;36mlxml.etree._BaseParser._parseDocFromFile (src/lxml/lxml.etree.c:111653)\u001b[0;34m()\u001b[0m\n",
      "\u001b[0;32msrc/lxml/parser.pxi\u001b[0m in \u001b[0;36mlxml.etree._ParserContext._handleParseResultDoc (src/lxml/lxml.etree.c:105109)\u001b[0;34m()\u001b[0m\n",
      "\u001b[0;32msrc/lxml/parser.pxi\u001b[0m in \u001b[0;36mlxml.etree._handleParseResult (src/lxml/lxml.etree.c:106817)\u001b[0;34m()\u001b[0m\n",
      "\u001b[0;32msrc/lxml/parser.pxi\u001b[0m in \u001b[0;36mlxml.etree._raiseParseError (src/lxml/lxml.etree.c:105628)\u001b[0;34m()\u001b[0m\n",
      "\u001b[0;31mOSError\u001b[0m: Error reading file 'https://en.wikipedia.org/wiki/Normal_distribution': failed to load external entity \"https://en.wikipedia.org/wiki/Normal_distribution\""
     ]
    }
   ],
   "source": [
    "qweqwe = html.('https://en.wikipedia.org/wiki/Normal_distribution')"
   ]
  },
  {
   "cell_type": "code",
   "execution_count": 38,
   "metadata": {
    "collapsed": true
   },
   "outputs": [],
   "source": [
    "from lxml import html\n",
    "import bs4\n",
    "from bs4 import BeautifulSoup\n",
    "from urllib.request import urlopen\n",
    "\n",
    "class DataCollector(object):\n",
    "    def __init__(self, path):\n",
    "        with open(path, 'r') as f:\n",
    "            self.urls = f.read().splitlines()\n",
    "    \n",
    "    def get_data(self):\n",
    "        all_data = []\n",
    "        for url in self.urls:\n",
    "            conn = urlopen(url)\n",
    "            html_ = conn.read()\n",
    "            cur_data = BeautifulSoup(html_, 'html.parser')\n",
    "            all_data.append(cur_data.get_text())\n",
    "            \n",
    "        return all_data\n",
    "    \n",
    "    def print_to_file(self, data, filename):\n",
    "        with open(filename, 'w') as f:\n",
    "            f.write('\\n\\n'.join(data))\n",
    "    "
   ]
  },
  {
   "cell_type": "code",
   "execution_count": 28,
   "metadata": {
    "collapsed": true
   },
   "outputs": [],
   "source": [
    "dc = DataCollector('/Users/semenfedotov/Desktop/GitHub/python-da/HW/Task3/urls.txt')"
   ]
  },
  {
   "cell_type": "code",
   "execution_count": 29,
   "metadata": {},
   "outputs": [
    {
     "data": {
      "text/plain": [
       "['https://en.wikipedia.org/wiki/Normal_distribution',\n",
       " 'https://en.m.wikipedia.org/wiki/Gamma_distribution',\n",
       " 'https://en.wikipedia.org/wiki/Pareto_distribution',\n",
       " 'https://en.wikipedia.org/wiki/Student%27s_t-distribution']"
      ]
     },
     "execution_count": 29,
     "metadata": {},
     "output_type": "execute_result"
    }
   ],
   "source": [
    "dc.urls"
   ]
  },
  {
   "cell_type": "code",
   "execution_count": 30,
   "metadata": {
    "collapsed": true
   },
   "outputs": [],
   "source": [
    "datka = dc.get_data()"
   ]
  },
  {
   "cell_type": "code",
   "execution_count": 33,
   "metadata": {},
   "outputs": [
    {
     "data": {
      "text/plain": [
       "4"
      ]
     },
     "execution_count": 33,
     "metadata": {},
     "output_type": "execute_result"
    }
   ],
   "source": [
    "len(datka\n",
    "   )"
   ]
  },
  {
   "cell_type": "code",
   "execution_count": 34,
   "metadata": {
    "collapsed": true
   },
   "outputs": [],
   "source": [
    "dc.print_to_file(datka, 'fst_results_dc.txt')"
   ]
  },
  {
   "cell_type": "code",
   "execution_count": null,
   "metadata": {
    "collapsed": true
   },
   "outputs": [],
   "source": []
  },
  {
   "cell_type": "code",
   "execution_count": null,
   "metadata": {
    "collapsed": true
   },
   "outputs": [],
   "source": []
  },
  {
   "cell_type": "code",
   "execution_count": null,
   "metadata": {
    "collapsed": true
   },
   "outputs": [],
   "source": []
  },
  {
   "cell_type": "code",
   "execution_count": null,
   "metadata": {
    "collapsed": true
   },
   "outputs": [],
   "source": []
  },
  {
   "cell_type": "code",
   "execution_count": null,
   "metadata": {
    "collapsed": true
   },
   "outputs": [],
   "source": []
  },
  {
   "cell_type": "code",
   "execution_count": null,
   "metadata": {
    "collapsed": true
   },
   "outputs": [],
   "source": []
  },
  {
   "cell_type": "code",
   "execution_count": null,
   "metadata": {
    "collapsed": true
   },
   "outputs": [],
   "source": []
  },
  {
   "cell_type": "code",
   "execution_count": 46,
   "metadata": {},
   "outputs": [
    {
     "name": "stderr",
     "output_type": "stream",
     "text": [
      "E\n",
      "======================================================================\n",
      "ERROR: /Users/semenfedotov/Library/Jupyter/runtime/kernel-674997dd-308f-4999-b0d9-66b593a719bd (unittest.loader._FailedTest)\n",
      "----------------------------------------------------------------------\n",
      "AttributeError: module '__main__' has no attribute '/Users/semenfedotov/Library/Jupyter/runtime/kernel-674997dd-308f-4999-b0d9-66b593a719bd'\n",
      "\n",
      "----------------------------------------------------------------------\n",
      "Ran 1 test in 0.001s\n",
      "\n",
      "FAILED (errors=1)\n"
     ]
    },
    {
     "ename": "SystemExit",
     "evalue": "True",
     "output_type": "error",
     "traceback": [
      "An exception has occurred, use %tb to see the full traceback.\n",
      "\u001b[0;31mSystemExit\u001b[0m\u001b[0;31m:\u001b[0m True\n"
     ]
    },
    {
     "name": "stderr",
     "output_type": "stream",
     "text": [
      "/usr/local/lib/python3.6/site-packages/IPython/core/interactiveshell.py:2889: UserWarning: To exit: use 'exit', 'quit', or Ctrl-D.\n",
      "  warn(\"To exit: use 'exit', 'quit', or Ctrl-D.\", stacklevel=1)\n"
     ]
    }
   ],
   "source": [
    "#!/usr/bin/env python3\n",
    "from collections import defaultdict, OrderedDict, deque\n",
    "import unittest\n",
    "import re\n",
    "import argparse\n",
    "\n",
    "\n",
    "def tokenize(data, verbosity=True):\n",
    "    result = (list(re.findall(r'[a-zA-Zа-яА-Я]+|[\\d]+|.', data[0])))\n",
    "    if verbosity is True:\n",
    "        print('\\n'.join(result))\n",
    "    return result\n",
    "\n",
    "\n",
    "def count_probabilities(parsed, cur_data, verbosity=True):\n",
    "    to_return = []\n",
    "    depth = parsed.depth\n",
    "    giant_dict = {}\n",
    "    for cur_depth in (range(depth + 1)):\n",
    "        cur_len = defaultdict(float)\n",
    "        cur_counter = defaultdict(dict)\n",
    "        for i in range(len(cur_data)):\n",
    "            for j in range(cur_depth, len(cur_data[i])):\n",
    "                cur_seq = ' '.join(cur_data[i][j - cur_depth: j])\n",
    "                if cur_data[i][j] not in cur_counter[cur_seq]:\n",
    "                    cur_counter[cur_seq][cur_data[i][j]] = 1\n",
    "                else:\n",
    "                    cur_counter[cur_seq][cur_data[i][j]] += 1\n",
    "                cur_len[cur_seq] += 1\n",
    "        ansa = dict()\n",
    "        for k in cur_counter:\n",
    "            ansa[k] = defaultdict(float)\n",
    "            for k2 in cur_counter[k]:\n",
    "                ansa[k][k2] = cur_counter[k][k2] / cur_len[k]\n",
    "\n",
    "        ansa = OrderedDict(sorted(ansa.items()))\n",
    "        for k in ansa:\n",
    "            ansa[k] = OrderedDict(sorted(ansa[k].items()))\n",
    "            giant_dict[k] = ansa[k]\n",
    "#             for val in ansa[k]:\n",
    "#                 print('  {}: {:.2f}'.format(val, ansa[k][val]))\n",
    "\n",
    "        to_return.append(ansa)\n",
    "    giant_dict = OrderedDict(sorted(giant_dict.items()))\n",
    "    if verbosity is True:\n",
    "        for k in giant_dict:\n",
    "            print(k)\n",
    "    #         ansa[k] = OrderedDict(sorted(ansa[k].items()))\n",
    "    #         giant_dict[k] = ansa[k]\n",
    "            for val in giant_dict[k]:\n",
    "                print('  {}: {:.2f}'.format(val, giant_dict[k][val]))\n",
    "\n",
    "    return to_return\n",
    "\n",
    "\n",
    "def generate(parsed, cur_data, verbosity=False):\n",
    "    depth = parsed.depth\n",
    "    size = parsed.size\n",
    "    calculated_probs = count_probabilities(parsed, cur_data,\n",
    "                                           verbosity=verbosity)\n",
    "    our_text = []\n",
    "    cur_lenght = 0\n",
    "    cur_seq = deque()\n",
    "    while(cur_lenght < size):\n",
    "        seq_to_find = cur_seq\n",
    "        while ' '.join(seq_to_find) not in calculated_probs[len(seq_to_find)]:\n",
    "            seq_to_find.popleft()\n",
    "        candidates = calculated_probs[len(seq_to_find)][' '.join(seq_to_find)]\n",
    "        new_word = max(candidates, key=candidates.get)\n",
    "        our_text.append(new_word)\n",
    "        cur_lenght += 1\n",
    "        if len(cur_seq) == depth:\n",
    "            cur_seq.popleft()\n",
    "        cur_seq.append(new_word)\n",
    "\n",
    "    return our_text\n",
    "\n",
    "\n",
    "def main():\n",
    "\n",
    "    with open('./input.txt', 'r') as f:\n",
    "        data = f.read().splitlines()\n",
    "\n",
    "    args, data = data[0].split(), data[1:]\n",
    "    mode, args = args[0], args[1:]\n",
    "\n",
    "    parser = argparse.ArgumentParser()\n",
    "\n",
    "    if mode == 'tokenize':\n",
    "        tokenize(data)\n",
    "\n",
    "    elif mode == 'probabilities':\n",
    "        parser.add_argument('--depth', type=int)\n",
    "        parsed = parser.parse_args(args)\n",
    "        tokenized_data = []\n",
    "        for string in data:\n",
    "            tokenized_data.append(list(re.findall(r'[\\w]+', string)))\n",
    "        probs = count_probabilities(parsed, tokenized_data)\n",
    "        return probs\n",
    "\n",
    "    elif mode == 'generate':\n",
    "        parser.add_argument('--depth', type=int)\n",
    "        parser.add_argument('--size', type=int)\n",
    "        parsed = parser.parse_args(args)\n",
    "        tokenized_data = []\n",
    "        for string in data:\n",
    "            tokenized_data.append(list(re.findall(r'[a-zA-Zа-яА-Я]+|[\\d]+|.',\n",
    "                                  data[0])))\n",
    "        generated = generate(parsed, tokenized_data)\n",
    "        return generated\n",
    "\n",
    "    elif mode == 'test':\n",
    "        unittest.main()\n",
    "\n",
    "\n",
    "class TestTokenize(unittest.TestCase):\n",
    "    def test_1(self):\n",
    "        answer = ['eto', ' ', 'moi', ' ', 'perviy', ' ', 'test']\n",
    "        self.assertEquals(tokenize(['eto moi perviy test']), answer)\n",
    "\n",
    "    def test_2(self):\n",
    "        answer = ['С', ' ', 'КИРИЛЛИЦЕЙ', '!', ' ', 'РАБОТАЕТ', '!']\n",
    "        self.assertEquals(tokenize(['С КИРИЛЛИЦЕЙ! РАБОТАЕТ!']), answer)\n",
    "\n",
    "\n",
    "class TestCountProbabilities(unittest.TestCase):\n",
    "    pass\n",
    "\n",
    "\n",
    "class TestGenerate(unittest.TestCase):\n",
    "    pass\n",
    "\n",
    "\n",
    "if __name__ == '__main__':\n",
    "    main()\n"
   ]
  },
  {
   "cell_type": "code",
   "execution_count": null,
   "metadata": {
    "collapsed": true
   },
   "outputs": [],
   "source": []
  },
  {
   "cell_type": "code",
   "execution_count": null,
   "metadata": {
    "collapsed": true
   },
   "outputs": [],
   "source": []
  },
  {
   "cell_type": "code",
   "execution_count": null,
   "metadata": {
    "collapsed": true
   },
   "outputs": [],
   "source": []
  }
 ],
 "metadata": {
  "kernelspec": {
   "display_name": "Python 3",
   "language": "python",
   "name": "python3"
  },
  "language_info": {
   "codemirror_mode": {
    "name": "ipython",
    "version": 3
   },
   "file_extension": ".py",
   "mimetype": "text/x-python",
   "name": "python",
   "nbconvert_exporter": "python",
   "pygments_lexer": "ipython3",
   "version": "3.6.1"
  }
 },
 "nbformat": 4,
 "nbformat_minor": 2
}
